{
  "nbformat": 4,
  "nbformat_minor": 0,
  "metadata": {
    "colab": {
      "name": "Анализ",
      "provenance": [],
      "collapsed_sections": [],
      "toc_visible": true
    },
    "kernelspec": {
      "name": "python3",
      "display_name": "Python 3"
    }
  },
  "cells": [
    {
      "cell_type": "markdown",
      "metadata": {
        "id": "d74yU_xFnrP9"
      },
      "source": [
        "# **Анализ данных национального виктимизационного опроса**"
      ]
    },
    {
      "cell_type": "markdown",
      "metadata": {
        "id": "vesAI04eyU9Q"
      },
      "source": [
        "# Данный проект посвящен изучению преступности на территории Российской Федерации. Целью работы является выявление связей между разными характеристиками преступлений.\r\n",
        ">##### Данные для анализа собраны Институтом проблем правоприменения (ИПП) при ЕУ СПб и представляют результаты телефонного опроса респондентов не моложе 18 лет на основании простой случайной выборки телефонных номеров. Респонденты опрашивались не зависимо от гражданства, но, по понятным причинам, большинство (98.1%) были гражданами РФ. Вопросы делились на анкетные (пол, возраст, социо-демографический профиль), основной («были ли жертвой преступления») и уточняющие вопросы о преступлениях (где, когда и т.п.). Анкета составлена специальным образом профессионалами, учитывая многие особенности, например специфику русского языка.\r\n",
        "# Задачи данного исследования:\r\n",
        "*   Ознакомиться с форматом данных, осуществить предобработку.\r\n",
        "*   Сделать анализ данных опроса жителей РФ о преступлениях, жертвами которых они становились.\r\n",
        "*   Cделать визуализации найденных закономерностей.\r\n",
        "\r\n",
        "\r\n",
        "\r\n"
      ]
    },
    {
      "cell_type": "markdown",
      "metadata": {
        "id": "zhvSPTwcIlGh"
      },
      "source": [
        "##Структура проекта"
      ]
    },
    {
      "cell_type": "markdown",
      "metadata": {
        "id": "7YyOdIqCIuWh"
      },
      "source": [
        "---\r\n",
        "\r\n",
        "\r\n",
        "1.   [***Импорт необходимых библиотек***](#Импорт-необходимых-библиотек)\r\n",
        "2.   [***Загрузка и предварительная обработка данных***](#Загрузка-и-предварительная-обработка-данных)\r\n",
        "3.   [***Был ли респодент жертвой преступления?***](#Был-ли-респодент-жертвой-преступления?)\r\n",
        "4.   [***Анализ влияния полового признака на совершение преступлений и подверженность им***](#Анализ-влияния-полового-признака-на-совершение-преступлений-и-подверженность-им)\r\n",
        "5.   [***Был ли найден нападавший?***](#Был-ли-найден-нападавший?)\r\n",
        "6.   [***Была ли необходима медицинская помощь?***](#Была-ли-необходима-медицинская-помощь?)\r\n",
        "7.   [***Был ли нападавший при исполнении?***](#Был-ли-нападавший-при-исполнении?)\r\n",
        "8.   [***Анализ частоты видов преступлений***](#Анализ-частоты-видов-преступлений)\r\n",
        "9.   [***Анализ влияния возраста на подверженность преступлениям***](#Анализ-влияния-возраста-на-подверженность-преступлениям)\r\n",
        "10.   [***Анализ влияния дохода на подверженность преступлениям***](#Анализ-влияния-дохода-на-подверженность-преступлениям)\r\n",
        "11.   [***Анализ скорости реагирования правоохранителей***](#Анализ-скорости-реагирования-правоохранителей)\r\n",
        "12.   [***Анализ материального ущерба пострадавших***](#Анализ-материального-ущерба-пострадавших)\r\n",
        "13.   [***Анализ зависимости вида преступлений от времени суток***](#Анализ-зависимости-вида-преступлений-от-времени-суток)\r\n",
        "\r\n",
        "\r\n",
        "---\r\n",
        "\r\n",
        "\r\n",
        "\r\n"
      ]
    },
    {
      "cell_type": "markdown",
      "metadata": {
        "id": "4l08qe_-oL-D"
      },
      "source": [
        "## Импорт необходимых библиотек"
      ]
    },
    {
      "cell_type": "code",
      "metadata": {
        "id": "SBNjXjZ6zHnY"
      },
      "source": [
        "#Импорт\n",
        "\n",
        "import pandas as pd\n",
        "import numpy as np\n",
        "import matplotlib.pyplot as plt\n",
        "import sklearn\n",
        "from tensorflow.keras.utils import get_file as getfile  # Используется для того, чтобы скачать датасет напрямую\n",
        "import matplotlib.patches as mpatches\n",
        "from scipy import stats\n",
        "from copy import copy"
      ],
      "execution_count": 78,
      "outputs": []
    },
    {
      "cell_type": "markdown",
      "metadata": {
        "id": "0Yc7flCEl3Kp"
      },
      "source": [
        "## Загрузка и предварительная обработка данных"
      ]
    },
    {
      "cell_type": "markdown",
      "metadata": {
        "id": "vdSeyBbcMzog"
      },
      "source": [
        "*После изучения данных и рекомендаций в [технической документации к данным](https://globaldataversecommunityconsortium.github.io/dataverse-previewers/previewers/PDFPreview.html?fileid=3441892&siteUrl=https://dataverse.harvard.edu&datasetid=3382060&datasetversion=5.0&locale=en), было принято решение использовать **только сконструированные переменные**, которые не несут в себе субъективных оценок респондента и являются необходимыми для анализа, добавив к ним переменные:*\n",
        "\n",
        "\n",
        "*   crime_asked_medical_help – нуждалась ли жертва в оказании медицинской помощи (логическая переменная)\n",
        "\n",
        "*   offender_is_on_duty – был ли преступник должностным лицом или при исполнении (логическая переменная)\n",
        "\n",
        "\n",
        "\n"
      ]
    },
    {
      "cell_type": "markdown",
      "metadata": {
        "id": "Dl7gXrcpOLFN"
      },
      "source": [
        "**Загрузка файла с серверов Гарварда**"
      ]
    },
    {
      "cell_type": "code",
      "metadata": {
        "id": "PbQJ2R8LF0wE"
      },
      "source": [
        "# Загрузка файла с серверов Гарварда\n",
        "dataset_path = getfile(\"dataset.csv\", \"https://dataverse.harvard.edu/api/access/datafile/3676762?format=original&gbrecs=true\")"
      ],
      "execution_count": 79,
      "outputs": []
    },
    {
      "cell_type": "markdown",
      "metadata": {
        "id": "eUCysRzTOGLt"
      },
      "source": [
        "Преобразовываем данные в датафрейм\r\n"
      ]
    },
    {
      "cell_type": "code",
      "metadata": {
        "id": "x14Hz7XC82s9"
      },
      "source": [
        "raw_dataset = pd.read_csv(dataset_path)\r\n",
        "df = raw_dataset.copy()"
      ],
      "execution_count": 80,
      "outputs": []
    },
    {
      "cell_type": "code",
      "metadata": {
        "id": "ULGZ1rvn23VY"
      },
      "source": [
        "# # Преобразование в датафрейм\n",
        "# raw_dataset = pd.read_csv(dataset_path)\n",
        "# df = raw_dataset.copy()\n",
        "\n",
        "# # Добавляем переменные\n",
        "# df['crime_asked_medical_help'] = df['Q28']\n",
        "# df['offender_is_on_duty'] = df['Q12']\n",
        "# df['interview_duration'] = df['IVDur']\n",
        "# df.drop(df.iloc[:, :122], inplace=True, axis=1)\n",
        "\n",
        "\n",
        "# # Список удаляемых сконструированных переменных, несущих в себе субъективные оценки корреспондента / не используемых в анализе\n",
        "# drop_list = ['resp_place_is_city', 'resp_place_population',\n",
        "#          'resp_household_size', 'resp_is_enforcers_familiar',\n",
        "#          'resp_sample_group', 'resp_ses_is_pensioner', \n",
        "#          'resp_ses_is_welfare', 'resp_ses_is_looked_for_job', \n",
        "#          'resp_ses_job_is_manager', 'resp_ses_job_is_freelancer', \n",
        "#          'resp_ses_job_is_manual', 'resp_ses_job_is_private', \n",
        "#          'resp_ses_job_is_public', 'resp_ses_is_student', \n",
        "#          'resp_ses_is_employed', 'crime_is_offender_seen', \n",
        "#          'crime_place', 'crime_place_remote', 'crime_place_is_home', \n",
        "#          'crime_is_people_around','victim_is_self_accuse', \n",
        "#          'victim_damage_rub_ln', 'victim_is_repeat_contact_with_police', \n",
        "#          'victim_police_number_of_contacts', 'victim_who_contacted_police',\n",
        "#          'victim_way_to_contact_police', 'victim_is_compensated', \n",
        "#          'victim_is_reconciliation', 'victim_is_told_anyone', \n",
        "#          'offender_is_alone','offender_is_familiar', \n",
        "#          'offender_relationship'] \n",
        "\n",
        "# df.drop(drop_list, axis=1, inplace=True) # Удаление переменных\n",
        "\n",
        "# # Расставляем столбцы в правильном порядке\n",
        "# cols =['interview_duration', 'resp_is_male', 'resp_age',\n",
        "#        'resp_is_living_alone', 'resp_is_married',\n",
        "#        'resp_income', 'resp_edu', 'resp_is_crime_record',\n",
        "#        'resp_is_russian_citizen', 'resp_is_crime_victim', 'resp_ses',\n",
        "#        'crime_season', 'crime_is_remote', 'crime_is_property_damage',\n",
        "#        'crime_is_violent_damage', 'crime_is_seeking_medical_help',\n",
        "#        'crime_asked_medical_help', 'crime_is_property_acquisition',\n",
        "#        'crime_is_fraud', 'crime_is_threat', 'crime_type',\n",
        "#        'crime_place_grouped', 'crime_is_daytime', 'victim_is_reporting',\n",
        "#        'victim_damage_physical', 'victim_damage_rub',\n",
        "#        'victim_is_crime_case_initiated', 'victim_police_reaction_time',\n",
        "#        'victim_is_offender_found', 'victim_who_found_offender',\n",
        "#        'victim_is_offender_punished', 'victim_is_went_to_court',\n",
        "#        'victim_compensation', 'offender_is_male', 'offender_is_on_duty',\n",
        "#        'offender_is_drug_intoxicated', 'offender_relationship_grouped']\n",
        "\n",
        "# df = df[cols]\n",
        "\n",
        "# df.head()"
      ],
      "execution_count": 81,
      "outputs": []
    },
    {
      "cell_type": "markdown",
      "metadata": {
        "id": "NfR8kH1H5LGX"
      },
      "source": [
        "Добавляем указанные переменные, удаляем исходные переменные, оставляя только сконструированные"
      ]
    },
    {
      "cell_type": "code",
      "metadata": {
        "id": "fteceYKh5EXX"
      },
      "source": [
        "# Добавляем переменные\r\n",
        "df['crime_asked_medical_help'] = df['Q28']\r\n",
        "df['offender_is_on_duty'] = df['Q12']\r\n",
        "df['interview_duration'] = df['IVDur']\r\n",
        "\r\n",
        "# Удаляем исходные переменные\r\n",
        "df.drop(df.iloc[:, :122], inplace=True, axis=1)"
      ],
      "execution_count": 82,
      "outputs": []
    },
    {
      "cell_type": "markdown",
      "metadata": {
        "id": "2NyX275S6nY-"
      },
      "source": [
        "Удаляем сконструированные переменные, несущие в себе субъективные оценки корреспондента / не используемые в анализе"
      ]
    },
    {
      "cell_type": "code",
      "metadata": {
        "id": "L72KDKJo7SqT"
      },
      "source": [
        "# Список удаляемых сконструированных переменных, несущих в себе субъективные оценки корреспондента / не используемых в анализе\r\n",
        "drop_list = ['resp_place_is_city', 'resp_place_population',\r\n",
        "         'resp_household_size', 'resp_is_enforcers_familiar',\r\n",
        "         'resp_sample_group', 'resp_ses_is_pensioner', \r\n",
        "         'resp_ses_is_welfare', 'resp_ses_is_looked_for_job', \r\n",
        "         'resp_ses_job_is_manager', 'resp_ses_job_is_freelancer', \r\n",
        "         'resp_ses_job_is_manual', 'resp_ses_job_is_private', \r\n",
        "         'resp_ses_job_is_public', 'resp_ses_is_student', \r\n",
        "         'resp_ses_is_employed', 'crime_is_offender_seen', \r\n",
        "         'crime_place', 'crime_place_remote', 'crime_place_is_home', \r\n",
        "         'crime_is_people_around','victim_is_self_accuse', \r\n",
        "         'victim_damage_rub_ln', 'victim_is_repeat_contact_with_police', \r\n",
        "         'victim_police_number_of_contacts', 'victim_who_contacted_police',\r\n",
        "         'victim_way_to_contact_police', 'victim_is_compensated', \r\n",
        "         'victim_is_reconciliation', 'victim_is_told_anyone', \r\n",
        "         'offender_is_alone','offender_is_familiar', \r\n",
        "         'offender_relationship'] \r\n",
        "\r\n",
        "df.drop(drop_list, axis=1, inplace=True) # Удаление переменных\r\n",
        "\r\n",
        "# Расставляем столбцы в правильном порядке\r\n",
        "cols =['interview_duration', 'resp_is_male', 'resp_age',\r\n",
        "       'resp_is_living_alone', 'resp_is_married',\r\n",
        "       'resp_income', 'resp_edu', 'resp_is_crime_record',\r\n",
        "       'resp_is_russian_citizen', 'resp_is_crime_victim', 'resp_ses',\r\n",
        "       'crime_season', 'crime_is_remote', 'crime_is_property_damage',\r\n",
        "       'crime_is_violent_damage', 'crime_is_seeking_medical_help',\r\n",
        "       'crime_asked_medical_help', 'crime_is_property_acquisition',\r\n",
        "       'crime_is_fraud', 'crime_is_threat', 'crime_type',\r\n",
        "       'crime_place_grouped', 'crime_is_daytime', 'victim_is_reporting',\r\n",
        "       'victim_damage_physical', 'victim_damage_rub',\r\n",
        "       'victim_is_crime_case_initiated', 'victim_police_reaction_time',\r\n",
        "       'victim_is_offender_found', 'victim_who_found_offender',\r\n",
        "       'victim_is_offender_punished', 'victim_is_went_to_court',\r\n",
        "       'victim_compensation', 'offender_is_male', 'offender_is_on_duty',\r\n",
        "       'offender_is_drug_intoxicated', 'offender_relationship_grouped']\r\n",
        "\r\n",
        "df = df[cols]"
      ],
      "execution_count": 83,
      "outputs": []
    },
    {
      "cell_type": "markdown",
      "metadata": {
        "id": "T5UjMHJ91UFK"
      },
      "source": [
        "Создаем переменные, содержащие цвета для последующего использования при построении графиков в едином стиле"
      ]
    },
    {
      "cell_type": "code",
      "metadata": {
        "id": "goOywOMK1fzo"
      },
      "source": [
        "colors = ['powderblue',\r\n",
        "          'steelblue',\r\n",
        "          'deepskyblue',\r\n",
        "          'lightblue',\r\n",
        "          'darkturquoise',\r\n",
        "          'cadetblue',\r\n",
        "          'teal']\r\n",
        "\r\n",
        "pltclr = 'silver'\r\n",
        "digclr = 'whitesmoke'"
      ],
      "execution_count": 84,
      "outputs": []
    },
    {
      "cell_type": "markdown",
      "metadata": {
        "id": "Kzow9-RN1mLM"
      },
      "source": [
        "Проведем настройку библиотеки ***Pandas***, в частности отключим предупреждение о копировании данных"
      ]
    },
    {
      "cell_type": "code",
      "metadata": {
        "id": "9eKdjOk01lLb"
      },
      "source": [
        "pd.options.mode.chained_assignment = None  # default='warn'"
      ],
      "execution_count": 85,
      "outputs": []
    },
    {
      "cell_type": "markdown",
      "metadata": {
        "id": "WFspACCO8Yt8"
      },
      "source": [
        "---\r\n",
        "***Итоговый вид данных после исходной предобработки:***\r\n",
        "\r\n",
        "\r\n"
      ]
    },
    {
      "cell_type": "code",
      "metadata": {
        "colab": {
          "base_uri": "https://localhost:8080/",
          "height": 218
        },
        "id": "GIIuycI48rAx",
        "outputId": "a1c7a00e-c654-432f-a900-f9afae4da030"
      },
      "source": [
        "df.head()"
      ],
      "execution_count": 86,
      "outputs": [
        {
          "output_type": "execute_result",
          "data": {
            "text/html": [
              "<div>\n",
              "<style scoped>\n",
              "    .dataframe tbody tr th:only-of-type {\n",
              "        vertical-align: middle;\n",
              "    }\n",
              "\n",
              "    .dataframe tbody tr th {\n",
              "        vertical-align: top;\n",
              "    }\n",
              "\n",
              "    .dataframe thead th {\n",
              "        text-align: right;\n",
              "    }\n",
              "</style>\n",
              "<table border=\"1\" class=\"dataframe\">\n",
              "  <thead>\n",
              "    <tr style=\"text-align: right;\">\n",
              "      <th></th>\n",
              "      <th>interview_duration</th>\n",
              "      <th>resp_is_male</th>\n",
              "      <th>resp_age</th>\n",
              "      <th>resp_is_living_alone</th>\n",
              "      <th>resp_is_married</th>\n",
              "      <th>resp_income</th>\n",
              "      <th>resp_edu</th>\n",
              "      <th>resp_is_crime_record</th>\n",
              "      <th>resp_is_russian_citizen</th>\n",
              "      <th>resp_is_crime_victim</th>\n",
              "      <th>resp_ses</th>\n",
              "      <th>crime_season</th>\n",
              "      <th>crime_is_remote</th>\n",
              "      <th>crime_is_property_damage</th>\n",
              "      <th>crime_is_violent_damage</th>\n",
              "      <th>crime_is_seeking_medical_help</th>\n",
              "      <th>crime_asked_medical_help</th>\n",
              "      <th>crime_is_property_acquisition</th>\n",
              "      <th>crime_is_fraud</th>\n",
              "      <th>crime_is_threat</th>\n",
              "      <th>crime_type</th>\n",
              "      <th>crime_place_grouped</th>\n",
              "      <th>crime_is_daytime</th>\n",
              "      <th>victim_is_reporting</th>\n",
              "      <th>victim_damage_physical</th>\n",
              "      <th>victim_damage_rub</th>\n",
              "      <th>victim_is_crime_case_initiated</th>\n",
              "      <th>victim_police_reaction_time</th>\n",
              "      <th>victim_is_offender_found</th>\n",
              "      <th>victim_who_found_offender</th>\n",
              "      <th>victim_is_offender_punished</th>\n",
              "      <th>victim_is_went_to_court</th>\n",
              "      <th>victim_compensation</th>\n",
              "      <th>offender_is_male</th>\n",
              "      <th>offender_is_on_duty</th>\n",
              "      <th>offender_is_drug_intoxicated</th>\n",
              "      <th>offender_relationship_grouped</th>\n",
              "    </tr>\n",
              "  </thead>\n",
              "  <tbody>\n",
              "    <tr>\n",
              "      <th>0</th>\n",
              "      <td>544</td>\n",
              "      <td>0</td>\n",
              "      <td>57</td>\n",
              "      <td>0.0</td>\n",
              "      <td>0.0</td>\n",
              "      <td>3.0</td>\n",
              "      <td>3.0</td>\n",
              "      <td>0.0</td>\n",
              "      <td>1.0</td>\n",
              "      <td>1</td>\n",
              "      <td>2.0</td>\n",
              "      <td>3.0</td>\n",
              "      <td>1.0</td>\n",
              "      <td>1.0</td>\n",
              "      <td>0.0</td>\n",
              "      <td>0.0</td>\n",
              "      <td>NaN</td>\n",
              "      <td>1.0</td>\n",
              "      <td>1.0</td>\n",
              "      <td>0.0</td>\n",
              "      <td>6.0</td>\n",
              "      <td>7.0</td>\n",
              "      <td>1.0</td>\n",
              "      <td>0.0</td>\n",
              "      <td>NaN</td>\n",
              "      <td>300.0</td>\n",
              "      <td>NaN</td>\n",
              "      <td>NaN</td>\n",
              "      <td>0.0</td>\n",
              "      <td>NaN</td>\n",
              "      <td>NaN</td>\n",
              "      <td>NaN</td>\n",
              "      <td>4.0</td>\n",
              "      <td>NaN</td>\n",
              "      <td>NaN</td>\n",
              "      <td>NaN</td>\n",
              "      <td>NaN</td>\n",
              "    </tr>\n",
              "    <tr>\n",
              "      <th>1</th>\n",
              "      <td>1643</td>\n",
              "      <td>0</td>\n",
              "      <td>59</td>\n",
              "      <td>0.0</td>\n",
              "      <td>1.0</td>\n",
              "      <td>NaN</td>\n",
              "      <td>3.0</td>\n",
              "      <td>0.0</td>\n",
              "      <td>1.0</td>\n",
              "      <td>1</td>\n",
              "      <td>2.0</td>\n",
              "      <td>1.0</td>\n",
              "      <td>0.0</td>\n",
              "      <td>1.0</td>\n",
              "      <td>0.0</td>\n",
              "      <td>0.0</td>\n",
              "      <td>NaN</td>\n",
              "      <td>1.0</td>\n",
              "      <td>0.0</td>\n",
              "      <td>0.0</td>\n",
              "      <td>3.0</td>\n",
              "      <td>2.0</td>\n",
              "      <td>1.0</td>\n",
              "      <td>1.0</td>\n",
              "      <td>NaN</td>\n",
              "      <td>80000.0</td>\n",
              "      <td>1.0</td>\n",
              "      <td>1.0</td>\n",
              "      <td>1.0</td>\n",
              "      <td>1.0</td>\n",
              "      <td>0.0</td>\n",
              "      <td>0.0</td>\n",
              "      <td>4.0</td>\n",
              "      <td>1.0</td>\n",
              "      <td>NaN</td>\n",
              "      <td>0.0</td>\n",
              "      <td>6.0</td>\n",
              "    </tr>\n",
              "    <tr>\n",
              "      <th>2</th>\n",
              "      <td>676</td>\n",
              "      <td>0</td>\n",
              "      <td>35</td>\n",
              "      <td>0.0</td>\n",
              "      <td>1.0</td>\n",
              "      <td>NaN</td>\n",
              "      <td>3.0</td>\n",
              "      <td>0.0</td>\n",
              "      <td>1.0</td>\n",
              "      <td>1</td>\n",
              "      <td>1.0</td>\n",
              "      <td>1.0</td>\n",
              "      <td>1.0</td>\n",
              "      <td>1.0</td>\n",
              "      <td>0.0</td>\n",
              "      <td>0.0</td>\n",
              "      <td>NaN</td>\n",
              "      <td>1.0</td>\n",
              "      <td>1.0</td>\n",
              "      <td>0.0</td>\n",
              "      <td>6.0</td>\n",
              "      <td>7.0</td>\n",
              "      <td>1.0</td>\n",
              "      <td>1.0</td>\n",
              "      <td>NaN</td>\n",
              "      <td>3000.0</td>\n",
              "      <td>1.0</td>\n",
              "      <td>NaN</td>\n",
              "      <td>1.0</td>\n",
              "      <td>1.0</td>\n",
              "      <td>1.0</td>\n",
              "      <td>1.0</td>\n",
              "      <td>1.0</td>\n",
              "      <td>NaN</td>\n",
              "      <td>NaN</td>\n",
              "      <td>NaN</td>\n",
              "      <td>NaN</td>\n",
              "    </tr>\n",
              "    <tr>\n",
              "      <th>3</th>\n",
              "      <td>510</td>\n",
              "      <td>0</td>\n",
              "      <td>22</td>\n",
              "      <td>1.0</td>\n",
              "      <td>0.0</td>\n",
              "      <td>3.0</td>\n",
              "      <td>3.0</td>\n",
              "      <td>0.0</td>\n",
              "      <td>1.0</td>\n",
              "      <td>1</td>\n",
              "      <td>3.0</td>\n",
              "      <td>3.0</td>\n",
              "      <td>0.0</td>\n",
              "      <td>1.0</td>\n",
              "      <td>0.0</td>\n",
              "      <td>0.0</td>\n",
              "      <td>NaN</td>\n",
              "      <td>1.0</td>\n",
              "      <td>1.0</td>\n",
              "      <td>0.0</td>\n",
              "      <td>5.0</td>\n",
              "      <td>1.0</td>\n",
              "      <td>1.0</td>\n",
              "      <td>1.0</td>\n",
              "      <td>NaN</td>\n",
              "      <td>7000.0</td>\n",
              "      <td>0.0</td>\n",
              "      <td>1.0</td>\n",
              "      <td>0.0</td>\n",
              "      <td>NaN</td>\n",
              "      <td>NaN</td>\n",
              "      <td>NaN</td>\n",
              "      <td>4.0</td>\n",
              "      <td>NaN</td>\n",
              "      <td>NaN</td>\n",
              "      <td>NaN</td>\n",
              "      <td>NaN</td>\n",
              "    </tr>\n",
              "    <tr>\n",
              "      <th>4</th>\n",
              "      <td>1107</td>\n",
              "      <td>0</td>\n",
              "      <td>79</td>\n",
              "      <td>0.0</td>\n",
              "      <td>1.0</td>\n",
              "      <td>1.0</td>\n",
              "      <td>3.0</td>\n",
              "      <td>0.0</td>\n",
              "      <td>1.0</td>\n",
              "      <td>1</td>\n",
              "      <td>2.0</td>\n",
              "      <td>3.0</td>\n",
              "      <td>1.0</td>\n",
              "      <td>0.0</td>\n",
              "      <td>0.0</td>\n",
              "      <td>0.0</td>\n",
              "      <td>NaN</td>\n",
              "      <td>0.0</td>\n",
              "      <td>0.0</td>\n",
              "      <td>0.0</td>\n",
              "      <td>8.0</td>\n",
              "      <td>7.0</td>\n",
              "      <td>1.0</td>\n",
              "      <td>1.0</td>\n",
              "      <td>NaN</td>\n",
              "      <td>0.0</td>\n",
              "      <td>1.0</td>\n",
              "      <td>2.0</td>\n",
              "      <td>0.0</td>\n",
              "      <td>NaN</td>\n",
              "      <td>NaN</td>\n",
              "      <td>0.0</td>\n",
              "      <td>4.0</td>\n",
              "      <td>1.0</td>\n",
              "      <td>NaN</td>\n",
              "      <td>0.0</td>\n",
              "      <td>6.0</td>\n",
              "    </tr>\n",
              "  </tbody>\n",
              "</table>\n",
              "</div>"
            ],
            "text/plain": [
              "   interview_duration  ...  offender_relationship_grouped\n",
              "0                 544  ...                            NaN\n",
              "1                1643  ...                            6.0\n",
              "2                 676  ...                            NaN\n",
              "3                 510  ...                            NaN\n",
              "4                1107  ...                            6.0\n",
              "\n",
              "[5 rows x 37 columns]"
            ]
          },
          "metadata": {
            "tags": []
          },
          "execution_count": 86
        }
      ]
    },
    {
      "cell_type": "markdown",
      "metadata": {
        "id": "YjzTrRO4Aod4"
      },
      "source": [
        "**Вывод:**\r\n",
        "> Мы загрузили и предобработали данные согласно рекомендациям технической документации. Теперь мы можем приступить к анализу."
      ]
    },
    {
      "cell_type": "markdown",
      "metadata": {
        "id": "IScyg5RX9X7a"
      },
      "source": [
        "---"
      ]
    },
    {
      "cell_type": "markdown",
      "metadata": {
        "id": "Oih8d_z09meT"
      },
      "source": [
        "# Анализ данных"
      ]
    },
    {
      "cell_type": "markdown",
      "metadata": {
        "id": "5xV0iBOTw5I8"
      },
      "source": [
        "## Был ли респодент жертвой преступления?\r\n"
      ]
    },
    {
      "cell_type": "markdown",
      "metadata": {
        "id": "FOgon1Ik3Q7f"
      },
      "source": [
        "Определим процентное отношение людей, которые являлись жертвами преступлений среди опрошенных."
      ]
    },
    {
      "cell_type": "markdown",
      "metadata": {
        "id": "j1pcAYl73zQI"
      },
      "source": [
        "Создадим функцию для замены номера категории на её название"
      ]
    },
    {
      "cell_type": "code",
      "metadata": {
        "id": "NAweSYjg3ylH"
      },
      "source": [
        "def ifvictim(x):\r\n",
        "  if x:\r\n",
        "    return \"Является\"\r\n",
        "  else:\r\n",
        "    return \"Не является\""
      ],
      "execution_count": 87,
      "outputs": []
    },
    {
      "cell_type": "markdown",
      "metadata": {
        "id": "POGHy9Vq3_Sn"
      },
      "source": [
        "Создадим необходимую выборку из датафрейма и определим, достаточен ли ее размер для последующего анализа"
      ]
    },
    {
      "cell_type": "code",
      "metadata": {
        "colab": {
          "base_uri": "https://localhost:8080/"
        },
        "id": "T_UVJoyexFIZ",
        "outputId": "7300408f-b19f-457f-d1a6-58fe2654a8f3"
      },
      "source": [
        "resp_is_victim = df['resp_is_crime_victim'].dropna() \\\r\n",
        "                        .apply(ifvictim)\r\n",
        "\r\n",
        "print(\"Выборка содержит\", len(resp_is_victim), \"строк\")"
      ],
      "execution_count": 88,
      "outputs": [
        {
          "output_type": "stream",
          "text": [
            "Выборка содержит 16818 строк\n"
          ],
          "name": "stdout"
        }
      ]
    },
    {
      "cell_type": "markdown",
      "metadata": {
        "id": "OhLzM42o5ZYA"
      },
      "source": [
        "Посчитаем процентное содержание каждой категории в выборке"
      ]
    },
    {
      "cell_type": "code",
      "metadata": {
        "colab": {
          "base_uri": "https://localhost:8080/"
        },
        "id": "WF_N91jj4IP8",
        "outputId": "e29d1292-12ce-4752-ca44-a41b16c1ac6a"
      },
      "source": [
        "resp_is_victim_count = resp_is_victim.value_counts(1).sort_values()\r\n",
        "\r\n",
        "print(\"Является ли респондент жертвой преступления?\")\r\n",
        "for i in range(len(resp_is_victim_count)):\r\n",
        "  print(\"{} - {:.3f}%\".format(resp_is_victim_count.index[i],\r\n",
        "                              resp_is_victim_count[i] * 100))"
      ],
      "execution_count": 89,
      "outputs": [
        {
          "output_type": "stream",
          "text": [
            "Является ли респондент жертвой преступления?\n",
            "Является - 17.844%\n",
            "Не является - 82.156%\n"
          ],
          "name": "stdout"
        }
      ]
    },
    {
      "cell_type": "markdown",
      "metadata": {
        "id": "AOx5uJ3cxMol"
      },
      "source": [
        "Построим по полученным значениям диаграмму"
      ]
    },
    {
      "cell_type": "code",
      "metadata": {
        "colab": {
          "base_uri": "https://localhost:8080/",
          "height": 482
        },
        "id": "UE1CQ6DNxJcg",
        "outputId": "69f578ff-9af4-49e1-835b-5711882af091"
      },
      "source": [
        "# Красивые графики\r\n",
        "plt.figure(figsize=(12, 8), linewidth=8, edgecolor=\"#04253a\").set_facecolor(digclr)\r\n",
        "plt.pie(resp_is_victim_count.tolist(), labels=resp_is_victim_count.index,\r\n",
        "        colors=('forestgreen', 'firebrick'), explode=(0, 0.15),\r\n",
        "        shadow=True, autopct='%1.1f%%')\r\n",
        "\r\n",
        "plt.title(\"Является ли респондент жертвой преступления\")\r\n",
        "plt.show()"
      ],
      "execution_count": 90,
      "outputs": [
        {
          "output_type": "display_data",
          "data": {
            "image/png": "[encoded data removed]",
            "text/plain": [
              "<Figure size 864x576 with 1 Axes>"
            ]
          },
          "metadata": {
            "tags": []
          }
        }
      ]
    },
    {
      "cell_type": "markdown",
      "metadata": {
        "id": "3eHQlQ8G3aXX"
      },
      "source": [
        "**Вывод:**\r\n",
        "> Почти каждый четвертый опрошенный является жертвой преступления"
      ]
    },
    {
      "cell_type": "markdown",
      "metadata": {
        "id": "gceqDatSxZoO"
      },
      "source": [
        "***Для последующего анализа разделим данные на две выборки:***\r\n",
        "\r\n",
        "*   Лица, являющиеся жертвой преступлений – ***victims***\r\n",
        "*   Лица, не являющиеся жертвой преступлений – ***not_victims***\r\n",
        "\r\n"
      ]
    },
    {
      "cell_type": "code",
      "metadata": {
        "id": "Ym3t7k3Lx8Z-"
      },
      "source": [
        "victims = df[df['resp_is_crime_victim'] == 1]\r\n",
        "\r\n",
        "not_victims = df[df['resp_is_crime_victim'] == 0]"
      ],
      "execution_count": 91,
      "outputs": []
    },
    {
      "cell_type": "markdown",
      "metadata": {
        "id": "DMNWhrEiAGfJ"
      },
      "source": [
        "***Вид данных после разбиения на две выборки:***"
      ]
    },
    {
      "cell_type": "code",
      "metadata": {
        "colab": {
          "base_uri": "https://localhost:8080/",
          "height": 218
        },
        "id": "8HEou_G30gNi",
        "outputId": "a5918c3e-4de6-481e-871e-0cf5e6dc0ae6"
      },
      "source": [
        "victims.head(5)"
      ],
      "execution_count": 92,
      "outputs": [
        {
          "output_type": "execute_result",
          "data": {
            "text/html": [
              "<div>\n",
              "<style scoped>\n",
              "    .dataframe tbody tr th:only-of-type {\n",
              "        vertical-align: middle;\n",
              "    }\n",
              "\n",
              "    .dataframe tbody tr th {\n",
              "        vertical-align: top;\n",
              "    }\n",
              "\n",
              "    .dataframe thead th {\n",
              "        text-align: right;\n",
              "    }\n",
              "</style>\n",
              "<table border=\"1\" class=\"dataframe\">\n",
              "  <thead>\n",
              "    <tr style=\"text-align: right;\">\n",
              "      <th></th>\n",
              "      <th>interview_duration</th>\n",
              "      <th>resp_is_male</th>\n",
              "      <th>resp_age</th>\n",
              "      <th>resp_is_living_alone</th>\n",
              "      <th>resp_is_married</th>\n",
              "      <th>resp_income</th>\n",
              "      <th>resp_edu</th>\n",
              "      <th>resp_is_crime_record</th>\n",
              "      <th>resp_is_russian_citizen</th>\n",
              "      <th>resp_is_crime_victim</th>\n",
              "      <th>resp_ses</th>\n",
              "      <th>crime_season</th>\n",
              "      <th>crime_is_remote</th>\n",
              "      <th>crime_is_property_damage</th>\n",
              "      <th>crime_is_violent_damage</th>\n",
              "      <th>crime_is_seeking_medical_help</th>\n",
              "      <th>crime_asked_medical_help</th>\n",
              "      <th>crime_is_property_acquisition</th>\n",
              "      <th>crime_is_fraud</th>\n",
              "      <th>crime_is_threat</th>\n",
              "      <th>crime_type</th>\n",
              "      <th>crime_place_grouped</th>\n",
              "      <th>crime_is_daytime</th>\n",
              "      <th>victim_is_reporting</th>\n",
              "      <th>victim_damage_physical</th>\n",
              "      <th>victim_damage_rub</th>\n",
              "      <th>victim_is_crime_case_initiated</th>\n",
              "      <th>victim_police_reaction_time</th>\n",
              "      <th>victim_is_offender_found</th>\n",
              "      <th>victim_who_found_offender</th>\n",
              "      <th>victim_is_offender_punished</th>\n",
              "      <th>victim_is_went_to_court</th>\n",
              "      <th>victim_compensation</th>\n",
              "      <th>offender_is_male</th>\n",
              "      <th>offender_is_on_duty</th>\n",
              "      <th>offender_is_drug_intoxicated</th>\n",
              "      <th>offender_relationship_grouped</th>\n",
              "    </tr>\n",
              "  </thead>\n",
              "  <tbody>\n",
              "    <tr>\n",
              "      <th>0</th>\n",
              "      <td>544</td>\n",
              "      <td>0</td>\n",
              "      <td>57</td>\n",
              "      <td>0.0</td>\n",
              "      <td>0.0</td>\n",
              "      <td>3.0</td>\n",
              "      <td>3.0</td>\n",
              "      <td>0.0</td>\n",
              "      <td>1.0</td>\n",
              "      <td>1</td>\n",
              "      <td>2.0</td>\n",
              "      <td>3.0</td>\n",
              "      <td>1.0</td>\n",
              "      <td>1.0</td>\n",
              "      <td>0.0</td>\n",
              "      <td>0.0</td>\n",
              "      <td>NaN</td>\n",
              "      <td>1.0</td>\n",
              "      <td>1.0</td>\n",
              "      <td>0.0</td>\n",
              "      <td>6.0</td>\n",
              "      <td>7.0</td>\n",
              "      <td>1.0</td>\n",
              "      <td>0.0</td>\n",
              "      <td>NaN</td>\n",
              "      <td>300.0</td>\n",
              "      <td>NaN</td>\n",
              "      <td>NaN</td>\n",
              "      <td>0.0</td>\n",
              "      <td>NaN</td>\n",
              "      <td>NaN</td>\n",
              "      <td>NaN</td>\n",
              "      <td>4.0</td>\n",
              "      <td>NaN</td>\n",
              "      <td>NaN</td>\n",
              "      <td>NaN</td>\n",
              "      <td>NaN</td>\n",
              "    </tr>\n",
              "    <tr>\n",
              "      <th>1</th>\n",
              "      <td>1643</td>\n",
              "      <td>0</td>\n",
              "      <td>59</td>\n",
              "      <td>0.0</td>\n",
              "      <td>1.0</td>\n",
              "      <td>NaN</td>\n",
              "      <td>3.0</td>\n",
              "      <td>0.0</td>\n",
              "      <td>1.0</td>\n",
              "      <td>1</td>\n",
              "      <td>2.0</td>\n",
              "      <td>1.0</td>\n",
              "      <td>0.0</td>\n",
              "      <td>1.0</td>\n",
              "      <td>0.0</td>\n",
              "      <td>0.0</td>\n",
              "      <td>NaN</td>\n",
              "      <td>1.0</td>\n",
              "      <td>0.0</td>\n",
              "      <td>0.0</td>\n",
              "      <td>3.0</td>\n",
              "      <td>2.0</td>\n",
              "      <td>1.0</td>\n",
              "      <td>1.0</td>\n",
              "      <td>NaN</td>\n",
              "      <td>80000.0</td>\n",
              "      <td>1.0</td>\n",
              "      <td>1.0</td>\n",
              "      <td>1.0</td>\n",
              "      <td>1.0</td>\n",
              "      <td>0.0</td>\n",
              "      <td>0.0</td>\n",
              "      <td>4.0</td>\n",
              "      <td>1.0</td>\n",
              "      <td>NaN</td>\n",
              "      <td>0.0</td>\n",
              "      <td>6.0</td>\n",
              "    </tr>\n",
              "    <tr>\n",
              "      <th>2</th>\n",
              "      <td>676</td>\n",
              "      <td>0</td>\n",
              "      <td>35</td>\n",
              "      <td>0.0</td>\n",
              "      <td>1.0</td>\n",
              "      <td>NaN</td>\n",
              "      <td>3.0</td>\n",
              "      <td>0.0</td>\n",
              "      <td>1.0</td>\n",
              "      <td>1</td>\n",
              "      <td>1.0</td>\n",
              "      <td>1.0</td>\n",
              "      <td>1.0</td>\n",
              "      <td>1.0</td>\n",
              "      <td>0.0</td>\n",
              "      <td>0.0</td>\n",
              "      <td>NaN</td>\n",
              "      <td>1.0</td>\n",
              "      <td>1.0</td>\n",
              "      <td>0.0</td>\n",
              "      <td>6.0</td>\n",
              "      <td>7.0</td>\n",
              "      <td>1.0</td>\n",
              "      <td>1.0</td>\n",
              "      <td>NaN</td>\n",
              "      <td>3000.0</td>\n",
              "      <td>1.0</td>\n",
              "      <td>NaN</td>\n",
              "      <td>1.0</td>\n",
              "      <td>1.0</td>\n",
              "      <td>1.0</td>\n",
              "      <td>1.0</td>\n",
              "      <td>1.0</td>\n",
              "      <td>NaN</td>\n",
              "      <td>NaN</td>\n",
              "      <td>NaN</td>\n",
              "      <td>NaN</td>\n",
              "    </tr>\n",
              "    <tr>\n",
              "      <th>3</th>\n",
              "      <td>510</td>\n",
              "      <td>0</td>\n",
              "      <td>22</td>\n",
              "      <td>1.0</td>\n",
              "      <td>0.0</td>\n",
              "      <td>3.0</td>\n",
              "      <td>3.0</td>\n",
              "      <td>0.0</td>\n",
              "      <td>1.0</td>\n",
              "      <td>1</td>\n",
              "      <td>3.0</td>\n",
              "      <td>3.0</td>\n",
              "      <td>0.0</td>\n",
              "      <td>1.0</td>\n",
              "      <td>0.0</td>\n",
              "      <td>0.0</td>\n",
              "      <td>NaN</td>\n",
              "      <td>1.0</td>\n",
              "      <td>1.0</td>\n",
              "      <td>0.0</td>\n",
              "      <td>5.0</td>\n",
              "      <td>1.0</td>\n",
              "      <td>1.0</td>\n",
              "      <td>1.0</td>\n",
              "      <td>NaN</td>\n",
              "      <td>7000.0</td>\n",
              "      <td>0.0</td>\n",
              "      <td>1.0</td>\n",
              "      <td>0.0</td>\n",
              "      <td>NaN</td>\n",
              "      <td>NaN</td>\n",
              "      <td>NaN</td>\n",
              "      <td>4.0</td>\n",
              "      <td>NaN</td>\n",
              "      <td>NaN</td>\n",
              "      <td>NaN</td>\n",
              "      <td>NaN</td>\n",
              "    </tr>\n",
              "    <tr>\n",
              "      <th>4</th>\n",
              "      <td>1107</td>\n",
              "      <td>0</td>\n",
              "      <td>79</td>\n",
              "      <td>0.0</td>\n",
              "      <td>1.0</td>\n",
              "      <td>1.0</td>\n",
              "      <td>3.0</td>\n",
              "      <td>0.0</td>\n",
              "      <td>1.0</td>\n",
              "      <td>1</td>\n",
              "      <td>2.0</td>\n",
              "      <td>3.0</td>\n",
              "      <td>1.0</td>\n",
              "      <td>0.0</td>\n",
              "      <td>0.0</td>\n",
              "      <td>0.0</td>\n",
              "      <td>NaN</td>\n",
              "      <td>0.0</td>\n",
              "      <td>0.0</td>\n",
              "      <td>0.0</td>\n",
              "      <td>8.0</td>\n",
              "      <td>7.0</td>\n",
              "      <td>1.0</td>\n",
              "      <td>1.0</td>\n",
              "      <td>NaN</td>\n",
              "      <td>0.0</td>\n",
              "      <td>1.0</td>\n",
              "      <td>2.0</td>\n",
              "      <td>0.0</td>\n",
              "      <td>NaN</td>\n",
              "      <td>NaN</td>\n",
              "      <td>0.0</td>\n",
              "      <td>4.0</td>\n",
              "      <td>1.0</td>\n",
              "      <td>NaN</td>\n",
              "      <td>0.0</td>\n",
              "      <td>6.0</td>\n",
              "    </tr>\n",
              "  </tbody>\n",
              "</table>\n",
              "</div>"
            ],
            "text/plain": [
              "   interview_duration  ...  offender_relationship_grouped\n",
              "0                 544  ...                            NaN\n",
              "1                1643  ...                            6.0\n",
              "2                 676  ...                            NaN\n",
              "3                 510  ...                            NaN\n",
              "4                1107  ...                            6.0\n",
              "\n",
              "[5 rows x 37 columns]"
            ]
          },
          "metadata": {
            "tags": []
          },
          "execution_count": 92
        }
      ]
    },
    {
      "cell_type": "code",
      "metadata": {
        "colab": {
          "base_uri": "https://localhost:8080/",
          "height": 218
        },
        "id": "2Rs9BE_z0hn0",
        "outputId": "2b8b6f77-57aa-4122-99b1-7bed7a7e76df"
      },
      "source": [
        "not_victims.head(5)"
      ],
      "execution_count": 93,
      "outputs": [
        {
          "output_type": "execute_result",
          "data": {
            "text/html": [
              "<div>\n",
              "<style scoped>\n",
              "    .dataframe tbody tr th:only-of-type {\n",
              "        vertical-align: middle;\n",
              "    }\n",
              "\n",
              "    .dataframe tbody tr th {\n",
              "        vertical-align: top;\n",
              "    }\n",
              "\n",
              "    .dataframe thead th {\n",
              "        text-align: right;\n",
              "    }\n",
              "</style>\n",
              "<table border=\"1\" class=\"dataframe\">\n",
              "  <thead>\n",
              "    <tr style=\"text-align: right;\">\n",
              "      <th></th>\n",
              "      <th>interview_duration</th>\n",
              "      <th>resp_is_male</th>\n",
              "      <th>resp_age</th>\n",
              "      <th>resp_is_living_alone</th>\n",
              "      <th>resp_is_married</th>\n",
              "      <th>resp_income</th>\n",
              "      <th>resp_edu</th>\n",
              "      <th>resp_is_crime_record</th>\n",
              "      <th>resp_is_russian_citizen</th>\n",
              "      <th>resp_is_crime_victim</th>\n",
              "      <th>resp_ses</th>\n",
              "      <th>crime_season</th>\n",
              "      <th>crime_is_remote</th>\n",
              "      <th>crime_is_property_damage</th>\n",
              "      <th>crime_is_violent_damage</th>\n",
              "      <th>crime_is_seeking_medical_help</th>\n",
              "      <th>crime_asked_medical_help</th>\n",
              "      <th>crime_is_property_acquisition</th>\n",
              "      <th>crime_is_fraud</th>\n",
              "      <th>crime_is_threat</th>\n",
              "      <th>crime_type</th>\n",
              "      <th>crime_place_grouped</th>\n",
              "      <th>crime_is_daytime</th>\n",
              "      <th>victim_is_reporting</th>\n",
              "      <th>victim_damage_physical</th>\n",
              "      <th>victim_damage_rub</th>\n",
              "      <th>victim_is_crime_case_initiated</th>\n",
              "      <th>victim_police_reaction_time</th>\n",
              "      <th>victim_is_offender_found</th>\n",
              "      <th>victim_who_found_offender</th>\n",
              "      <th>victim_is_offender_punished</th>\n",
              "      <th>victim_is_went_to_court</th>\n",
              "      <th>victim_compensation</th>\n",
              "      <th>offender_is_male</th>\n",
              "      <th>offender_is_on_duty</th>\n",
              "      <th>offender_is_drug_intoxicated</th>\n",
              "      <th>offender_relationship_grouped</th>\n",
              "    </tr>\n",
              "  </thead>\n",
              "  <tbody>\n",
              "    <tr>\n",
              "      <th>100</th>\n",
              "      <td>247</td>\n",
              "      <td>1</td>\n",
              "      <td>32</td>\n",
              "      <td>NaN</td>\n",
              "      <td>NaN</td>\n",
              "      <td>NaN</td>\n",
              "      <td>NaN</td>\n",
              "      <td>NaN</td>\n",
              "      <td>NaN</td>\n",
              "      <td>0</td>\n",
              "      <td>NaN</td>\n",
              "      <td>NaN</td>\n",
              "      <td>NaN</td>\n",
              "      <td>NaN</td>\n",
              "      <td>NaN</td>\n",
              "      <td>NaN</td>\n",
              "      <td>NaN</td>\n",
              "      <td>NaN</td>\n",
              "      <td>NaN</td>\n",
              "      <td>NaN</td>\n",
              "      <td>NaN</td>\n",
              "      <td>NaN</td>\n",
              "      <td>NaN</td>\n",
              "      <td>NaN</td>\n",
              "      <td>NaN</td>\n",
              "      <td>0.0</td>\n",
              "      <td>NaN</td>\n",
              "      <td>NaN</td>\n",
              "      <td>NaN</td>\n",
              "      <td>NaN</td>\n",
              "      <td>NaN</td>\n",
              "      <td>NaN</td>\n",
              "      <td>NaN</td>\n",
              "      <td>NaN</td>\n",
              "      <td>NaN</td>\n",
              "      <td>NaN</td>\n",
              "      <td>NaN</td>\n",
              "    </tr>\n",
              "    <tr>\n",
              "      <th>102</th>\n",
              "      <td>91</td>\n",
              "      <td>1</td>\n",
              "      <td>38</td>\n",
              "      <td>NaN</td>\n",
              "      <td>NaN</td>\n",
              "      <td>NaN</td>\n",
              "      <td>NaN</td>\n",
              "      <td>NaN</td>\n",
              "      <td>NaN</td>\n",
              "      <td>0</td>\n",
              "      <td>NaN</td>\n",
              "      <td>NaN</td>\n",
              "      <td>NaN</td>\n",
              "      <td>NaN</td>\n",
              "      <td>NaN</td>\n",
              "      <td>NaN</td>\n",
              "      <td>NaN</td>\n",
              "      <td>NaN</td>\n",
              "      <td>NaN</td>\n",
              "      <td>NaN</td>\n",
              "      <td>NaN</td>\n",
              "      <td>NaN</td>\n",
              "      <td>NaN</td>\n",
              "      <td>NaN</td>\n",
              "      <td>NaN</td>\n",
              "      <td>0.0</td>\n",
              "      <td>NaN</td>\n",
              "      <td>NaN</td>\n",
              "      <td>NaN</td>\n",
              "      <td>NaN</td>\n",
              "      <td>NaN</td>\n",
              "      <td>NaN</td>\n",
              "      <td>NaN</td>\n",
              "      <td>NaN</td>\n",
              "      <td>NaN</td>\n",
              "      <td>NaN</td>\n",
              "      <td>NaN</td>\n",
              "    </tr>\n",
              "    <tr>\n",
              "      <th>103</th>\n",
              "      <td>259</td>\n",
              "      <td>0</td>\n",
              "      <td>30</td>\n",
              "      <td>0.0</td>\n",
              "      <td>1.0</td>\n",
              "      <td>3.0</td>\n",
              "      <td>3.0</td>\n",
              "      <td>0.0</td>\n",
              "      <td>1.0</td>\n",
              "      <td>0</td>\n",
              "      <td>5.0</td>\n",
              "      <td>NaN</td>\n",
              "      <td>NaN</td>\n",
              "      <td>NaN</td>\n",
              "      <td>NaN</td>\n",
              "      <td>NaN</td>\n",
              "      <td>NaN</td>\n",
              "      <td>NaN</td>\n",
              "      <td>NaN</td>\n",
              "      <td>NaN</td>\n",
              "      <td>NaN</td>\n",
              "      <td>NaN</td>\n",
              "      <td>NaN</td>\n",
              "      <td>NaN</td>\n",
              "      <td>NaN</td>\n",
              "      <td>0.0</td>\n",
              "      <td>NaN</td>\n",
              "      <td>NaN</td>\n",
              "      <td>NaN</td>\n",
              "      <td>NaN</td>\n",
              "      <td>NaN</td>\n",
              "      <td>NaN</td>\n",
              "      <td>NaN</td>\n",
              "      <td>NaN</td>\n",
              "      <td>NaN</td>\n",
              "      <td>NaN</td>\n",
              "      <td>NaN</td>\n",
              "    </tr>\n",
              "    <tr>\n",
              "      <th>104</th>\n",
              "      <td>105</td>\n",
              "      <td>0</td>\n",
              "      <td>56</td>\n",
              "      <td>NaN</td>\n",
              "      <td>NaN</td>\n",
              "      <td>NaN</td>\n",
              "      <td>NaN</td>\n",
              "      <td>NaN</td>\n",
              "      <td>NaN</td>\n",
              "      <td>0</td>\n",
              "      <td>NaN</td>\n",
              "      <td>NaN</td>\n",
              "      <td>NaN</td>\n",
              "      <td>NaN</td>\n",
              "      <td>NaN</td>\n",
              "      <td>NaN</td>\n",
              "      <td>NaN</td>\n",
              "      <td>NaN</td>\n",
              "      <td>NaN</td>\n",
              "      <td>NaN</td>\n",
              "      <td>NaN</td>\n",
              "      <td>NaN</td>\n",
              "      <td>NaN</td>\n",
              "      <td>NaN</td>\n",
              "      <td>NaN</td>\n",
              "      <td>0.0</td>\n",
              "      <td>NaN</td>\n",
              "      <td>NaN</td>\n",
              "      <td>NaN</td>\n",
              "      <td>NaN</td>\n",
              "      <td>NaN</td>\n",
              "      <td>NaN</td>\n",
              "      <td>NaN</td>\n",
              "      <td>NaN</td>\n",
              "      <td>NaN</td>\n",
              "      <td>NaN</td>\n",
              "      <td>NaN</td>\n",
              "    </tr>\n",
              "    <tr>\n",
              "      <th>105</th>\n",
              "      <td>245</td>\n",
              "      <td>1</td>\n",
              "      <td>19</td>\n",
              "      <td>1.0</td>\n",
              "      <td>0.0</td>\n",
              "      <td>5.0</td>\n",
              "      <td>1.0</td>\n",
              "      <td>0.0</td>\n",
              "      <td>0.0</td>\n",
              "      <td>0</td>\n",
              "      <td>1.0</td>\n",
              "      <td>NaN</td>\n",
              "      <td>NaN</td>\n",
              "      <td>NaN</td>\n",
              "      <td>NaN</td>\n",
              "      <td>NaN</td>\n",
              "      <td>NaN</td>\n",
              "      <td>NaN</td>\n",
              "      <td>NaN</td>\n",
              "      <td>NaN</td>\n",
              "      <td>NaN</td>\n",
              "      <td>NaN</td>\n",
              "      <td>NaN</td>\n",
              "      <td>NaN</td>\n",
              "      <td>NaN</td>\n",
              "      <td>0.0</td>\n",
              "      <td>NaN</td>\n",
              "      <td>NaN</td>\n",
              "      <td>NaN</td>\n",
              "      <td>NaN</td>\n",
              "      <td>NaN</td>\n",
              "      <td>NaN</td>\n",
              "      <td>NaN</td>\n",
              "      <td>NaN</td>\n",
              "      <td>NaN</td>\n",
              "      <td>NaN</td>\n",
              "      <td>NaN</td>\n",
              "    </tr>\n",
              "  </tbody>\n",
              "</table>\n",
              "</div>"
            ],
            "text/plain": [
              "     interview_duration  ...  offender_relationship_grouped\n",
              "100                 247  ...                            NaN\n",
              "102                  91  ...                            NaN\n",
              "103                 259  ...                            NaN\n",
              "104                 105  ...                            NaN\n",
              "105                 245  ...                            NaN\n",
              "\n",
              "[5 rows x 37 columns]"
            ]
          },
          "metadata": {
            "tags": []
          },
          "execution_count": 93
        }
      ]
    },
    {
      "cell_type": "markdown",
      "metadata": {
        "id": "P-aVxB0QpObE"
      },
      "source": [
        "## Анализ влияния полового признака на совершение преступлений и подверженность им"
      ]
    },
    {
      "cell_type": "markdown",
      "metadata": {
        "id": "lkzuwnyvo4mw"
      },
      "source": [
        "Определим влияние полового признака на участие в криминальной сфере. Для этого найдем процентное отношение мужчин и женщин средих пострадавших и нападавших."
      ]
    },
    {
      "cell_type": "markdown",
      "metadata": {
        "id": "wIR3RZVC9uQ3"
      },
      "source": [
        "Создадим функцию для замены номера категории на её название"
      ]
    },
    {
      "cell_type": "code",
      "metadata": {
        "id": "nQXI41fY50K1"
      },
      "source": [
        "def ifmale(x):\r\n",
        "  if x:\r\n",
        "    return \"Мужчина\"\r\n",
        "  else:\r\n",
        "    return \"Женщина\""
      ],
      "execution_count": 94,
      "outputs": []
    },
    {
      "cell_type": "markdown",
      "metadata": {
        "id": "Ep4WybDg755Y"
      },
      "source": [
        "Создадим необходимые выборки из датафрейма и определим, достаточны ли их размеры для последующего анализа"
      ]
    },
    {
      "cell_type": "code",
      "metadata": {
        "colab": {
          "base_uri": "https://localhost:8080/"
        },
        "id": "5PQZz4qJ76oA",
        "outputId": "ae211b07-0712-4c96-97af-2a46f054ff7e"
      },
      "source": [
        "ifmale_offender = victims['offender_is_male'].dropna().apply(ifmale)\r\n",
        "ifmale_resp = victims['resp_is_male'].dropna().apply(ifmale)\r\n",
        "\r\n",
        "print(\"Выборка содержит\", len(ifmale_offender), \"строк\")\r\n",
        "print(\"Выборка содержит\", len(ifmale_resp), \"строк\")"
      ],
      "execution_count": 95,
      "outputs": [
        {
          "output_type": "stream",
          "text": [
            "Выборка содержит 1467 строк\n",
            "Выборка содержит 3001 строк\n"
          ],
          "name": "stdout"
        }
      ]
    },
    {
      "cell_type": "markdown",
      "metadata": {
        "id": "uPjMHIj48x59"
      },
      "source": [
        "Посчитаем процентное содержание каждой категории в выборках"
      ]
    },
    {
      "cell_type": "code",
      "metadata": {
        "id": "F4pQUY_DyN1d",
        "colab": {
          "base_uri": "https://localhost:8080/"
        },
        "outputId": "a9f8330c-18e6-4c59-a066-94dd9200f12e"
      },
      "source": [
        "offender_count = ifmale_offender.value_counts(1)\n",
        "\n",
        "print(\"Среди правонарушителей:\")\n",
        "for i in range(len(offender_count)):\n",
        "  print(\"{} - {:.3f}%\".format(offender_count.index[i],\n",
        "                              offender_count[i] * 100))\n",
        "\n",
        "victim_count = ifmale_resp.value_counts(1)\n",
        "\n",
        "print(\"\\nСреди пострадавших:\")\n",
        "for i in range(len(offender_count)):\n",
        "  print(\"{} - {:.3f}%\".format(victim_count.index[i],\n",
        "                              victim_count[i] * 100))"
      ],
      "execution_count": 96,
      "outputs": [
        {
          "output_type": "stream",
          "text": [
            "Среди правонарушителей:\n",
            "Мужчина - 78.391%\n",
            "Женщина - 21.609%\n",
            "\n",
            "Среди пострадавших:\n",
            "Женщина - 53.915%\n",
            "Мужчина - 46.085%\n"
          ],
          "name": "stdout"
        }
      ]
    },
    {
      "cell_type": "markdown",
      "metadata": {
        "id": "tw9o5EyB2RN0"
      },
      "source": [
        "Затем построим по получившимся значениям график."
      ]
    },
    {
      "cell_type": "code",
      "metadata": {
        "colab": {
          "base_uri": "https://localhost:8080/",
          "height": 355
        },
        "id": "d7bGv2UeumSI",
        "outputId": "a8a926a1-9a6d-493b-d9f7-7d8d108adf93"
      },
      "source": [
        "plt.figure(figsize=(12, 8), linewidth=8, edgecolor=\"#04253a\") \\\r\n",
        ".set_facecolor(digclr)\r\n",
        "\r\n",
        "ax = plt.subplot(1, 2, 1)\r\n",
        "ax.set_title(\"Правонарушители\")\r\n",
        "ax.grid(which='major', color = 'gray', axis='y', linestyle=':')\r\n",
        "ax.pie(offender_count,\r\n",
        "       labels=[\"Мужчины\", \"Женщины\"],\r\n",
        "       colors=('darkcyan', 'palevioletred'),\r\n",
        "       explode=(0, 0.15),\r\n",
        "        shadow=True, autopct='%1.1f%%')\r\n",
        "\r\n",
        "ax = plt.subplot(1, 2, 2)\r\n",
        "ax.set_title(\"Пострадавшие\")\r\n",
        "ax.grid(which='major', color = 'gray', axis='y', linestyle=':')\r\n",
        "\r\n",
        "ax.pie(victim_count,  labels=[\"Мужчины\", \"Женщины\"],\r\n",
        "       colors=('darkcyan', 'palevioletred'),\r\n",
        "      explode=(0, 0.15),\r\n",
        "        shadow=True, autopct='%1.1f%%')\r\n",
        "\r\n",
        "plt.show()"
      ],
      "execution_count": 97,
      "outputs": [
        {
          "output_type": "display_data",
          "data": {
            "image/png": "[encoded data removed]",
            "text/plain": [
              "<Figure size 864x576 with 2 Axes>"
            ]
          },
          "metadata": {
            "tags": []
          }
        }
      ]
    },
    {
      "cell_type": "markdown",
      "metadata": {
        "id": "Pol2vZBNp-7C"
      },
      "source": [
        "**Вывод:**\n",
        "> Мужчины чаще замешаны в преступлениях (в качестве жертвы или правонарушителя).\n",
        "\n",
        "> Женщины являются преступникм лишь в четверти случаев правонарушения.\n",
        "\n",
        "> Среди пострадавших процент мужчин и женщин отличается незначительно.\n",
        "\n"
      ]
    },
    {
      "cell_type": "markdown",
      "metadata": {
        "id": "DyitA3mg9vla"
      },
      "source": [
        "## Был ли найден нападавший?"
      ]
    },
    {
      "cell_type": "markdown",
      "metadata": {
        "id": "-5q0TgLE5A-R"
      },
      "source": [
        "Определим процентное отношение случаев, в которых был найден нападавший."
      ]
    },
    {
      "cell_type": "markdown",
      "metadata": {
        "id": "SOGEOVA_919n"
      },
      "source": [
        "Создадим функцию для замены номера категории на её название"
      ]
    },
    {
      "cell_type": "code",
      "metadata": {
        "id": "BujgNZ2U9HrX"
      },
      "source": [
        "def off_found_group(x):\r\n",
        "  if x == 1.0: return \"Нарушитель найден\"\r\n",
        "  else: return \"Нарушитель не найден\""
      ],
      "execution_count": 98,
      "outputs": []
    },
    {
      "cell_type": "markdown",
      "metadata": {
        "id": "sPw8FgRU9zYJ"
      },
      "source": [
        "Создадим необходимую выборку из датафрейма и определим, достаточен ли ее размер для последующего анализа"
      ]
    },
    {
      "cell_type": "code",
      "metadata": {
        "colab": {
          "base_uri": "https://localhost:8080/"
        },
        "id": "_3U-rzbF9MMH",
        "outputId": "5887bc9a-691f-499b-cfec-74c33e332a17"
      },
      "source": [
        "offender_found = victims['victim_is_offender_found'].dropna() \\\r\n",
        ".apply(off_found_group)\r\n",
        "\r\n",
        "print(\"Выборка содержит\", len(offender_found), \"строк\")"
      ],
      "execution_count": 99,
      "outputs": [
        {
          "output_type": "stream",
          "text": [
            "Выборка содержит 3001 строк\n"
          ],
          "name": "stdout"
        }
      ]
    },
    {
      "cell_type": "code",
      "metadata": {
        "id": "6zICTqIVJls-",
        "colab": {
          "base_uri": "https://localhost:8080/"
        },
        "outputId": "81f69433-c7cd-4aff-ada5-d9be2e6371d2"
      },
      "source": [
        "offender_found_count = victims['victim_is_offender_found'].dropna() \\\n",
        ".apply(off_found_group).value_counts(1)\n",
        "\n",
        "print(\"Был ли найден преступник?\")\n",
        "for i in range(len(offender_found_count)):\n",
        "  print(\"{:<20} - {:.3f}%\".format(offender_found_count.index[i],\n",
        "                              offender_found_count[i] * 100))"
      ],
      "execution_count": 100,
      "outputs": [
        {
          "output_type": "stream",
          "text": [
            "Был ли найден преступник?\n",
            "Нарушитель не найден - 73.775%\n",
            "Нарушитель найден    - 26.225%\n"
          ],
          "name": "stdout"
        }
      ]
    },
    {
      "cell_type": "markdown",
      "metadata": {
        "id": "xvnvHxxR3AFM"
      },
      "source": [
        "Построим по полученным значениям график."
      ]
    },
    {
      "cell_type": "code",
      "metadata": {
        "id": "rqbcu4gU3AMi",
        "colab": {
          "base_uri": "https://localhost:8080/",
          "height": 373
        },
        "outputId": "1e121e47-101c-460d-9c5d-0fa2117476be"
      },
      "source": [
        "# Красивые графики\n",
        "plt.figure(figsize=(10, 6), linewidth=8, edgecolor=\"#04253a\") \\\n",
        ".set_facecolor(digclr)\n",
        "\n",
        "plt.pie(offender_found_count.tolist(), labels=offender_found_count.index,\n",
        "        colors=('firebrick', 'forestgreen'), explode=(0, 0.15),\n",
        "        shadow=True, startangle=90, autopct='%1.1f%%')\n",
        "\n",
        "plt.title('Был ли найден преступник?')\n",
        "plt.grid(which='major', color = 'gray', axis='y', linestyle=':')"
      ],
      "execution_count": 101,
      "outputs": [
        {
          "output_type": "display_data",
          "data": {
            "image/png": "[encoded data removed]",
            "text/plain": [
              "<Figure size 720x432 with 1 Axes>"
            ]
          },
          "metadata": {
            "tags": []
          }
        }
      ]
    },
    {
      "cell_type": "markdown",
      "metadata": {
        "id": "rolbkzg792P2"
      },
      "source": [
        "**Вывод:**\n",
        "> По данным опроса, в трёх из четырёх случаев преступления правонарушитель остаётся не найденным."
      ]
    },
    {
      "cell_type": "markdown",
      "metadata": {
        "id": "36ZCn6bg95Gz"
      },
      "source": [
        "## Была ли необходима медицинская помощь?"
      ]
    },
    {
      "cell_type": "markdown",
      "metadata": {
        "id": "LDkOeDjT4Q_6"
      },
      "source": [
        "Определим процентное отношение пострадавших от физического насилия, которым впоследствии была необходима медицинская помощь."
      ]
    },
    {
      "cell_type": "markdown",
      "metadata": {
        "id": "eouQ0VSY-IVz"
      },
      "source": [
        "Создадим функцию для замены номера категории на её название"
      ]
    },
    {
      "cell_type": "code",
      "metadata": {
        "id": "dufD1V6--JM2"
      },
      "source": [
        "def is_seeking_medical_help(x):\r\n",
        "   if x == 1.0:\r\n",
        "     return 'Нуждался в помощи'\r\n",
        "   else:\r\n",
        "     return 'Не нуждался в помощи'"
      ],
      "execution_count": 102,
      "outputs": []
    },
    {
      "cell_type": "markdown",
      "metadata": {
        "id": "znRgIf3t-NZP"
      },
      "source": [
        "Создадим необходимую выборку из датафрейма и определим, достаточен ли ее размер для последующего анализа"
      ]
    },
    {
      "cell_type": "code",
      "metadata": {
        "colab": {
          "base_uri": "https://localhost:8080/"
        },
        "id": "iqAVNKr7-OCg",
        "outputId": "e8e48e4a-d8e6-4c55-fa4a-e59d35867da8"
      },
      "source": [
        "med_help = victims['crime_is_seeking_medical_help'] \\\r\n",
        "                [victims['crime_is_violent_damage'] == 1.0] \\\r\n",
        "              .apply(is_seeking_medical_help)\r\n",
        "\r\n",
        "print(\"Выборка содержит\", len(med_help), \"строк\")"
      ],
      "execution_count": 103,
      "outputs": [
        {
          "output_type": "stream",
          "text": [
            "Выборка содержит 350 строк\n"
          ],
          "name": "stdout"
        }
      ]
    },
    {
      "cell_type": "markdown",
      "metadata": {
        "id": "iDiGuBnT-sgX"
      },
      "source": [
        "Посчитаем процентное содержание каждой категории в выборке"
      ]
    },
    {
      "cell_type": "code",
      "metadata": {
        "id": "caoqEyAhL14p",
        "colab": {
          "base_uri": "https://localhost:8080/"
        },
        "outputId": "f71d9437-1e0f-4ba6-9ad2-deb680e9649d"
      },
      "source": [
        "med_help_perc = med_help.value_counts(1).sort_values()\n",
        "\n",
        "print(\"Была ли необходима мед. помощь?:\")\n",
        "for i in range(len(med_help_perc)):\n",
        "  print(\"{:<20} - {:.3f}%\".format(med_help_perc.index[i],\n",
        "                                  med_help_perc[i] * 100))"
      ],
      "execution_count": 104,
      "outputs": [
        {
          "output_type": "stream",
          "text": [
            "Была ли необходима мед. помощь?:\n",
            "Нуждался в помощи    - 48.286%\n",
            "Не нуждался в помощи - 51.714%\n"
          ],
          "name": "stdout"
        }
      ]
    },
    {
      "cell_type": "markdown",
      "metadata": {
        "id": "4T8m3icm3R70"
      },
      "source": [
        "Построим по полученным значениям график."
      ]
    },
    {
      "cell_type": "code",
      "metadata": {
        "id": "iaSRcQBa3SBy",
        "colab": {
          "base_uri": "https://localhost:8080/",
          "height": 373
        },
        "outputId": "6ad40ace-b7e8-448b-e475-49b9c4fbbe9d"
      },
      "source": [
        "# Красивые графики\n",
        "plt.figure(figsize=(10, 6), linewidth=8, edgecolor=\"#04253a\") \\\n",
        ".set_facecolor(digclr)\n",
        "\n",
        "plt.pie(med_help_perc, labels=med_help_perc.index,\n",
        "        colors=('forestgreen', 'firebrick'), explode=(0, 0.15),\n",
        "        shadow=True, startangle=90, autopct='%1.1f%%')\n",
        "\n",
        "plt.title('Была ли необходима медицинская помощь?')\n",
        "plt.grid(which='major', color = 'gray', axis='y', linestyle=':')"
      ],
      "execution_count": 105,
      "outputs": [
        {
          "output_type": "display_data",
          "data": {
            "image/png": "[encoded data removed]",
            "text/plain": [
              "<Figure size 720x432 with 1 Axes>"
            ]
          },
          "metadata": {
            "tags": []
          }
        }
      ]
    },
    {
      "cell_type": "markdown",
      "metadata": {
        "id": "c0LUmuIf9_Ru"
      },
      "source": [
        "**Вывод:**\n",
        "> Почти половине случаев физического насилия пострадавший от преступления нуждался в медицинской помощи."
      ]
    },
    {
      "cell_type": "markdown",
      "metadata": {
        "id": "3nQ3v32R-HgF"
      },
      "source": [
        "## Был ли нападавший при исполнении?"
      ]
    },
    {
      "cell_type": "markdown",
      "metadata": {
        "id": "Ty_OraDK6jVI"
      },
      "source": [
        "Определим случаи, в которых нападавших был при исполнении. Также определим вид занятости, если преступник был при исполнении."
      ]
    },
    {
      "cell_type": "markdown",
      "metadata": {
        "id": "HtTHYoFM4Exq"
      },
      "source": [
        "Создадим функцию для замены номера категории на её название"
      ]
    },
    {
      "cell_type": "code",
      "metadata": {
        "id": "3XMcWSlL4Rwp"
      },
      "source": [
        "def offender_group(x):\r\n",
        "  d = {1.0: 'Правоприменитель',\r\n",
        "       2.0: 'Представитель власти', \r\n",
        "       3.0: 'Военный', \r\n",
        "       4.0: 'Сотрудник коммерческой организации', \r\n",
        "       5.0: 'Не при исполнении'}\r\n",
        "  return d[x]"
      ],
      "execution_count": 106,
      "outputs": []
    },
    {
      "cell_type": "markdown",
      "metadata": {
        "id": "R2BFBSIm4VX5"
      },
      "source": [
        "Создадим необходимую выборку из датафрейма и определим, достаточен ли ее размер для последующего анализа"
      ]
    },
    {
      "cell_type": "code",
      "metadata": {
        "colab": {
          "base_uri": "https://localhost:8080/"
        },
        "id": "3ESxCTrT4bBI",
        "outputId": "6a50a162-06ad-4c00-a968-1bd6b3de9067"
      },
      "source": [
        "offender_on_duty = victims['offender_is_on_duty'] \\\r\n",
        "[victims['offender_is_on_duty'] != 6.0].dropna().apply(offender_group)\r\n",
        "\r\n",
        "print(\"Выборка содержит\", len(offender_on_duty), \"строк\")"
      ],
      "execution_count": 107,
      "outputs": [
        {
          "output_type": "stream",
          "text": [
            "Выборка содержит 1215 строк\n"
          ],
          "name": "stdout"
        }
      ]
    },
    {
      "cell_type": "markdown",
      "metadata": {
        "id": "g3mHV_nl4ZjL"
      },
      "source": [
        "Посчитаем процентное отношение категорий в выборке"
      ]
    },
    {
      "cell_type": "code",
      "metadata": {
        "id": "pR4j63Ptkvzr",
        "colab": {
          "base_uri": "https://localhost:8080/"
        },
        "outputId": "e65b0087-7d5f-47cd-8c6e-99a673032f99"
      },
      "source": [
        "offender_on_duty_group = offender_on_duty.value_counts(1).sort_values()\n",
        "print(\"Был ли преступник при исполнении?:\")\n",
        "for i in range(len(offender_on_duty_group)):\n",
        "  print(\"{:<35} - {:.3f}%\".format(offender_on_duty_group.index[i],\n",
        "                                  offender_on_duty_group[i] * 100))\n",
        "  "
      ],
      "execution_count": 108,
      "outputs": [
        {
          "output_type": "stream",
          "text": [
            "Был ли преступник при исполнении?:\n",
            "Военный                             - 0.658%\n",
            "Представитель власти                - 2.551%\n",
            "Правоприменитель                    - 3.951%\n",
            "Сотрудник коммерческой организации  - 15.391%\n",
            "Не при исполнении                   - 77.449%\n"
          ],
          "name": "stdout"
        }
      ]
    },
    {
      "cell_type": "markdown",
      "metadata": {
        "id": "cChw08W55ZqT"
      },
      "source": [
        "Создадим две переменные, в первую поместим процентное соотношение видов занятости среди нападавших при исполнении, во вторую процентное соотношение нападавших при исполнении к нападавшим не при исполнении."
      ]
    },
    {
      "cell_type": "code",
      "metadata": {
        "colab": {
          "base_uri": "https://localhost:8080/"
        },
        "id": "dA4NsJJ95u4C",
        "outputId": "501bc996-4bd7-44dd-e10c-a327611f75d0"
      },
      "source": [
        "sum_type_duty = offender_on_duty[offender_on_duty != \"Не при исполнении\"]\\\r\n",
        "                                            .value_counts(1).sort_values()\r\n",
        "\r\n",
        "sum_on_duty = [sum(offender_on_duty_group[:4]), offender_on_duty_group[4]]\r\n",
        "\r\n",
        "print(\"Был ли преступник при исполнении?:\")\r\n",
        "print(\"При исполнении    - {:.3f}%\\nНе при исполнении - {:.3f}%\\n\" \\\r\n",
        "      .format(sum_on_duty[0] * 100, sum_on_duty[1] * 100))\r\n",
        "\r\n",
        "print(\"Соотношение видов занятости среди нападавших при исполнении:\")\r\n",
        "for i in range(len(sum_type_duty)):\r\n",
        "  print(\"{:<35} - {:.3f}%\".format(sum_type_duty.index[i],\r\n",
        "                                  sum_type_duty[i] * 100))"
      ],
      "execution_count": 109,
      "outputs": [
        {
          "output_type": "stream",
          "text": [
            "Был ли преступник при исполнении?:\n",
            "При исполнении    - 22.551%\n",
            "Не при исполнении - 77.449%\n",
            "\n",
            "Соотношение видов занятости среди нападавших при исполнении:\n",
            "Военный                             - 2.920%\n",
            "Представитель власти                - 11.314%\n",
            "Правоприменитель                    - 17.518%\n",
            "Сотрудник коммерческой организации  - 68.248%\n"
          ],
          "name": "stdout"
        }
      ]
    },
    {
      "cell_type": "markdown",
      "metadata": {
        "id": "KXwABBAE6a50"
      },
      "source": [
        "Построим по полученным значениям график."
      ]
    },
    {
      "cell_type": "code",
      "metadata": {
        "id": "UQBxZRZD6a_-",
        "colab": {
          "base_uri": "https://localhost:8080/",
          "height": 554
        },
        "outputId": "40595eb4-c174-4d86-93ab-e77cb17a0ebc"
      },
      "source": [
        "# Красивые графики\n",
        "plt.figure(figsize=(20, 12), linewidth=8, edgecolor=\"#04253a\") \\\n",
        ".set_facecolor(digclr)\n",
        "\n",
        "ax = plt.subplot(1, 2, 1)\n",
        "ax.set_title(\"Был ли преступник при исполнении\")\n",
        "ax.grid(which='major', color = 'gray', axis='y', linestyle=':')\n",
        "\n",
        "ax.pie(sum_on_duty,\n",
        "       labels=[\"При\\nисполнении\", \"Не при\\nисполнении\"], radius=0.8,\n",
        "       colors=('forestgreen', 'firebrick'), explode=(0, 0.15),\n",
        "        shadow=True, autopct='%1.1f%%')\n",
        "\n",
        "ax = plt.subplot(1, 2, 2)\n",
        "ax.set_title(\"Вид деятельности преступника при исполнении\")\n",
        "ax.grid(which='major', color = 'gray', axis='y', linestyle=':')\n",
        "\n",
        "ax.pie(sum_type_duty, labels=sum_type_duty.index,\n",
        "       radius=0.8, colors=colors,\n",
        "       explode=(0.08, 0.08, 0.08, 0.08),\n",
        "       shadow=True, autopct='%1.1f%%')\n",
        "\n",
        "plt.show()"
      ],
      "execution_count": 110,
      "outputs": [
        {
          "output_type": "display_data",
          "data": {
            "image/png": "[encoded data removed]",
            "text/plain": [
              "<Figure size 1440x864 with 2 Axes>"
            ]
          },
          "metadata": {
            "tags": []
          }
        }
      ]
    },
    {
      "cell_type": "markdown",
      "metadata": {
        "id": "62vL3W_1-NfT"
      },
      "source": [
        "**Вывод:**\n",
        "> Более 20% злоумышленников находились при исполнении своих обязанностей\n",
        "\n",
        "> Большая часть правонарушителей, находящихся при исполнении обязанностей, относится к категории сотрудников коммерчесих организаций\n",
        "\n",
        "> Более 30% правонарушителей являются чиновниками (госслужащими), среди них большую часть преступлений совершают правоприменители (17.5%), меньшую – военные (2.9%), а представители власти, по данным опроса, занимают 11.3% от всех правонарушителей при исполнении."
      ]
    },
    {
      "cell_type": "markdown",
      "metadata": {
        "id": "tkDjG7n-7b2F"
      },
      "source": [
        "## Анализ частоты видов преступлений"
      ]
    },
    {
      "cell_type": "markdown",
      "metadata": {
        "id": "RxBzLDFJ8qTg"
      },
      "source": [
        "Определим процентное отношение частоты каждого преступления."
      ]
    },
    {
      "cell_type": "markdown",
      "metadata": {
        "id": "eRfxc3Ee_QG4"
      },
      "source": [
        "Создадим функцию для замены номера категории на её название"
      ]
    },
    {
      "cell_type": "code",
      "metadata": {
        "id": "0_yuXCww_Q6E"
      },
      "source": [
        "def crime_type_rename(x):\r\n",
        "  dic = {1.0: 'Нападение', \r\n",
        "         2.0: 'Угрозы ', \r\n",
        "         3.0: 'Грабеж и разбой ', \r\n",
        "         4.0: 'Кража', \r\n",
        "         5.0: 'Мошенничество', \r\n",
        "         6.0: 'Мошенничество', \r\n",
        "         7.0: 'Прочее'}\r\n",
        "  return dic[x]"
      ],
      "execution_count": 111,
      "outputs": []
    },
    {
      "cell_type": "markdown",
      "metadata": {
        "id": "_nbo9yn6_kbH"
      },
      "source": [
        "Создадим необходимую выборку из датафрейма и определим, достаточен ли ее размер для последующего анализа"
      ]
    },
    {
      "cell_type": "code",
      "metadata": {
        "colab": {
          "base_uri": "https://localhost:8080/"
        },
        "id": "E99fgjI1_k-b",
        "outputId": "c3a0a314-0fbd-4aa0-f365-3e2571c65b7c"
      },
      "source": [
        "crime_type = victims['crime_type'].drop(\r\n",
        "    victims['crime_type'][victims['crime_type'] == 8.0].index) \\\r\n",
        "    .apply(crime_type_rename)\r\n",
        "\r\n",
        "print(\"Выборка содержит\", len(crime_type), \"строк\")"
      ],
      "execution_count": 112,
      "outputs": [
        {
          "output_type": "stream",
          "text": [
            "Выборка содержит 2422 строк\n"
          ],
          "name": "stdout"
        }
      ]
    },
    {
      "cell_type": "markdown",
      "metadata": {
        "id": "pZCGwHAkAKBH"
      },
      "source": [
        "Посчитаем процентное отношение каждой категории в выборке"
      ]
    },
    {
      "cell_type": "code",
      "metadata": {
        "id": "ul6sg5NBNGSe",
        "colab": {
          "base_uri": "https://localhost:8080/"
        },
        "outputId": "d4465ad8-d2c3-4182-9741-bc2088ebf937"
      },
      "source": [
        "crime_type_perc = crime_type.value_counts(1)\n",
        "\n",
        "print(\"Вид преступления:\")\n",
        "for i in range(len(crime_type_perc)):\n",
        "  print(\"{:<16} - {:.3f}%\".format(crime_type_perc.index[i],\n",
        "                                  crime_type_perc[i] * 100))\n"
      ],
      "execution_count": 113,
      "outputs": [
        {
          "output_type": "stream",
          "text": [
            "Вид преступления:\n",
            "Мошенничество    - 40.173%\n",
            "Кража            - 25.021%\n",
            "Грабеж и разбой  - 12.428%\n",
            "Угрозы           - 8.629%\n",
            "Нападение        - 8.051%\n",
            "Прочее           - 5.698%\n"
          ],
          "name": "stdout"
        }
      ]
    },
    {
      "cell_type": "markdown",
      "metadata": {
        "id": "karleAWP8htE"
      },
      "source": [
        "Построим по полученным значениям график"
      ]
    },
    {
      "cell_type": "code",
      "metadata": {
        "id": "cZowtXPM8h0R",
        "colab": {
          "base_uri": "https://localhost:8080/",
          "height": 472
        },
        "outputId": "6b418bdf-d45c-4d5e-dff5-b117e3162354"
      },
      "source": [
        "# Красивые графики\n",
        "plt.figure(figsize=(10, 6), linewidth=8, edgecolor=\"#04253a\") \\\n",
        ".set_facecolor(pltclr)\n",
        "\n",
        "crime_type_perc.plot.bar(color=colors)\n",
        "plt.title('Процентное отношение видов преступлений')\n",
        "plt.grid(which='major', color = 'gray', axis='y', linestyle=':')"
      ],
      "execution_count": 114,
      "outputs": [
        {
          "output_type": "display_data",
          "data": {
            "image/png": "[encoded data removed]",
            "text/plain": [
              "<Figure size 720x432 with 1 Axes>"
            ]
          },
          "metadata": {
            "tags": []
          }
        }
      ]
    },
    {
      "cell_type": "markdown",
      "metadata": {
        "id": "5d8S-b4f7iOT"
      },
      "source": [
        "**Вывод:**\n",
        "> Наиболее частый вид преступления по данным опроса – мошенничество (почти половина от всех преступлений)\n",
        "\n",
        "> Кражи (тайные хищения) в 2 раза распространеннее грабежей и разбоев (насильственных хищений)\n",
        "\n",
        "> Количество угроз незначительно больше количества нападений\n",
        "\n",
        "> Прочие правонарушения занимают чуть более 5% от всех преступлений\n",
        "\n",
        "> Таким образом, по данным опроса, мы можем сделать вывод, что преступления, подразумевающие использование физической силы, совершаются реже, чем преступления без насилия."
      ]
    },
    {
      "cell_type": "markdown",
      "metadata": {
        "id": "GPdguoTv65Uk"
      },
      "source": [
        "## Анализ влияния возраста на подверженность преступлениям"
      ]
    },
    {
      "cell_type": "markdown",
      "metadata": {
        "id": "xJbcAwFas5oN"
      },
      "source": [
        "Определим зависимость возраста человека и подверженности преступлению. "
      ]
    },
    {
      "cell_type": "markdown",
      "metadata": {
        "id": "hHbUxzZ8AXVP"
      },
      "source": [
        "Создадим функцию для замены номера категории на её название"
      ]
    },
    {
      "cell_type": "code",
      "metadata": {
        "id": "PJ2fYgOtAZZA"
      },
      "source": [
        "def age_group(x):\r\n",
        "  if 18 <= x <= 24:\r\n",
        "    return '18-24'\r\n",
        "  elif 25 <= x <= 34:\r\n",
        "    return '25-34'\r\n",
        "  elif 35 <= x <= 44:\r\n",
        "    return '35-44'\r\n",
        "  elif 45 <= x <= 54:\r\n",
        "    return '45-54'\r\n",
        "  elif 55 <= x <= 64:\r\n",
        "    return '55-64'\r\n",
        "  elif x >= 65:\r\n",
        "    return '65+'"
      ],
      "execution_count": 115,
      "outputs": []
    },
    {
      "cell_type": "markdown",
      "metadata": {
        "id": "AtEbBEALBKmI"
      },
      "source": [
        "Создадим необходимую выборку из датафрейма и определим, достаточен ли ее размер для последующего анализа"
      ]
    },
    {
      "cell_type": "code",
      "metadata": {
        "colab": {
          "base_uri": "https://localhost:8080/"
        },
        "id": "r1KSlce_As1k",
        "outputId": "645bafc7-9445-426f-bc34-05a26bf43797"
      },
      "source": [
        "resp_age = victims['resp_age'].apply(age_group)\r\n",
        "\r\n",
        "print(\"Выборка содержит\", len(resp_age), \"строк\")"
      ],
      "execution_count": 116,
      "outputs": [
        {
          "output_type": "stream",
          "text": [
            "Выборка содержит 3001 строк\n"
          ],
          "name": "stdout"
        }
      ]
    },
    {
      "cell_type": "markdown",
      "metadata": {
        "id": "3s9Dulw1BMoA"
      },
      "source": [
        "Посчитаем процентное содержание каждой категории в выборке"
      ]
    },
    {
      "cell_type": "code",
      "metadata": {
        "id": "OBPIr8apuxnn",
        "colab": {
          "base_uri": "https://localhost:8080/"
        },
        "outputId": "81d89414-595f-43b6-c6da-b29b42404f81"
      },
      "source": [
        "group_resp_age = resp_age.value_counts(1).sort_index()\n",
        "\n",
        "print(\"Среди пострадавших:\")\n",
        "for i in range(len(group_resp_age)):\n",
        "  print(\"{:^5} лет - {:.3f}%\".format(group_resp_age.index[i],\n",
        "                                  group_resp_age[i] * 100))"
      ],
      "execution_count": 117,
      "outputs": [
        {
          "output_type": "stream",
          "text": [
            "Среди пострадавших:\n",
            "18-24 лет - 11.096%\n",
            "25-34 лет - 28.391%\n",
            "35-44 лет - 21.593%\n",
            "45-54 лет - 15.095%\n",
            "55-64 лет - 13.462%\n",
            " 65+  лет - 10.363%\n"
          ],
          "name": "stdout"
        }
      ]
    },
    {
      "cell_type": "markdown",
      "metadata": {
        "id": "NEWXa_oPsdg4"
      },
      "source": [
        "Построим по полученным значениям график."
      ]
    },
    {
      "cell_type": "code",
      "metadata": {
        "id": "cY3-mipasdw-",
        "colab": {
          "base_uri": "https://localhost:8080/",
          "height": 409
        },
        "outputId": "1a2fa2a0-5ce4-423a-8482-abd072ba0c96"
      },
      "source": [
        "# Красивые графики\n",
        "plt.figure(figsize=(10, 6), linewidth=8, edgecolor=\"#04253a\") \\\n",
        ".set_facecolor(pltclr)\n",
        "group_resp_age.plot.bar(color=colors)\n",
        "\n",
        "plt.title('Влияние возраста на подверженность преступлениям')\n",
        "\n",
        "plt.grid(which='major', color = 'gray', axis='y', linestyle=':')"
      ],
      "execution_count": 118,
      "outputs": [
        {
          "output_type": "display_data",
          "data": {
            "image/png": "[encoded data removed]",
            "text/plain": [
              "<Figure size 720x432 with 1 Axes>"
            ]
          },
          "metadata": {
            "tags": []
          }
        }
      ]
    },
    {
      "cell_type": "markdown",
      "metadata": {
        "id": "0XzX_2B_885k"
      },
      "source": [
        "**Вывод:**\n",
        "> Наменее подверженны преступлениям возрастные категории \"18-24\" и \"65+\".\n",
        "\n",
        "> Наиболее подвержены преступлениям лица 25-34 лет, далее процент жертв плавно уменьшается"
      ]
    },
    {
      "cell_type": "markdown",
      "metadata": {
        "id": "doKYuw9XLPku"
      },
      "source": [
        "Попробуем найти зависимость типа преступления от возраста. Для этого создадим выборки по каждой возрастной категории и посчитаем процент каждого вида преступлений среди полученных выборок"
      ]
    },
    {
      "cell_type": "code",
      "metadata": {
        "id": "IQULaV4189AO",
        "colab": {
          "base_uri": "https://localhost:8080/",
          "height": 502
        },
        "outputId": "9620a05d-71ce-4de4-dba3-adaddcbdc2c0"
      },
      "source": [
        "victims['resp_age_group'] = victims['resp_age'].apply(age_group)\n",
        "\n",
        "crime_age = pd.concat([victims['crime_type'].drop(victims['crime_type']\n",
        "                        [victims['crime_type'] == 8.0].index),\n",
        "                        victims['resp_age_group']], axis=1).dropna()\n",
        "\n",
        "age_lst = ['18-24', '25-34', '35-44', '45-54', '55-64', '65+']\n",
        "\n",
        "s = []\n",
        "for i in age_lst:\n",
        "  s.append(crime_age['crime_type'][crime_age['resp_age_group'] == i] \\\n",
        "     .apply(crime_type_rename).value_counts(1).sort_index())\n",
        "\n",
        "fp = pd.DataFrame(s,\n",
        "              index=age_lst,\n",
        "              columns=s[0].index)\n",
        "\n",
        "fig, ax = plt.subplots(linewidth=8, edgecolor=\"#04253a\")\n",
        "\n",
        "ax.set_facecolor('white')\n",
        "fig.set_figwidth(16)    #  ширина Figure\n",
        "fig.set_figheight(8)    #  высота Figure\n",
        "fig.set_facecolor(pltclr)\n",
        "\n",
        "fp.plot.bar(color=colors, ax=ax, width=0.8)\n",
        "\n",
        "plt.grid(which='major', color = 'gray', axis='y', linestyle=':')\n",
        "\n",
        "plt.show()\n"
      ],
      "execution_count": 119,
      "outputs": [
        {
          "output_type": "display_data",
          "data": {
            "image/png": "[encoded data removed]",
            "text/plain": [
              "<Figure size 1152x576 with 1 Axes>"
            ]
          },
          "metadata": {
            "tags": []
          }
        }
      ]
    },
    {
      "cell_type": "markdown",
      "metadata": {
        "id": "a7st-FJr7IqD"
      },
      "source": [
        "**Вывод:**\n",
        "\n",
        "\n",
        "> Пожилые люди чаще других становятся жертвами мошенничества, в то время как молодые – реже всего. Вероятно, это связанно с совершенствованием и цифровизацией методов мошенничества, что подвергает лиц, не обладающих достаточной цифровой грамостностью, наибольшим рискам со стороны мошенников.\n",
        "\n",
        "> Молодые люди чаще остальных становятся жертвами грабежей и разбоев, далее процент плавно уменьшается и слегка возрастает у лиц возраста \"65+\".\n",
        "\n",
        "> Наиболее подвержены кражам лица категории \"55-64\", остальные категории по процентному отношению отличаются незначительно.\n",
        "\n",
        "> Наименее подвержены угрозам возрастные группы \"18-24\" и \"65+\", остальные категории по процентному отношению отличаются незначительно.\n",
        "\n",
        "> Жертвами краж чаще всего становятся люди возрастной категории \"55-64\". Возможно, это связанно с тем, что люди к данному периоду жизни успевают уже материально обеспеченны и имеют накопления к выходу на пенсию, чем вызывают интерес преступников.\n",
        "\n",
        "> Прочим преступлениям больше всего подвержены пенсионеры.\n",
        "\n",
        "\n",
        "\n"
      ]
    },
    {
      "cell_type": "markdown",
      "metadata": {
        "id": "I71vsMjL7Jtt"
      },
      "source": [
        "## Анализ влияния дохода на подверженность преступлениям"
      ]
    },
    {
      "cell_type": "markdown",
      "metadata": {
        "id": "WfGjYpekxUo8"
      },
      "source": [
        "Для начала найдем процентное отношение каждого вида дохода среди пострадавших."
      ]
    },
    {
      "cell_type": "markdown",
      "metadata": {
        "id": "pw-tFQTJB1QC"
      },
      "source": [
        "Создадим функцию для замены номера категории на её название"
      ]
    },
    {
      "cell_type": "code",
      "metadata": {
        "id": "4sGlkGAgCGLI"
      },
      "source": [
        "def income(x):\r\n",
        "  d = {1.0: \"Бедность\",\r\n",
        "       2.0: \"Низкий\",\r\n",
        "       3.0: \"Средний\",\r\n",
        "       4.0: \"Высокий\",\r\n",
        "       5.0: \"Очень высокий\"}\r\n",
        "  return d[x]"
      ],
      "execution_count": 120,
      "outputs": []
    },
    {
      "cell_type": "markdown",
      "metadata": {
        "id": "YFcEh-UpCgiw"
      },
      "source": [
        "Создадим необходимую выборку из датафрейма и определим, достаточен ли ее размер для последующего анализа"
      ]
    },
    {
      "cell_type": "code",
      "metadata": {
        "colab": {
          "base_uri": "https://localhost:8080/"
        },
        "id": "tWiEu2TlCJru",
        "outputId": "10771028-3b23-4f51-95c0-15dbc89d6ad1"
      },
      "source": [
        "resp_income = victims['resp_income'].dropna() \\\r\n",
        "                    .sort_values().apply(income)\r\n",
        "\r\n",
        "print(\"Выборка содержит\", len(resp_income), \"строк\")"
      ],
      "execution_count": 121,
      "outputs": [
        {
          "output_type": "stream",
          "text": [
            "Выборка содержит 2910 строк\n"
          ],
          "name": "stdout"
        }
      ]
    },
    {
      "cell_type": "markdown",
      "metadata": {
        "id": "mEg0oqu-Cj-w"
      },
      "source": [
        "Посчитаем процентное содержание каждой категории в выборке"
      ]
    },
    {
      "cell_type": "code",
      "metadata": {
        "id": "dxXNfHY01SO4",
        "colab": {
          "base_uri": "https://localhost:8080/"
        },
        "outputId": "2e3be190-e0bd-4498-ecd7-33a9fbc800c8"
      },
      "source": [
        "group_resp_income = resp_income.value_counts(1). \\\n",
        "                    reindex(resp_income.unique())\n",
        "\n",
        "print(\"Среди пострадавших:\")\n",
        "for i in range(len(group_resp_income)):\n",
        "  print(\"{:<13} - {:.3f}%\".format(group_resp_income.index[i],\n",
        "                                  group_resp_income[i] * 100))\n"
      ],
      "execution_count": 122,
      "outputs": [
        {
          "output_type": "stream",
          "text": [
            "Среди пострадавших:\n",
            "Бедность      - 10.103%\n",
            "Низкий        - 27.491%\n",
            "Средний       - 35.739%\n",
            "Высокий       - 18.969%\n",
            "Очень высокий - 7.698%\n"
          ],
          "name": "stdout"
        }
      ]
    },
    {
      "cell_type": "markdown",
      "metadata": {
        "id": "yr9SkDtbxNve"
      },
      "source": [
        "Построим по полученным значениям график."
      ]
    },
    {
      "cell_type": "code",
      "metadata": {
        "id": "1N1ARhVPxQRd",
        "colab": {
          "base_uri": "https://localhost:8080/",
          "height": 460
        },
        "outputId": "d1881946-aaa6-4a83-a785-c0fc63dfe640"
      },
      "source": [
        "# Красивые графики\n",
        "plt.figure(figsize=(10, 6), linewidth=8, edgecolor=\"#04253a\") \\\n",
        ".set_facecolor(pltclr)\n",
        "\n",
        "group_resp_income.plot.bar(color=colors)\n",
        "\n",
        "plt.title('Влияние дохода на подверженность преступлениям')\n",
        "\n",
        "plt.grid(which='major', color = 'gray', axis='y', linestyle=':')"
      ],
      "execution_count": 123,
      "outputs": [
        {
          "output_type": "display_data",
          "data": {
            "image/png": "[encoded data removed]",
            "text/plain": [
              "<Figure size 720x432 with 1 Axes>"
            ]
          },
          "metadata": {
            "tags": []
          }
        }
      ]
    },
    {
      "cell_type": "markdown",
      "metadata": {
        "id": "WOcx1Nr7xo0-"
      },
      "source": [
        "**Вывод**:\n",
        "\n",
        "\n",
        "> Распределение процентного отношения подверженности преступлениям среди разных уровней дохода близко к нормальному распределению.\n",
        "\n",
        "> Логично предположить, что бедные менее подвержены преступлениям из-за отсутствия материальных средств и имущества, а люди с очень высоким уровнем дохода – в силу того, что их уровень достатка позволяет позаботится о безопасности своих ценностей.\n"
      ]
    },
    {
      "cell_type": "markdown",
      "metadata": {
        "id": "1cd-W8s07P_r"
      },
      "source": [
        "Определим зависимость между уровнем дохода и типом преступления. Для этого создадим выборки по каждому уровню дохода и найдем процентное соотношение видов преступлений среди полученных выборок"
      ]
    },
    {
      "cell_type": "code",
      "metadata": {
        "id": "7rN7Rx0VwpuA",
        "colab": {
          "base_uri": "https://localhost:8080/",
          "height": 526
        },
        "outputId": "04287b65-7668-4ad9-b9c6-0ae9be623905"
      },
      "source": [
        "#Графики процента вида преступления для каждого уровня доходов\n",
        "\n",
        "crime_income = pd.concat([victims['crime_type'].drop(victims['crime_type']\n",
        "                        [victims['crime_type'] == 8.0].index),\n",
        "                        victims['resp_income']], axis=1).dropna()\n",
        "\n",
        "s = []\n",
        "for i in range(1, 6):\n",
        "  s.append(crime_income[crime_income['resp_income'] == i]['crime_type']\n",
        "           .apply(crime_type_rename).value_counts(1).sort_index())\n",
        "  \n",
        "crime_type_lst = [\"Бедность\", \"Низкий\", \"Средний\", \"Высокий\", \"Очень\\nвысокий\"]\n",
        "\n",
        "fp = pd.DataFrame(s,\n",
        "              index=crime_type_lst,\n",
        "              columns=s[0].index)\n",
        "\n",
        "fig, ax = plt.subplots(linewidth=8, edgecolor=\"#04253a\")\n",
        "\n",
        "ax.set_facecolor('white')\n",
        "fig.set_figwidth(16)    #  ширина Figure\n",
        "fig.set_figheight(8)    #  высота Figure\n",
        "fig.set_facecolor(pltclr)\n",
        "\n",
        "fp.plot.bar(color=colors, ax=ax, width=0.8)\n",
        "\n",
        "plt.grid(which='major', color = 'gray', axis='y', linestyle=':')\n",
        "\n",
        "plt.ylim(top=0.5)\n",
        "\n",
        "plt.show()"
      ],
      "execution_count": 124,
      "outputs": [
        {
          "output_type": "display_data",
          "data": {
            "image/png": "[encoded data removed]",
            "text/plain": [
              "<Figure size 1152x576 with 1 Axes>"
            ]
          },
          "metadata": {
            "tags": []
          }
        }
      ]
    },
    {
      "cell_type": "markdown",
      "metadata": {
        "id": "CYvD8xiSyHYG"
      },
      "source": [
        "**Вывод:**\n",
        "\n",
        "> Среди всех уровней дохода наиболее распространённым видом преступления является мошенничество. Наиболее подвержены люди с низкими и очень низкими доходами.\n",
        "\n",
        "> Бедные больше других подвержены грабежам и разбоям, угрозам, но меньше всех – нападениям и прочим видам преступлений.\n",
        "\n",
        "> Люди с очкеь высоким уровнем дохода часто становятся жертвами угроз, нападений, грабежей и разбоев, что связанно с повышенной заинтересованностью преступников в заполучении чужих материальных ценностей.\n",
        "\n",
        "> Высокий класс больше других подвержен кражам.\n",
        "\n"
      ]
    },
    {
      "cell_type": "markdown",
      "metadata": {
        "id": "2FAll3_Q7Qor"
      },
      "source": [
        "## Анализ скорости реагирования правоохранителей"
      ]
    },
    {
      "cell_type": "markdown",
      "metadata": {
        "id": "N8hyA1Bu0pQb"
      },
      "source": [
        "Определим скорость реагирования правоохранительных органов на преступления."
      ]
    },
    {
      "cell_type": "markdown",
      "metadata": {
        "id": "oHI-lmDcDJKo"
      },
      "source": [
        "Создадим функцию для замены номера категории на её название"
      ]
    },
    {
      "cell_type": "code",
      "metadata": {
        "id": "3KhHBrTwDJvj"
      },
      "source": [
        "def reaction_time_group(x):\r\n",
        "  d = {1.0: \"Менее чем 30 минут\",\r\n",
        "       2.0: \"Менее чем 1 час\",\r\n",
        "       3.0: \"Менее чем 3 часа\",\r\n",
        "       4.0: \"Менее чем 6 часов\",\r\n",
        "       5.0: \"Менее чем 12 часов\",\r\n",
        "       6.0: \"Не приехали\"}\r\n",
        "  return d[x]"
      ],
      "execution_count": 125,
      "outputs": []
    },
    {
      "cell_type": "markdown",
      "metadata": {
        "id": "-8J37WZuEKM-"
      },
      "source": [
        "Создадим необходимую выборку из датафрейма и определим, достаточен ли ее размер для последующего анализа"
      ]
    },
    {
      "cell_type": "code",
      "metadata": {
        "colab": {
          "base_uri": "https://localhost:8080/"
        },
        "id": "_jAvFtl5DMHI",
        "outputId": "533aab74-d543-4307-eaf5-5cbc03a7b2ae"
      },
      "source": [
        "police_react = victims['victim_police_reaction_time'] \\\r\n",
        "              .dropna().sort_values().drop(\r\n",
        "              victims['victim_police_reaction_time']\r\n",
        "              [victims['victim_police_reaction_time'] == 7.0].index) \\\r\n",
        "              .apply(reaction_time_group)\r\n",
        "\r\n",
        "print(\"Выборка содержит\", len(police_react), \"строк\")"
      ],
      "execution_count": 126,
      "outputs": [
        {
          "output_type": "stream",
          "text": [
            "Выборка содержит 422 строк\n"
          ],
          "name": "stdout"
        }
      ]
    },
    {
      "cell_type": "markdown",
      "metadata": {
        "id": "s5cfHABBEMmH"
      },
      "source": [
        "Посчитаем процентное содержание каждой категории в выборке"
      ]
    },
    {
      "cell_type": "code",
      "metadata": {
        "id": "4BUn3PN8-EUz",
        "colab": {
          "base_uri": "https://localhost:8080/"
        },
        "outputId": "27e94b90-db42-4806-ffef-117425fe5008"
      },
      "source": [
        "group_police_reaction = police_react.value_counts(1) \\\n",
        "                        .reindex(police_react.unique())\n",
        "\n",
        "print(\"Полиция среагировала:\")\n",
        "for i in range(len(group_police_reaction)):\n",
        "  print(\"{:<18} - {:.3f}%\".format(group_police_reaction.index[i],\n",
        "                                  group_police_reaction[i] * 100))\n"
      ],
      "execution_count": 127,
      "outputs": [
        {
          "output_type": "stream",
          "text": [
            "Полиция среагировала:\n",
            "Менее чем 30 минут - 50.000%\n",
            "Менее чем 1 час    - 25.592%\n",
            "Менее чем 3 часа   - 10.427%\n",
            "Менее чем 6 часов  - 1.659%\n",
            "Менее чем 12 часов - 2.844%\n",
            "Не приехали        - 9.479%\n"
          ],
          "name": "stdout"
        }
      ]
    },
    {
      "cell_type": "markdown",
      "metadata": {
        "id": "mUYio96i0gzF"
      },
      "source": [
        "Построим по полученным значениям график.\n"
      ]
    },
    {
      "cell_type": "code",
      "metadata": {
        "id": "s4oSu-ey0g7l",
        "colab": {
          "base_uri": "https://localhost:8080/",
          "height": 487
        },
        "outputId": "a2c2021d-899c-49fe-e5bf-982c91ca2700"
      },
      "source": [
        "# Красивые графики\n",
        "plt.figure(figsize=(10, 6), linewidth=8, edgecolor=\"#04253a\") \\\n",
        ".set_facecolor(pltclr)\n",
        "\n",
        "group_police_reaction.plot.bar(color=colors)\n",
        "\n",
        "plt.title('Скорость реагирования правоохранителей')\n",
        "\n",
        "plt.grid(which='major', color = 'gray', axis='y', linestyle=':')"
      ],
      "execution_count": 128,
      "outputs": [
        {
          "output_type": "display_data",
          "data": {
            "image/png": "[encoded data removed]",
            "text/plain": [
              "<Figure size 720x432 with 1 Axes>"
            ]
          },
          "metadata": {
            "tags": []
          }
        }
      ]
    },
    {
      "cell_type": "markdown",
      "metadata": {
        "id": "iEG_14bq7bKL"
      },
      "source": [
        "**Вывод:**\n",
        "> В половине случаев правоохранители реагируют на вызов с должной скоростью (меньше 30 минут)\n",
        "\n",
        "> В четверти случаев полицейские приезжают менее чем за час.\n",
        "\n",
        "> В 10% случаев полицейские приезжают в течение трех часов.\n",
        "\n",
        "> Почти в каждом десятом случае полицейские не приезжают по вызову"
      ]
    },
    {
      "cell_type": "markdown",
      "metadata": {
        "id": "-owgus0J-BOD"
      },
      "source": [
        "## Анализ материального ущерба пострадавших"
      ]
    },
    {
      "cell_type": "markdown",
      "metadata": {
        "id": "7X2uU6aALy1d"
      },
      "source": [
        "Проанализируем материальный ущерб пострадавшим, определим медианное и среднее значение материального ущерба."
      ]
    },
    {
      "cell_type": "markdown",
      "metadata": {
        "id": "FRhQeEHkFRS9"
      },
      "source": [
        "Создадим выборку, содержащую материальный ущерб жертв преступлений и посчитаем её размер"
      ]
    },
    {
      "cell_type": "code",
      "metadata": {
        "colab": {
          "base_uri": "https://localhost:8080/"
        },
        "id": "rGcQinATFaIn",
        "outputId": "93838459-9528-4a1a-dfb3-77e814961cc9"
      },
      "source": [
        "damage_rub = victims['victim_damage_rub'] \\\r\n",
        "            [victims['victim_damage_rub'] != 0.0].dropna() \r\n",
        "\r\n",
        "print(\"Выборка содержит\", len(damage_rub), \"строк\")"
      ],
      "execution_count": 129,
      "outputs": [
        {
          "output_type": "stream",
          "text": [
            "Выборка содержит 2007 строк\n"
          ],
          "name": "stdout"
        }
      ]
    },
    {
      "cell_type": "markdown",
      "metadata": {
        "id": "8Ejm5MeFFqor"
      },
      "source": [
        "Теперь посчитаем средний и медианный материальные ущербы"
      ]
    },
    {
      "cell_type": "code",
      "metadata": {
        "colab": {
          "base_uri": "https://localhost:8080/"
        },
        "id": "pSNJfS5PFpu3",
        "outputId": "ffd9a088-5e8d-4cb1-e39b-3dd6494364ed"
      },
      "source": [
        "damage_median = damage_rub.median()\r\n",
        "\r\n",
        "damage_mean = damage_rub.mean()\r\n",
        "\r\n",
        "print(\"Медиана материального ушерба - {} рублей\"\r\n",
        "        .format(int(damage_median)))\r\n",
        "\r\n",
        "print(\"Среднее материального ушерба - {} рублей\"\r\n",
        "        .format(int(damage_mean)))"
      ],
      "execution_count": 130,
      "outputs": [
        {
          "output_type": "stream",
          "text": [
            "Медиана материального ушерба - 12000 рублей\n",
            "Среднее материального ушерба - 3116267 рублей\n"
          ],
          "name": "stdout"
        }
      ]
    },
    {
      "cell_type": "markdown",
      "metadata": {
        "id": "w53BDV9QF761"
      },
      "source": [
        "Мы можем заметить что среднее значение значительно отличается от медианного из-за выброса в данных. Исключаем выбросы:"
      ]
    },
    {
      "cell_type": "code",
      "metadata": {
        "colab": {
          "base_uri": "https://localhost:8080/"
        },
        "id": "TjI8PRQ9GGbH",
        "outputId": "73211ee4-f809-40f6-f693-ae83783207f3"
      },
      "source": [
        "print(\"До исключения выбросов выборка содержала\", len(damage_rub), \"строк\")\r\n",
        "\r\n",
        "damage_rub = damage_rub[(damage_rub * damage_median\r\n",
        "                         / np.std(damage_rub)) < 3]\r\n",
        "\r\n",
        "print(\"После исключения выбросов выборка содержит\", len(damage_rub), \"строк\")"
      ],
      "execution_count": 131,
      "outputs": [
        {
          "output_type": "stream",
          "text": [
            "До исключения выбросов выборка содержала 2007 строк\n",
            "После исключения выбросов выборка содержит 1452 строк\n"
          ],
          "name": "stdout"
        }
      ]
    },
    {
      "cell_type": "markdown",
      "metadata": {
        "id": "62oQDAOwGsXb"
      },
      "source": [
        "Повторим вычисления"
      ]
    },
    {
      "cell_type": "code",
      "metadata": {
        "id": "Hs1GfCRYfVKv",
        "colab": {
          "base_uri": "https://localhost:8080/"
        },
        "outputId": "4df2a484-952f-4326-ffd4-fbe6b9b1391f"
      },
      "source": [
        "damage_median_new = damage_rub.median()\n",
        "\n",
        "damage_mean_new = damage_rub.mean()\n",
        "\n",
        "print(\"Медиана материального ушерба после исключения выбросов - {} рублей\"\n",
        "        .format(int(damage_median_new)))\n",
        "\n",
        "print(\"Отличие между медианой до исключения выбросов и после - {} рублей\\n\"\n",
        "        .format(abs(int(damage_median_new) - int(damage_median))))\n",
        "\n",
        "print(\"Среднее материального ушерба после исключения выбросов - {} рублей\"\n",
        "        .format(int(damage_mean_new)))\n",
        "\n",
        "print(\"Отличие между средним до исключения выбросов и после - {} рублей\"\n",
        "        .format(abs(int(damage_mean_new) - int(damage_mean))))"
      ],
      "execution_count": 132,
      "outputs": [
        {
          "output_type": "stream",
          "text": [
            "Медиана материального ушерба после исключения выбросов - 7000 рублей\n",
            "Отличие между медианой до исключения выбросов и после - 5000 рублей\n",
            "\n",
            "Среднее материального ушерба после исключения выбросов - 9818 рублей\n",
            "Отличие между средним до исключения выбросов и после - 3106449 рублей\n"
          ],
          "name": "stdout"
        }
      ]
    },
    {
      "cell_type": "markdown",
      "metadata": {
        "id": "WsMl-iApMQXh"
      },
      "source": [
        "Построим по полученным значениям график."
      ]
    },
    {
      "cell_type": "code",
      "metadata": {
        "id": "Yau1LKOwMQhV",
        "colab": {
          "base_uri": "https://localhost:8080/",
          "height": 390
        },
        "outputId": "6bbdca82-7711-420c-9f42-678319ae8b8b"
      },
      "source": [
        "# Красивые графики\n",
        "damage_index = [int(x) for x in damage_rub.index.tolist()]\n",
        "\n",
        "plt.figure(figsize=(12, 6), linewidth=8, edgecolor=\"#04253a\") \\\n",
        ".set_facecolor(pltclr)\n",
        "\n",
        "plt.hist(damage_rub, color='dimgray')\n",
        "plt.plot([damage_median_new, damage_median_new], [0, 500], 'r--', linewidth=3)\n",
        "plt.plot([damage_mean_new, damage_mean_new], [0, 500], 'b--', linewidth=3)\n",
        "\n",
        "med_patch = mpatches.Patch(color='red', label='Медиана')\n",
        "mean_patch = mpatches.Patch(color='blue', label='Среднее')\n",
        "plt.legend(handles=[med_patch, mean_patch])\n",
        "\n",
        "plt.title('Материальный ущерб пострадавшим')\n",
        "plt.grid(which='major', color = 'gray', axis='y', linestyle=':') # boxplot"
      ],
      "execution_count": 133,
      "outputs": [
        {
          "output_type": "display_data",
          "data": {
            "image/png": "[encoded data removed]",
            "text/plain": [
              "<Figure size 864x432 with 1 Axes>"
            ]
          },
          "metadata": {
            "tags": []
          }
        }
      ]
    },
    {
      "cell_type": "markdown",
      "metadata": {
        "id": "Oe9tPXKz-G7U"
      },
      "source": [
        "**Вывод:**\n",
        "> Существуют случаи, когда ущерб в результате преступления значительно превышает ущерб в большинстве других случаев. Из-за значительного влияния на среднее и медианное значение, данные случаи были исключены.\n",
        "\n",
        "> Медианный материальный ущерб после исключения выбросов данных, полученный пострадавшими в результате преступления, составляет 7 000 рублей.\n",
        "\n",
        "> Средний материальный ущерб после исключения выбросов данных, полученный пострадавшими в результате преступления, составляет 9 818 рублей.\n",
        "\n",
        "> В большинстве случаев материальный ущерб составил менее 10 000 рублей."
      ]
    },
    {
      "cell_type": "markdown",
      "metadata": {
        "id": "--PFEkhy-W3M"
      },
      "source": [
        "## Анализ зависимости вида преступлений от времени суток"
      ]
    },
    {
      "cell_type": "markdown",
      "metadata": {
        "id": "Mnl1cUcZ10QK"
      },
      "source": [
        "Определим процентную зависимость количества совершаемых преступлений от времени суток."
      ]
    },
    {
      "cell_type": "markdown",
      "metadata": {
        "id": "7g2YIvtqEShg"
      },
      "source": [
        "Создадим функцию для замены номера категории на её название"
      ]
    },
    {
      "cell_type": "code",
      "metadata": {
        "id": "fpZ8D0R0ES5_"
      },
      "source": [
        "def if_day(x):\r\n",
        "  if x == 1.0:\r\n",
        "    return 'День'\r\n",
        "  else:\r\n",
        "    return 'Ночь'"
      ],
      "execution_count": 134,
      "outputs": []
    },
    {
      "cell_type": "markdown",
      "metadata": {
        "id": "RSqFyDOEFNeg"
      },
      "source": [
        "Создадим необходимую выборку из датафрейма и определим, достаточен ли ее размер для последующего анализа"
      ]
    },
    {
      "cell_type": "code",
      "metadata": {
        "colab": {
          "base_uri": "https://localhost:8080/"
        },
        "id": "gaATaZBMEVq7",
        "outputId": "3af32ba1-0f93-4a6c-f250-6ac0502a588a"
      },
      "source": [
        "victims_time = victims['crime_is_daytime'].dropna() \\\r\n",
        ".apply(if_day)\r\n",
        "\r\n",
        "print(\"Выборка содержит\", len(victims_time), \"строк\")"
      ],
      "execution_count": 135,
      "outputs": [
        {
          "output_type": "stream",
          "text": [
            "Выборка содержит 3001 строк\n"
          ],
          "name": "stdout"
        }
      ]
    },
    {
      "cell_type": "markdown",
      "metadata": {
        "id": "pCRugQQZFC2P"
      },
      "source": [
        "Посчитаем процентное содержание каждой категории в выборке"
      ]
    },
    {
      "cell_type": "code",
      "metadata": {
        "id": "coyl-d6Srsn1",
        "colab": {
          "base_uri": "https://localhost:8080/"
        },
        "outputId": "1cd6f881-fadf-4507-b4b6-90c7eb2912c7"
      },
      "source": [
        "victims_time_count = victims_time.value_counts(1)\n",
        "\n",
        "print(\"Время суток в момент совершения преступления:\")\n",
        "for i in range(len(victims_time_count)):\n",
        "  print(\"{} - {:.3f}%\".format(victims_time_count.index[i],\n",
        "                                  victims_time_count[i] * 100))"
      ],
      "execution_count": 136,
      "outputs": [
        {
          "output_type": "stream",
          "text": [
            "Время суток в момент совершения преступления:\n",
            "День - 65.178%\n",
            "Ночь - 34.822%\n"
          ],
          "name": "stdout"
        }
      ]
    },
    {
      "cell_type": "markdown",
      "metadata": {
        "id": "KPsxIsOT1x5M"
      },
      "source": [
        "Построим по полученным значениям график."
      ]
    },
    {
      "cell_type": "code",
      "metadata": {
        "id": "0NY0FHsL1X0p",
        "colab": {
          "base_uri": "https://localhost:8080/",
          "height": 373
        },
        "outputId": "f98f8b13-4ded-4f40-fc11-f4fa0a9414a7"
      },
      "source": [
        "#Красивые графики\n",
        "ax = plt.figure(figsize=(10, 6), linewidth=8, edgecolor=\"#04253a\")\n",
        "ax.set_facecolor(digclr)\n",
        "\n",
        "\n",
        "plt.pie(victims_time_count, labels=victims_time_count.index, colors=('wheat','dimgray'),\n",
        "        explode=(0, 0.15), shadow=True, startangle=90, autopct='%1.1f%%')\n",
        "\n",
        "plt.title('Зависимость числа преступлений от времени суток')\n",
        "\n",
        "plt.grid(which='major', color = 'gray', axis='y', linestyle=':')"
      ],
      "execution_count": 137,
      "outputs": [
        {
          "output_type": "display_data",
          "data": {
            "image/png": "[encoded data removed]",
            "text/plain": [
              "<Figure size 720x432 with 1 Axes>"
            ]
          },
          "metadata": {
            "tags": []
          }
        }
      ]
    },
    {
      "cell_type": "markdown",
      "metadata": {
        "id": "aFYNZxBu-ceq"
      },
      "source": [
        "**Вывод:**\n",
        "> Большая часть преступлений совершается в дневное время суток."
      ]
    },
    {
      "cell_type": "markdown",
      "metadata": {
        "id": "S3eJbi9v2AWr"
      },
      "source": [
        "Затем попробуем найти зависимость между определенным видом преступления и временем суток. Для этого создадим выборки по каждому виду преступлений и посчитаем процентное соотношение преступлений ночью и преступлений днем"
      ]
    },
    {
      "cell_type": "code",
      "metadata": {
        "id": "ArL48g-42AsD",
        "colab": {
          "base_uri": "https://localhost:8080/",
          "height": 402
        },
        "outputId": "dba2592a-016e-46e7-e7ef-eb0e6ba874ba"
      },
      "source": [
        "crimes = victims['crime_type'][victims['crime_type'] != 8.0]\n",
        "\n",
        "daytime_crime = crimes[victims['crime_is_daytime'] == 1.0] \\\n",
        ".value_counts(1).sort_index().tolist()\n",
        "\n",
        "nighttime_crime = crimes[victims['crime_is_daytime'] == 0.0] \\\n",
        ".value_counts(1).sort_index().tolist()\n",
        "\n",
        "# Красивые графики\n",
        "tick_names = ['Нападение',\n",
        "              'Угрозы',\n",
        "              'Грабеж и разбой',\n",
        "              'Кража',\n",
        "              'Мошенничество',\n",
        "              'Удаленное\\nмошенничество',\n",
        "              'Прочее'] \n",
        "\n",
        "fig, ax = plt.subplots(linewidth=8, edgecolor=\"#04253a\")\n",
        "\n",
        "ax.bar(tick_names, daytime_crime, align='edge',\n",
        "       width=0.4, color='wheat')\n",
        "ax.bar(tick_names, nighttime_crime, align='edge',\n",
        "       width=-0.4, color='dimgray')\n",
        "plt.grid(which='major', color = 'gray', axis='y', linestyle=':')\n",
        "\n",
        "plt.title('Зависимость вида преступлений от времени суток')\n",
        "\n",
        "day_patch = mpatches.Patch(color='wheat', label='День')\n",
        "night_patch = mpatches.Patch(color='dimgray', label='Ночь')\n",
        "ax.legend(handles=[day_patch, night_patch])\n",
        "\n",
        "ax.set_facecolor('white')\n",
        "fig.set_figwidth(12)    #  ширина Figure\n",
        "fig.set_figheight(6)    #  высота Figure\n",
        "fig.set_facecolor(pltclr)"
      ],
      "execution_count": 138,
      "outputs": [
        {
          "output_type": "display_data",
          "data": {
            "image/png": "[encoded data removed]",
            "text/plain": [
              "<Figure size 864x432 with 1 Axes>"
            ]
          },
          "metadata": {
            "tags": []
          }
        }
      ]
    },
    {
      "cell_type": "markdown",
      "metadata": {
        "id": "LX18Y_2J2BZi"
      },
      "source": [
        "**Вывод:**\n",
        "> Наиболее серьезные преступления, такие как нападения, угрозы, грабежи и разбои, кражи, совершаются в большинстве случаев в тёмное время суток\n",
        "\n",
        "> Преступления, связанные с мошенничеством и удаленным мошенничеством, чаще всего совершаются днём\n",
        "\n",
        "> Таким образом, несмотря на то, что большинство преступлений осуществляется днём, наиболее тяжкие из них осуществляются ночью. Процент дневных преступлений больше, поскольку значительная часть от них занимает мошенничество, осуществляемое в большинстве случаев в светлое время суток."
      ]
    }
  ]
}