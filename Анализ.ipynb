{
  "nbformat": 4,
  "nbformat_minor": 0,
  "metadata": {
    "colab": {
      "name": "Анализ",
      "provenance": [],
      "collapsed_sections": [],
      "toc_visible": true
    },
    "kernelspec": {
      "name": "python3",
      "display_name": "Python 3"
    }
  },
  "cells": [
    {
      "cell_type": "markdown",
      "metadata": {
        "id": "d74yU_xFnrP9"
      },
      "source": [
        "# **Анализ данных национального виктимизационного опроса**"
      ]
    },
    {
      "cell_type": "markdown",
      "metadata": {
        "id": "vesAI04eyU9Q"
      },
      "source": [
        "# Данный проект посвящен изучению преступности на территории Российской Федерации. Целью работы является выявление связей между разными характеристиками преступлений.\r\n",
        ">##### Данные для анализа собраны Институтом проблем правоприменения (ИПП) при ЕУ СПб и представляют результаты телефонного опроса респондентов не моложе 18 лет на основании простой случайной выборки телефонных номеров. Респонденты опрашивались не зависимо от гражданства, но, по понятным причинам, большинство (98.1%) были гражданами РФ. Вопросы делились на анкетные (пол, возраст, социо-демографический профиль), основной («были ли жертвой преступления») и уточняющие вопросы о преступлениях (где, когда и т.п.). Анкета составлена специальным образом профессионалами, учитывая многие особенности, например специфику русского языка.\r\n",
        "# Задачи данного исследования:\r\n",
        "*   Ознакомиться с форматом данных, осуществить предобработку.\r\n",
        "*   Сделать анализ данных опроса жителей РФ о преступлениях, жертвами которых они становились.\r\n",
        "*   Cделать визуализации найденных закономерностей.\r\n",
        "\r\n",
        "\r\n",
        "\r\n"
      ]
    },
    {
      "cell_type": "markdown",
      "metadata": {
        "id": "zhvSPTwcIlGh"
      },
      "source": [
        "##Структура проекта"
      ]
    },
    {
      "cell_type": "markdown",
      "metadata": {
        "id": "7YyOdIqCIuWh"
      },
      "source": [
        "---\r\n",
        "\r\n",
        "\r\n",
        "1.   [***Импорт необходимых библиотек***](#Импорт-необходимых-библиотек)\r\n",
        "2.   [***Загрузка и предварительная обработка данных***](#Загрузка-и-предварительная-обработка-данных)\r\n",
        "3.   [***Был ли респодент жертвой преступления?***](#Был-ли-респодент-жертвой-преступления?)\r\n",
        "4.   [***Анализ влияния полового признака на совершение преступлений и подверженность им***](#Анализ-влияния-полового-признака-на-совершение-преступлений-и-подверженность-им)\r\n",
        "5.   [***Был ли найден нападавший?***](#Был-ли-найден-нападавший?)\r\n",
        "6.   [***Была ли необходима медицинская помощь?***](#Была-ли-необходима-медицинская-помощь?)\r\n",
        "7.   [***Был ли нападавший при исполнении?***](#Был-ли-нападавший-при-исполнении?)\r\n",
        "8.   [***Анализ частоты видов преступлений***](#Анализ-частоты-видов-преступлений)\r\n",
        "9.   [***Анализ влияния возраста на подверженность преступлениям***](#Анализ-влияния-возраста-на-подверженность-преступлениям)\r\n",
        "10.   [***Анализ влияния дохода на подверженность преступлениям***](#Анализ-влияния-дохода-на-подверженность-преступлениям)\r\n",
        "11.   [***Анализ скорости реагирования правоохранителей***](#Анализ-скорости-реагирования-правоохранителей)\r\n",
        "12.   [***Анализ материального ущерба пострадавших***](#Анализ-материального-ущерба-пострадавших)\r\n",
        "13.   [***Анализ зависимости вида преступлений от времени суток***](#Анализ-зависимости-вида-преступлений-от-времени-суток)\r\n",
        "\r\n",
        "\r\n",
        "---\r\n",
        "\r\n",
        "\r\n",
        "\r\n"
      ]
    },
    {
      "cell_type": "markdown",
      "metadata": {
        "id": "4l08qe_-oL-D"
      },
      "source": [
        "## Импорт необходимых библиотек"
      ]
    },
    {
      "cell_type": "code",
      "metadata": {
        "id": "SBNjXjZ6zHnY"
      },
      "source": [
        "#Импорт\n",
        "\n",
        "import pandas as pd\n",
        "import numpy as np\n",
        "import matplotlib.pyplot as plt\n",
        "import seaborn as sns\n",
        "import sklearn\n",
        "from tensorflow.keras.utils import get_file as getfile  # Используется для того, чтобы скачать датасет напрямую\n",
        "import matplotlib.patches as mpatches\n",
        "from scipy import stats\n",
        "from copy import copy"
      ],
      "execution_count": 200,
      "outputs": []
    },
    {
      "cell_type": "markdown",
      "metadata": {
        "id": "0Yc7flCEl3Kp"
      },
      "source": [
        "## Загрузка и предварительная обработка данных"
      ]
    },
    {
      "cell_type": "markdown",
      "metadata": {
        "id": "vdSeyBbcMzog"
      },
      "source": [
        "*После изучения данных и рекомендаций в технической документации, было принято решение использовать **только сконструированные переменные**, которые не несут в себе субъективных оценок респондента и являются необходимыми для анализа, добавив к ним переменные:*\n",
        "\n",
        "\n",
        "*   crime_asked_medical_help – нуждалась ли жертва в оказании медицинской помощи (логическая переменная)\n",
        "\n",
        "*   offender_is_on_duty – был ли преступник должностным лицом или при исполнении (логическая переменная)\n",
        "\n",
        "\n",
        "\n"
      ]
    },
    {
      "cell_type": "markdown",
      "metadata": {
        "id": "Dl7gXrcpOLFN"
      },
      "source": [
        "**Загрузка файла с серверов Гарварда**"
      ]
    },
    {
      "cell_type": "code",
      "metadata": {
        "id": "PbQJ2R8LF0wE"
      },
      "source": [
        "# Загрузка файла с серверов Гарварда\n",
        "dataset_path = getfile(\"dataset.csv\", \"https://dataverse.harvard.edu/api/access/datafile/3676762?format=original&gbrecs=true\")"
      ],
      "execution_count": 201,
      "outputs": []
    },
    {
      "cell_type": "markdown",
      "metadata": {
        "id": "eUCysRzTOGLt"
      },
      "source": [
        ""
      ]
    },
    {
      "cell_type": "code",
      "metadata": {
        "id": "ULGZ1rvn23VY",
        "colab": {
          "base_uri": "https://localhost:8080/",
          "height": 218
        },
        "outputId": "b4d09aee-a326-4e7f-9b09-6c39a12181db"
      },
      "source": [
        "# Преобразование в датафрейм\n",
        "raw_dataset = pd.read_csv(dataset_path)\n",
        "df = raw_dataset.copy()\n",
        "\n",
        "# Добавляем переменные\n",
        "df['crime_asked_medical_help'] = df['Q28']\n",
        "df['offender_is_on_duty'] = df['Q12']\n",
        "df['interview_duration'] = df['IVDur']\n",
        "df.drop(df.iloc[:, :122], inplace=True, axis=1)\n",
        "\n",
        "\n",
        "# Список удаляемых сконструированных переменных, несущих в себе субъективные оценки корреспондента / не используемых в анализе\n",
        "drop_list = ['resp_place_is_city', 'resp_place_population',\n",
        "         'resp_household_size', 'resp_is_enforcers_familiar',\n",
        "         'resp_sample_group', 'resp_ses_is_pensioner', \n",
        "         'resp_ses_is_welfare', 'resp_ses_is_looked_for_job', \n",
        "         'resp_ses_job_is_manager', 'resp_ses_job_is_freelancer', \n",
        "         'resp_ses_job_is_manual', 'resp_ses_job_is_private', \n",
        "         'resp_ses_job_is_public', 'resp_ses_is_student', \n",
        "         'resp_ses_is_employed', 'crime_is_offender_seen', \n",
        "         'crime_place', 'crime_place_remote', 'crime_place_is_home', \n",
        "         'crime_is_people_around','victim_is_self_accuse', \n",
        "         'victim_damage_rub_ln', 'victim_is_repeat_contact_with_police', \n",
        "         'victim_police_number_of_contacts', 'victim_who_contacted_police',\n",
        "         'victim_way_to_contact_police', 'victim_is_compensated', \n",
        "         'victim_is_reconciliation', 'victim_is_told_anyone', \n",
        "         'offender_is_alone','offender_is_familiar', \n",
        "         'offender_relationship'] \n",
        "\n",
        "df.drop(drop_list, axis=1, inplace=True) # Удаление переменных\n",
        "\n",
        "# Расставляем столбцы в правильном порядке\n",
        "cols =['interview_duration', 'resp_is_male', 'resp_age',\n",
        "       'resp_is_living_alone', 'resp_is_married',\n",
        "       'resp_income', 'resp_edu', 'resp_is_crime_record',\n",
        "       'resp_is_russian_citizen', 'resp_is_crime_victim', 'resp_ses',\n",
        "       'crime_season', 'crime_is_remote', 'crime_is_property_damage',\n",
        "       'crime_is_violent_damage', 'crime_is_seeking_medical_help',\n",
        "       'crime_asked_medical_help', 'crime_is_property_acquisition',\n",
        "       'crime_is_fraud', 'crime_is_threat', 'crime_type',\n",
        "       'crime_place_grouped', 'crime_is_daytime', 'victim_is_reporting',\n",
        "       'victim_damage_physical', 'victim_damage_rub',\n",
        "       'victim_is_crime_case_initiated', 'victim_police_reaction_time',\n",
        "       'victim_is_offender_found', 'victim_who_found_offender',\n",
        "       'victim_is_offender_punished', 'victim_is_went_to_court',\n",
        "       'victim_compensation', 'offender_is_male', 'offender_is_on_duty',\n",
        "       'offender_is_drug_intoxicated', 'offender_relationship_grouped']\n",
        "\n",
        "df = df[cols]\n",
        "\n",
        "df.head()"
      ],
      "execution_count": 202,
      "outputs": [
        {
          "output_type": "execute_result",
          "data": {
            "text/html": [
              "<div>\n",
              "<style scoped>\n",
              "    .dataframe tbody tr th:only-of-type {\n",
              "        vertical-align: middle;\n",
              "    }\n",
              "\n",
              "    .dataframe tbody tr th {\n",
              "        vertical-align: top;\n",
              "    }\n",
              "\n",
              "    .dataframe thead th {\n",
              "        text-align: right;\n",
              "    }\n",
              "</style>\n",
              "<table border=\"1\" class=\"dataframe\">\n",
              "  <thead>\n",
              "    <tr style=\"text-align: right;\">\n",
              "      <th></th>\n",
              "      <th>interview_duration</th>\n",
              "      <th>resp_is_male</th>\n",
              "      <th>resp_age</th>\n",
              "      <th>resp_is_living_alone</th>\n",
              "      <th>resp_is_married</th>\n",
              "      <th>resp_income</th>\n",
              "      <th>resp_edu</th>\n",
              "      <th>resp_is_crime_record</th>\n",
              "      <th>resp_is_russian_citizen</th>\n",
              "      <th>resp_is_crime_victim</th>\n",
              "      <th>resp_ses</th>\n",
              "      <th>crime_season</th>\n",
              "      <th>crime_is_remote</th>\n",
              "      <th>crime_is_property_damage</th>\n",
              "      <th>crime_is_violent_damage</th>\n",
              "      <th>crime_is_seeking_medical_help</th>\n",
              "      <th>crime_asked_medical_help</th>\n",
              "      <th>crime_is_property_acquisition</th>\n",
              "      <th>crime_is_fraud</th>\n",
              "      <th>crime_is_threat</th>\n",
              "      <th>crime_type</th>\n",
              "      <th>crime_place_grouped</th>\n",
              "      <th>crime_is_daytime</th>\n",
              "      <th>victim_is_reporting</th>\n",
              "      <th>victim_damage_physical</th>\n",
              "      <th>victim_damage_rub</th>\n",
              "      <th>victim_is_crime_case_initiated</th>\n",
              "      <th>victim_police_reaction_time</th>\n",
              "      <th>victim_is_offender_found</th>\n",
              "      <th>victim_who_found_offender</th>\n",
              "      <th>victim_is_offender_punished</th>\n",
              "      <th>victim_is_went_to_court</th>\n",
              "      <th>victim_compensation</th>\n",
              "      <th>offender_is_male</th>\n",
              "      <th>offender_is_on_duty</th>\n",
              "      <th>offender_is_drug_intoxicated</th>\n",
              "      <th>offender_relationship_grouped</th>\n",
              "    </tr>\n",
              "  </thead>\n",
              "  <tbody>\n",
              "    <tr>\n",
              "      <th>0</th>\n",
              "      <td>544</td>\n",
              "      <td>0</td>\n",
              "      <td>57</td>\n",
              "      <td>0.0</td>\n",
              "      <td>0.0</td>\n",
              "      <td>3.0</td>\n",
              "      <td>3.0</td>\n",
              "      <td>0.0</td>\n",
              "      <td>1.0</td>\n",
              "      <td>1</td>\n",
              "      <td>2.0</td>\n",
              "      <td>3.0</td>\n",
              "      <td>1.0</td>\n",
              "      <td>1.0</td>\n",
              "      <td>0.0</td>\n",
              "      <td>0.0</td>\n",
              "      <td>NaN</td>\n",
              "      <td>1.0</td>\n",
              "      <td>1.0</td>\n",
              "      <td>0.0</td>\n",
              "      <td>6.0</td>\n",
              "      <td>7.0</td>\n",
              "      <td>1.0</td>\n",
              "      <td>0.0</td>\n",
              "      <td>NaN</td>\n",
              "      <td>300.0</td>\n",
              "      <td>NaN</td>\n",
              "      <td>NaN</td>\n",
              "      <td>0.0</td>\n",
              "      <td>NaN</td>\n",
              "      <td>NaN</td>\n",
              "      <td>NaN</td>\n",
              "      <td>4.0</td>\n",
              "      <td>NaN</td>\n",
              "      <td>NaN</td>\n",
              "      <td>NaN</td>\n",
              "      <td>NaN</td>\n",
              "    </tr>\n",
              "    <tr>\n",
              "      <th>1</th>\n",
              "      <td>1643</td>\n",
              "      <td>0</td>\n",
              "      <td>59</td>\n",
              "      <td>0.0</td>\n",
              "      <td>1.0</td>\n",
              "      <td>NaN</td>\n",
              "      <td>3.0</td>\n",
              "      <td>0.0</td>\n",
              "      <td>1.0</td>\n",
              "      <td>1</td>\n",
              "      <td>2.0</td>\n",
              "      <td>1.0</td>\n",
              "      <td>0.0</td>\n",
              "      <td>1.0</td>\n",
              "      <td>0.0</td>\n",
              "      <td>0.0</td>\n",
              "      <td>NaN</td>\n",
              "      <td>1.0</td>\n",
              "      <td>0.0</td>\n",
              "      <td>0.0</td>\n",
              "      <td>3.0</td>\n",
              "      <td>2.0</td>\n",
              "      <td>1.0</td>\n",
              "      <td>1.0</td>\n",
              "      <td>NaN</td>\n",
              "      <td>80000.0</td>\n",
              "      <td>1.0</td>\n",
              "      <td>1.0</td>\n",
              "      <td>1.0</td>\n",
              "      <td>1.0</td>\n",
              "      <td>0.0</td>\n",
              "      <td>0.0</td>\n",
              "      <td>4.0</td>\n",
              "      <td>1.0</td>\n",
              "      <td>NaN</td>\n",
              "      <td>0.0</td>\n",
              "      <td>6.0</td>\n",
              "    </tr>\n",
              "    <tr>\n",
              "      <th>2</th>\n",
              "      <td>676</td>\n",
              "      <td>0</td>\n",
              "      <td>35</td>\n",
              "      <td>0.0</td>\n",
              "      <td>1.0</td>\n",
              "      <td>NaN</td>\n",
              "      <td>3.0</td>\n",
              "      <td>0.0</td>\n",
              "      <td>1.0</td>\n",
              "      <td>1</td>\n",
              "      <td>1.0</td>\n",
              "      <td>1.0</td>\n",
              "      <td>1.0</td>\n",
              "      <td>1.0</td>\n",
              "      <td>0.0</td>\n",
              "      <td>0.0</td>\n",
              "      <td>NaN</td>\n",
              "      <td>1.0</td>\n",
              "      <td>1.0</td>\n",
              "      <td>0.0</td>\n",
              "      <td>6.0</td>\n",
              "      <td>7.0</td>\n",
              "      <td>1.0</td>\n",
              "      <td>1.0</td>\n",
              "      <td>NaN</td>\n",
              "      <td>3000.0</td>\n",
              "      <td>1.0</td>\n",
              "      <td>NaN</td>\n",
              "      <td>1.0</td>\n",
              "      <td>1.0</td>\n",
              "      <td>1.0</td>\n",
              "      <td>1.0</td>\n",
              "      <td>1.0</td>\n",
              "      <td>NaN</td>\n",
              "      <td>NaN</td>\n",
              "      <td>NaN</td>\n",
              "      <td>NaN</td>\n",
              "    </tr>\n",
              "    <tr>\n",
              "      <th>3</th>\n",
              "      <td>510</td>\n",
              "      <td>0</td>\n",
              "      <td>22</td>\n",
              "      <td>1.0</td>\n",
              "      <td>0.0</td>\n",
              "      <td>3.0</td>\n",
              "      <td>3.0</td>\n",
              "      <td>0.0</td>\n",
              "      <td>1.0</td>\n",
              "      <td>1</td>\n",
              "      <td>3.0</td>\n",
              "      <td>3.0</td>\n",
              "      <td>0.0</td>\n",
              "      <td>1.0</td>\n",
              "      <td>0.0</td>\n",
              "      <td>0.0</td>\n",
              "      <td>NaN</td>\n",
              "      <td>1.0</td>\n",
              "      <td>1.0</td>\n",
              "      <td>0.0</td>\n",
              "      <td>5.0</td>\n",
              "      <td>1.0</td>\n",
              "      <td>1.0</td>\n",
              "      <td>1.0</td>\n",
              "      <td>NaN</td>\n",
              "      <td>7000.0</td>\n",
              "      <td>0.0</td>\n",
              "      <td>1.0</td>\n",
              "      <td>0.0</td>\n",
              "      <td>NaN</td>\n",
              "      <td>NaN</td>\n",
              "      <td>NaN</td>\n",
              "      <td>4.0</td>\n",
              "      <td>NaN</td>\n",
              "      <td>NaN</td>\n",
              "      <td>NaN</td>\n",
              "      <td>NaN</td>\n",
              "    </tr>\n",
              "    <tr>\n",
              "      <th>4</th>\n",
              "      <td>1107</td>\n",
              "      <td>0</td>\n",
              "      <td>79</td>\n",
              "      <td>0.0</td>\n",
              "      <td>1.0</td>\n",
              "      <td>1.0</td>\n",
              "      <td>3.0</td>\n",
              "      <td>0.0</td>\n",
              "      <td>1.0</td>\n",
              "      <td>1</td>\n",
              "      <td>2.0</td>\n",
              "      <td>3.0</td>\n",
              "      <td>1.0</td>\n",
              "      <td>0.0</td>\n",
              "      <td>0.0</td>\n",
              "      <td>0.0</td>\n",
              "      <td>NaN</td>\n",
              "      <td>0.0</td>\n",
              "      <td>0.0</td>\n",
              "      <td>0.0</td>\n",
              "      <td>8.0</td>\n",
              "      <td>7.0</td>\n",
              "      <td>1.0</td>\n",
              "      <td>1.0</td>\n",
              "      <td>NaN</td>\n",
              "      <td>0.0</td>\n",
              "      <td>1.0</td>\n",
              "      <td>2.0</td>\n",
              "      <td>0.0</td>\n",
              "      <td>NaN</td>\n",
              "      <td>NaN</td>\n",
              "      <td>0.0</td>\n",
              "      <td>4.0</td>\n",
              "      <td>1.0</td>\n",
              "      <td>NaN</td>\n",
              "      <td>0.0</td>\n",
              "      <td>6.0</td>\n",
              "    </tr>\n",
              "  </tbody>\n",
              "</table>\n",
              "</div>"
            ],
            "text/plain": [
              "   interview_duration  ...  offender_relationship_grouped\n",
              "0                 544  ...                            NaN\n",
              "1                1643  ...                            6.0\n",
              "2                 676  ...                            NaN\n",
              "3                 510  ...                            NaN\n",
              "4                1107  ...                            6.0\n",
              "\n",
              "[5 rows x 37 columns]"
            ]
          },
          "metadata": {
            "tags": []
          },
          "execution_count": 202
        }
      ]
    },
    {
      "cell_type": "markdown",
      "metadata": {
        "id": "T5UjMHJ91UFK"
      },
      "source": [
        "Создадим переменную, содержащию список цветов, для последующего использования при построении графиков в едином стиле"
      ]
    },
    {
      "cell_type": "code",
      "metadata": {
        "id": "goOywOMK1fzo"
      },
      "source": [
        "colors = ['powderblue',\r\n",
        "          'steelblue',\r\n",
        "          'deepskyblue',\r\n",
        "          'lightblue',\r\n",
        "          'darkturquoise',\r\n",
        "          'cadetblue',\r\n",
        "          'teal']\r\n",
        "\r\n",
        "pltclr = 'silver'\r\n",
        "digclr = 'whitesmoke'"
      ],
      "execution_count": 272,
      "outputs": []
    },
    {
      "cell_type": "markdown",
      "metadata": {
        "id": "Kzow9-RN1mLM"
      },
      "source": [
        "Проведен настройку библиотеки ***Pandas***, в частности отключим предупреждение о копировании данных"
      ]
    },
    {
      "cell_type": "code",
      "metadata": {
        "id": "9eKdjOk01lLb"
      },
      "source": [
        "pd.options.mode.chained_assignment = None  # default='warn'"
      ],
      "execution_count": 204,
      "outputs": []
    },
    {
      "cell_type": "markdown",
      "metadata": {
        "id": "5xV0iBOTw5I8"
      },
      "source": [
        "## Был ли респодент жертвой преступления?\r\n"
      ]
    },
    {
      "cell_type": "markdown",
      "metadata": {
        "id": "FOgon1Ik3Q7f"
      },
      "source": [
        "Определим процентное отношение людей, которые являлись жертвами преступлений среди опрошенных."
      ]
    },
    {
      "cell_type": "markdown",
      "metadata": {
        "id": "j1pcAYl73zQI"
      },
      "source": [
        "Создадим функцию для замены номера категории на её название"
      ]
    },
    {
      "cell_type": "code",
      "metadata": {
        "id": "NAweSYjg3ylH"
      },
      "source": [
        "def ifvictim(x):\r\n",
        "  if x:\r\n",
        "    return \"Постарадал\"\r\n",
        "  else:\r\n",
        "    return \"Не пострадал\""
      ],
      "execution_count": 205,
      "outputs": []
    },
    {
      "cell_type": "markdown",
      "metadata": {
        "id": "POGHy9Vq3_Sn"
      },
      "source": [
        "Создадим необходимую выборку из датафрейма и определим, достаточен ли ее размер для последующего анализа"
      ]
    },
    {
      "cell_type": "code",
      "metadata": {
        "colab": {
          "base_uri": "https://localhost:8080/"
        },
        "id": "T_UVJoyexFIZ",
        "outputId": "9419ea2c-c257-4eca-a66f-f577b383fd8a"
      },
      "source": [
        "resp_is_victim = df['resp_is_crime_victim'].dropna() \\\r\n",
        "                        .apply(ifvictim)\r\n",
        "\r\n",
        "print(\"Выборка содержит\", len(resp_is_victim), \"строк\")"
      ],
      "execution_count": 206,
      "outputs": [
        {
          "output_type": "stream",
          "text": [
            "Выборка содержит 16818 строк\n"
          ],
          "name": "stdout"
        }
      ]
    },
    {
      "cell_type": "markdown",
      "metadata": {
        "id": "OhLzM42o5ZYA"
      },
      "source": [
        "Посчитаем процентное содержание каждой категории в выборке"
      ]
    },
    {
      "cell_type": "code",
      "metadata": {
        "colab": {
          "base_uri": "https://localhost:8080/"
        },
        "id": "WF_N91jj4IP8",
        "outputId": "574ec0cc-6dfa-45ac-c789-83c934a8e065"
      },
      "source": [
        "resp_is_victim_count = resp_is_victim.value_counts(1).sort_values()\r\n",
        "\r\n",
        "print(\"Пострадал ли респондент от преступления?:\")\r\n",
        "for i in range(len(resp_is_victim_count)):\r\n",
        "  print(\"{} - {:.3f}%\".format(resp_is_victim_count.index[i],\r\n",
        "                              resp_is_victim_count[i] * 100))"
      ],
      "execution_count": 207,
      "outputs": [
        {
          "output_type": "stream",
          "text": [
            "Пострадал ли респондент от преступления?:\n",
            "Постарадал - 17.844%\n",
            "Не пострадал - 82.156%\n"
          ],
          "name": "stdout"
        }
      ]
    },
    {
      "cell_type": "markdown",
      "metadata": {
        "id": "AOx5uJ3cxMol"
      },
      "source": [
        "Построим по полученным значениям диаграмму"
      ]
    },
    {
      "cell_type": "code",
      "metadata": {
        "colab": {
          "base_uri": "https://localhost:8080/",
          "height": 319
        },
        "id": "UE1CQ6DNxJcg",
        "outputId": "f1412223-f549-47a9-eb1b-c33591c1ab0a"
      },
      "source": [
        "# Красивые графики\r\n",
        "plt.figure(figsize=(10, 5), linewidth=10, edgecolor=\"#04253a\").set_facecolor(digclr)\r\n",
        "plt.pie(resp_is_victim_count.tolist(), labels=resp_is_victim_count.index,\r\n",
        "        colors=('forestgreen', 'firebrick'), explode=(0, 0.15),\r\n",
        "        shadow=True, autopct='%1.1f%%')\r\n",
        "\r\n",
        "plt.title(\"Был ли респондент жертвой преступления?\")\r\n",
        "plt.show()"
      ],
      "execution_count": 274,
      "outputs": [
        {
          "output_type": "display_data",
          "data": {
            "image/png": "[encoded data removed]",
            "text/plain": [
              "<Figure size 720x360 with 1 Axes>"
            ]
          },
          "metadata": {
            "tags": []
          }
        }
      ]
    },
    {
      "cell_type": "markdown",
      "metadata": {
        "id": "3eHQlQ8G3aXX"
      },
      "source": [
        "**Вывод:**\r\n",
        "> Почти каждый четвертый респондент является жертвой преступления"
      ]
    },
    {
      "cell_type": "markdown",
      "metadata": {
        "id": "gceqDatSxZoO"
      },
      "source": [
        "Теперь разделим данные на две выборки - **\"*Пострадавшие*\"** и **\"*Не пострадавшие*\"**"
      ]
    },
    {
      "cell_type": "code",
      "metadata": {
        "id": "Ym3t7k3Lx8Z-"
      },
      "source": [
        "victims = df[df['resp_is_crime_victim'] == 1]\r\n",
        "\r\n",
        "not_victims = df[df['resp_is_crime_victim'] == 0]"
      ],
      "execution_count": 209,
      "outputs": []
    },
    {
      "cell_type": "code",
      "metadata": {
        "colab": {
          "base_uri": "https://localhost:8080/",
          "height": 218
        },
        "id": "8HEou_G30gNi",
        "outputId": "305a2400-3fb4-41c3-dcc0-d8ebfbb4ce05"
      },
      "source": [
        "victims.head(5)"
      ],
      "execution_count": 210,
      "outputs": [
        {
          "output_type": "execute_result",
          "data": {
            "text/html": [
              "<div>\n",
              "<style scoped>\n",
              "    .dataframe tbody tr th:only-of-type {\n",
              "        vertical-align: middle;\n",
              "    }\n",
              "\n",
              "    .dataframe tbody tr th {\n",
              "        vertical-align: top;\n",
              "    }\n",
              "\n",
              "    .dataframe thead th {\n",
              "        text-align: right;\n",
              "    }\n",
              "</style>\n",
              "<table border=\"1\" class=\"dataframe\">\n",
              "  <thead>\n",
              "    <tr style=\"text-align: right;\">\n",
              "      <th></th>\n",
              "      <th>interview_duration</th>\n",
              "      <th>resp_is_male</th>\n",
              "      <th>resp_age</th>\n",
              "      <th>resp_is_living_alone</th>\n",
              "      <th>resp_is_married</th>\n",
              "      <th>resp_income</th>\n",
              "      <th>resp_edu</th>\n",
              "      <th>resp_is_crime_record</th>\n",
              "      <th>resp_is_russian_citizen</th>\n",
              "      <th>resp_is_crime_victim</th>\n",
              "      <th>resp_ses</th>\n",
              "      <th>crime_season</th>\n",
              "      <th>crime_is_remote</th>\n",
              "      <th>crime_is_property_damage</th>\n",
              "      <th>crime_is_violent_damage</th>\n",
              "      <th>crime_is_seeking_medical_help</th>\n",
              "      <th>crime_asked_medical_help</th>\n",
              "      <th>crime_is_property_acquisition</th>\n",
              "      <th>crime_is_fraud</th>\n",
              "      <th>crime_is_threat</th>\n",
              "      <th>crime_type</th>\n",
              "      <th>crime_place_grouped</th>\n",
              "      <th>crime_is_daytime</th>\n",
              "      <th>victim_is_reporting</th>\n",
              "      <th>victim_damage_physical</th>\n",
              "      <th>victim_damage_rub</th>\n",
              "      <th>victim_is_crime_case_initiated</th>\n",
              "      <th>victim_police_reaction_time</th>\n",
              "      <th>victim_is_offender_found</th>\n",
              "      <th>victim_who_found_offender</th>\n",
              "      <th>victim_is_offender_punished</th>\n",
              "      <th>victim_is_went_to_court</th>\n",
              "      <th>victim_compensation</th>\n",
              "      <th>offender_is_male</th>\n",
              "      <th>offender_is_on_duty</th>\n",
              "      <th>offender_is_drug_intoxicated</th>\n",
              "      <th>offender_relationship_grouped</th>\n",
              "    </tr>\n",
              "  </thead>\n",
              "  <tbody>\n",
              "    <tr>\n",
              "      <th>0</th>\n",
              "      <td>544</td>\n",
              "      <td>0</td>\n",
              "      <td>57</td>\n",
              "      <td>0.0</td>\n",
              "      <td>0.0</td>\n",
              "      <td>3.0</td>\n",
              "      <td>3.0</td>\n",
              "      <td>0.0</td>\n",
              "      <td>1.0</td>\n",
              "      <td>1</td>\n",
              "      <td>2.0</td>\n",
              "      <td>3.0</td>\n",
              "      <td>1.0</td>\n",
              "      <td>1.0</td>\n",
              "      <td>0.0</td>\n",
              "      <td>0.0</td>\n",
              "      <td>NaN</td>\n",
              "      <td>1.0</td>\n",
              "      <td>1.0</td>\n",
              "      <td>0.0</td>\n",
              "      <td>6.0</td>\n",
              "      <td>7.0</td>\n",
              "      <td>1.0</td>\n",
              "      <td>0.0</td>\n",
              "      <td>NaN</td>\n",
              "      <td>300.0</td>\n",
              "      <td>NaN</td>\n",
              "      <td>NaN</td>\n",
              "      <td>0.0</td>\n",
              "      <td>NaN</td>\n",
              "      <td>NaN</td>\n",
              "      <td>NaN</td>\n",
              "      <td>4.0</td>\n",
              "      <td>NaN</td>\n",
              "      <td>NaN</td>\n",
              "      <td>NaN</td>\n",
              "      <td>NaN</td>\n",
              "    </tr>\n",
              "    <tr>\n",
              "      <th>1</th>\n",
              "      <td>1643</td>\n",
              "      <td>0</td>\n",
              "      <td>59</td>\n",
              "      <td>0.0</td>\n",
              "      <td>1.0</td>\n",
              "      <td>NaN</td>\n",
              "      <td>3.0</td>\n",
              "      <td>0.0</td>\n",
              "      <td>1.0</td>\n",
              "      <td>1</td>\n",
              "      <td>2.0</td>\n",
              "      <td>1.0</td>\n",
              "      <td>0.0</td>\n",
              "      <td>1.0</td>\n",
              "      <td>0.0</td>\n",
              "      <td>0.0</td>\n",
              "      <td>NaN</td>\n",
              "      <td>1.0</td>\n",
              "      <td>0.0</td>\n",
              "      <td>0.0</td>\n",
              "      <td>3.0</td>\n",
              "      <td>2.0</td>\n",
              "      <td>1.0</td>\n",
              "      <td>1.0</td>\n",
              "      <td>NaN</td>\n",
              "      <td>80000.0</td>\n",
              "      <td>1.0</td>\n",
              "      <td>1.0</td>\n",
              "      <td>1.0</td>\n",
              "      <td>1.0</td>\n",
              "      <td>0.0</td>\n",
              "      <td>0.0</td>\n",
              "      <td>4.0</td>\n",
              "      <td>1.0</td>\n",
              "      <td>NaN</td>\n",
              "      <td>0.0</td>\n",
              "      <td>6.0</td>\n",
              "    </tr>\n",
              "    <tr>\n",
              "      <th>2</th>\n",
              "      <td>676</td>\n",
              "      <td>0</td>\n",
              "      <td>35</td>\n",
              "      <td>0.0</td>\n",
              "      <td>1.0</td>\n",
              "      <td>NaN</td>\n",
              "      <td>3.0</td>\n",
              "      <td>0.0</td>\n",
              "      <td>1.0</td>\n",
              "      <td>1</td>\n",
              "      <td>1.0</td>\n",
              "      <td>1.0</td>\n",
              "      <td>1.0</td>\n",
              "      <td>1.0</td>\n",
              "      <td>0.0</td>\n",
              "      <td>0.0</td>\n",
              "      <td>NaN</td>\n",
              "      <td>1.0</td>\n",
              "      <td>1.0</td>\n",
              "      <td>0.0</td>\n",
              "      <td>6.0</td>\n",
              "      <td>7.0</td>\n",
              "      <td>1.0</td>\n",
              "      <td>1.0</td>\n",
              "      <td>NaN</td>\n",
              "      <td>3000.0</td>\n",
              "      <td>1.0</td>\n",
              "      <td>NaN</td>\n",
              "      <td>1.0</td>\n",
              "      <td>1.0</td>\n",
              "      <td>1.0</td>\n",
              "      <td>1.0</td>\n",
              "      <td>1.0</td>\n",
              "      <td>NaN</td>\n",
              "      <td>NaN</td>\n",
              "      <td>NaN</td>\n",
              "      <td>NaN</td>\n",
              "    </tr>\n",
              "    <tr>\n",
              "      <th>3</th>\n",
              "      <td>510</td>\n",
              "      <td>0</td>\n",
              "      <td>22</td>\n",
              "      <td>1.0</td>\n",
              "      <td>0.0</td>\n",
              "      <td>3.0</td>\n",
              "      <td>3.0</td>\n",
              "      <td>0.0</td>\n",
              "      <td>1.0</td>\n",
              "      <td>1</td>\n",
              "      <td>3.0</td>\n",
              "      <td>3.0</td>\n",
              "      <td>0.0</td>\n",
              "      <td>1.0</td>\n",
              "      <td>0.0</td>\n",
              "      <td>0.0</td>\n",
              "      <td>NaN</td>\n",
              "      <td>1.0</td>\n",
              "      <td>1.0</td>\n",
              "      <td>0.0</td>\n",
              "      <td>5.0</td>\n",
              "      <td>1.0</td>\n",
              "      <td>1.0</td>\n",
              "      <td>1.0</td>\n",
              "      <td>NaN</td>\n",
              "      <td>7000.0</td>\n",
              "      <td>0.0</td>\n",
              "      <td>1.0</td>\n",
              "      <td>0.0</td>\n",
              "      <td>NaN</td>\n",
              "      <td>NaN</td>\n",
              "      <td>NaN</td>\n",
              "      <td>4.0</td>\n",
              "      <td>NaN</td>\n",
              "      <td>NaN</td>\n",
              "      <td>NaN</td>\n",
              "      <td>NaN</td>\n",
              "    </tr>\n",
              "    <tr>\n",
              "      <th>4</th>\n",
              "      <td>1107</td>\n",
              "      <td>0</td>\n",
              "      <td>79</td>\n",
              "      <td>0.0</td>\n",
              "      <td>1.0</td>\n",
              "      <td>1.0</td>\n",
              "      <td>3.0</td>\n",
              "      <td>0.0</td>\n",
              "      <td>1.0</td>\n",
              "      <td>1</td>\n",
              "      <td>2.0</td>\n",
              "      <td>3.0</td>\n",
              "      <td>1.0</td>\n",
              "      <td>0.0</td>\n",
              "      <td>0.0</td>\n",
              "      <td>0.0</td>\n",
              "      <td>NaN</td>\n",
              "      <td>0.0</td>\n",
              "      <td>0.0</td>\n",
              "      <td>0.0</td>\n",
              "      <td>8.0</td>\n",
              "      <td>7.0</td>\n",
              "      <td>1.0</td>\n",
              "      <td>1.0</td>\n",
              "      <td>NaN</td>\n",
              "      <td>0.0</td>\n",
              "      <td>1.0</td>\n",
              "      <td>2.0</td>\n",
              "      <td>0.0</td>\n",
              "      <td>NaN</td>\n",
              "      <td>NaN</td>\n",
              "      <td>0.0</td>\n",
              "      <td>4.0</td>\n",
              "      <td>1.0</td>\n",
              "      <td>NaN</td>\n",
              "      <td>0.0</td>\n",
              "      <td>6.0</td>\n",
              "    </tr>\n",
              "  </tbody>\n",
              "</table>\n",
              "</div>"
            ],
            "text/plain": [
              "   interview_duration  ...  offender_relationship_grouped\n",
              "0                 544  ...                            NaN\n",
              "1                1643  ...                            6.0\n",
              "2                 676  ...                            NaN\n",
              "3                 510  ...                            NaN\n",
              "4                1107  ...                            6.0\n",
              "\n",
              "[5 rows x 37 columns]"
            ]
          },
          "metadata": {
            "tags": []
          },
          "execution_count": 210
        }
      ]
    },
    {
      "cell_type": "code",
      "metadata": {
        "colab": {
          "base_uri": "https://localhost:8080/",
          "height": 218
        },
        "id": "2Rs9BE_z0hn0",
        "outputId": "58764a07-978e-466b-f4cd-dd6f82c29acb"
      },
      "source": [
        "not_victims.head(5)"
      ],
      "execution_count": 211,
      "outputs": [
        {
          "output_type": "execute_result",
          "data": {
            "text/html": [
              "<div>\n",
              "<style scoped>\n",
              "    .dataframe tbody tr th:only-of-type {\n",
              "        vertical-align: middle;\n",
              "    }\n",
              "\n",
              "    .dataframe tbody tr th {\n",
              "        vertical-align: top;\n",
              "    }\n",
              "\n",
              "    .dataframe thead th {\n",
              "        text-align: right;\n",
              "    }\n",
              "</style>\n",
              "<table border=\"1\" class=\"dataframe\">\n",
              "  <thead>\n",
              "    <tr style=\"text-align: right;\">\n",
              "      <th></th>\n",
              "      <th>interview_duration</th>\n",
              "      <th>resp_is_male</th>\n",
              "      <th>resp_age</th>\n",
              "      <th>resp_is_living_alone</th>\n",
              "      <th>resp_is_married</th>\n",
              "      <th>resp_income</th>\n",
              "      <th>resp_edu</th>\n",
              "      <th>resp_is_crime_record</th>\n",
              "      <th>resp_is_russian_citizen</th>\n",
              "      <th>resp_is_crime_victim</th>\n",
              "      <th>resp_ses</th>\n",
              "      <th>crime_season</th>\n",
              "      <th>crime_is_remote</th>\n",
              "      <th>crime_is_property_damage</th>\n",
              "      <th>crime_is_violent_damage</th>\n",
              "      <th>crime_is_seeking_medical_help</th>\n",
              "      <th>crime_asked_medical_help</th>\n",
              "      <th>crime_is_property_acquisition</th>\n",
              "      <th>crime_is_fraud</th>\n",
              "      <th>crime_is_threat</th>\n",
              "      <th>crime_type</th>\n",
              "      <th>crime_place_grouped</th>\n",
              "      <th>crime_is_daytime</th>\n",
              "      <th>victim_is_reporting</th>\n",
              "      <th>victim_damage_physical</th>\n",
              "      <th>victim_damage_rub</th>\n",
              "      <th>victim_is_crime_case_initiated</th>\n",
              "      <th>victim_police_reaction_time</th>\n",
              "      <th>victim_is_offender_found</th>\n",
              "      <th>victim_who_found_offender</th>\n",
              "      <th>victim_is_offender_punished</th>\n",
              "      <th>victim_is_went_to_court</th>\n",
              "      <th>victim_compensation</th>\n",
              "      <th>offender_is_male</th>\n",
              "      <th>offender_is_on_duty</th>\n",
              "      <th>offender_is_drug_intoxicated</th>\n",
              "      <th>offender_relationship_grouped</th>\n",
              "    </tr>\n",
              "  </thead>\n",
              "  <tbody>\n",
              "    <tr>\n",
              "      <th>100</th>\n",
              "      <td>247</td>\n",
              "      <td>1</td>\n",
              "      <td>32</td>\n",
              "      <td>NaN</td>\n",
              "      <td>NaN</td>\n",
              "      <td>NaN</td>\n",
              "      <td>NaN</td>\n",
              "      <td>NaN</td>\n",
              "      <td>NaN</td>\n",
              "      <td>0</td>\n",
              "      <td>NaN</td>\n",
              "      <td>NaN</td>\n",
              "      <td>NaN</td>\n",
              "      <td>NaN</td>\n",
              "      <td>NaN</td>\n",
              "      <td>NaN</td>\n",
              "      <td>NaN</td>\n",
              "      <td>NaN</td>\n",
              "      <td>NaN</td>\n",
              "      <td>NaN</td>\n",
              "      <td>NaN</td>\n",
              "      <td>NaN</td>\n",
              "      <td>NaN</td>\n",
              "      <td>NaN</td>\n",
              "      <td>NaN</td>\n",
              "      <td>0.0</td>\n",
              "      <td>NaN</td>\n",
              "      <td>NaN</td>\n",
              "      <td>NaN</td>\n",
              "      <td>NaN</td>\n",
              "      <td>NaN</td>\n",
              "      <td>NaN</td>\n",
              "      <td>NaN</td>\n",
              "      <td>NaN</td>\n",
              "      <td>NaN</td>\n",
              "      <td>NaN</td>\n",
              "      <td>NaN</td>\n",
              "    </tr>\n",
              "    <tr>\n",
              "      <th>102</th>\n",
              "      <td>91</td>\n",
              "      <td>1</td>\n",
              "      <td>38</td>\n",
              "      <td>NaN</td>\n",
              "      <td>NaN</td>\n",
              "      <td>NaN</td>\n",
              "      <td>NaN</td>\n",
              "      <td>NaN</td>\n",
              "      <td>NaN</td>\n",
              "      <td>0</td>\n",
              "      <td>NaN</td>\n",
              "      <td>NaN</td>\n",
              "      <td>NaN</td>\n",
              "      <td>NaN</td>\n",
              "      <td>NaN</td>\n",
              "      <td>NaN</td>\n",
              "      <td>NaN</td>\n",
              "      <td>NaN</td>\n",
              "      <td>NaN</td>\n",
              "      <td>NaN</td>\n",
              "      <td>NaN</td>\n",
              "      <td>NaN</td>\n",
              "      <td>NaN</td>\n",
              "      <td>NaN</td>\n",
              "      <td>NaN</td>\n",
              "      <td>0.0</td>\n",
              "      <td>NaN</td>\n",
              "      <td>NaN</td>\n",
              "      <td>NaN</td>\n",
              "      <td>NaN</td>\n",
              "      <td>NaN</td>\n",
              "      <td>NaN</td>\n",
              "      <td>NaN</td>\n",
              "      <td>NaN</td>\n",
              "      <td>NaN</td>\n",
              "      <td>NaN</td>\n",
              "      <td>NaN</td>\n",
              "    </tr>\n",
              "    <tr>\n",
              "      <th>103</th>\n",
              "      <td>259</td>\n",
              "      <td>0</td>\n",
              "      <td>30</td>\n",
              "      <td>0.0</td>\n",
              "      <td>1.0</td>\n",
              "      <td>3.0</td>\n",
              "      <td>3.0</td>\n",
              "      <td>0.0</td>\n",
              "      <td>1.0</td>\n",
              "      <td>0</td>\n",
              "      <td>5.0</td>\n",
              "      <td>NaN</td>\n",
              "      <td>NaN</td>\n",
              "      <td>NaN</td>\n",
              "      <td>NaN</td>\n",
              "      <td>NaN</td>\n",
              "      <td>NaN</td>\n",
              "      <td>NaN</td>\n",
              "      <td>NaN</td>\n",
              "      <td>NaN</td>\n",
              "      <td>NaN</td>\n",
              "      <td>NaN</td>\n",
              "      <td>NaN</td>\n",
              "      <td>NaN</td>\n",
              "      <td>NaN</td>\n",
              "      <td>0.0</td>\n",
              "      <td>NaN</td>\n",
              "      <td>NaN</td>\n",
              "      <td>NaN</td>\n",
              "      <td>NaN</td>\n",
              "      <td>NaN</td>\n",
              "      <td>NaN</td>\n",
              "      <td>NaN</td>\n",
              "      <td>NaN</td>\n",
              "      <td>NaN</td>\n",
              "      <td>NaN</td>\n",
              "      <td>NaN</td>\n",
              "    </tr>\n",
              "    <tr>\n",
              "      <th>104</th>\n",
              "      <td>105</td>\n",
              "      <td>0</td>\n",
              "      <td>56</td>\n",
              "      <td>NaN</td>\n",
              "      <td>NaN</td>\n",
              "      <td>NaN</td>\n",
              "      <td>NaN</td>\n",
              "      <td>NaN</td>\n",
              "      <td>NaN</td>\n",
              "      <td>0</td>\n",
              "      <td>NaN</td>\n",
              "      <td>NaN</td>\n",
              "      <td>NaN</td>\n",
              "      <td>NaN</td>\n",
              "      <td>NaN</td>\n",
              "      <td>NaN</td>\n",
              "      <td>NaN</td>\n",
              "      <td>NaN</td>\n",
              "      <td>NaN</td>\n",
              "      <td>NaN</td>\n",
              "      <td>NaN</td>\n",
              "      <td>NaN</td>\n",
              "      <td>NaN</td>\n",
              "      <td>NaN</td>\n",
              "      <td>NaN</td>\n",
              "      <td>0.0</td>\n",
              "      <td>NaN</td>\n",
              "      <td>NaN</td>\n",
              "      <td>NaN</td>\n",
              "      <td>NaN</td>\n",
              "      <td>NaN</td>\n",
              "      <td>NaN</td>\n",
              "      <td>NaN</td>\n",
              "      <td>NaN</td>\n",
              "      <td>NaN</td>\n",
              "      <td>NaN</td>\n",
              "      <td>NaN</td>\n",
              "    </tr>\n",
              "    <tr>\n",
              "      <th>105</th>\n",
              "      <td>245</td>\n",
              "      <td>1</td>\n",
              "      <td>19</td>\n",
              "      <td>1.0</td>\n",
              "      <td>0.0</td>\n",
              "      <td>5.0</td>\n",
              "      <td>1.0</td>\n",
              "      <td>0.0</td>\n",
              "      <td>0.0</td>\n",
              "      <td>0</td>\n",
              "      <td>1.0</td>\n",
              "      <td>NaN</td>\n",
              "      <td>NaN</td>\n",
              "      <td>NaN</td>\n",
              "      <td>NaN</td>\n",
              "      <td>NaN</td>\n",
              "      <td>NaN</td>\n",
              "      <td>NaN</td>\n",
              "      <td>NaN</td>\n",
              "      <td>NaN</td>\n",
              "      <td>NaN</td>\n",
              "      <td>NaN</td>\n",
              "      <td>NaN</td>\n",
              "      <td>NaN</td>\n",
              "      <td>NaN</td>\n",
              "      <td>0.0</td>\n",
              "      <td>NaN</td>\n",
              "      <td>NaN</td>\n",
              "      <td>NaN</td>\n",
              "      <td>NaN</td>\n",
              "      <td>NaN</td>\n",
              "      <td>NaN</td>\n",
              "      <td>NaN</td>\n",
              "      <td>NaN</td>\n",
              "      <td>NaN</td>\n",
              "      <td>NaN</td>\n",
              "      <td>NaN</td>\n",
              "    </tr>\n",
              "  </tbody>\n",
              "</table>\n",
              "</div>"
            ],
            "text/plain": [
              "     interview_duration  ...  offender_relationship_grouped\n",
              "100                 247  ...                            NaN\n",
              "102                  91  ...                            NaN\n",
              "103                 259  ...                            NaN\n",
              "104                 105  ...                            NaN\n",
              "105                 245  ...                            NaN\n",
              "\n",
              "[5 rows x 37 columns]"
            ]
          },
          "metadata": {
            "tags": []
          },
          "execution_count": 211
        }
      ]
    },
    {
      "cell_type": "markdown",
      "metadata": {
        "id": "P-aVxB0QpObE"
      },
      "source": [
        "## Анализ влияния полового признака на совершение преступлений и подверженность им"
      ]
    },
    {
      "cell_type": "markdown",
      "metadata": {
        "id": "lkzuwnyvo4mw"
      },
      "source": [
        "Определим влияние полового признака на участие в криминальной сфере. Для этого найдем процентное содержание мужчин и женщин средих пострадавших и нападавших."
      ]
    },
    {
      "cell_type": "markdown",
      "metadata": {
        "id": "wIR3RZVC9uQ3"
      },
      "source": [
        "Создадим функцию для замены номера категории на её название"
      ]
    },
    {
      "cell_type": "code",
      "metadata": {
        "id": "nQXI41fY50K1"
      },
      "source": [
        "def ifmale(x):\r\n",
        "  if x:\r\n",
        "    return \"Мужчина\"\r\n",
        "  else:\r\n",
        "    return \"Женщина\""
      ],
      "execution_count": 212,
      "outputs": []
    },
    {
      "cell_type": "markdown",
      "metadata": {
        "id": "Ep4WybDg755Y"
      },
      "source": [
        "Создадим необходимые выборки из датафрейма и определим, достаточны ли их размеры для последующего анализа"
      ]
    },
    {
      "cell_type": "code",
      "metadata": {
        "colab": {
          "base_uri": "https://localhost:8080/"
        },
        "id": "5PQZz4qJ76oA",
        "outputId": "4fc10d9c-414b-4812-b722-8e38a71c906c"
      },
      "source": [
        "ifmale_offender = victims['offender_is_male'].dropna().apply(ifmale)\r\n",
        "ifmale_resp = victims['resp_is_male'].dropna().apply(ifmale)\r\n",
        "\r\n",
        "print(\"Выборка содержит\", len(ifmale_offender), \"строк\")\r\n",
        "print(\"Выборка содержит\", len(ifmale_resp), \"строк\")"
      ],
      "execution_count": 213,
      "outputs": [
        {
          "output_type": "stream",
          "text": [
            "Выборка содержит 1467 строк\n",
            "Выборка содержит 3001 строк\n"
          ],
          "name": "stdout"
        }
      ]
    },
    {
      "cell_type": "markdown",
      "metadata": {
        "id": "uPjMHIj48x59"
      },
      "source": [
        "Посчитаем процентное содержание каждой категории в выборках"
      ]
    },
    {
      "cell_type": "code",
      "metadata": {
        "id": "F4pQUY_DyN1d",
        "colab": {
          "base_uri": "https://localhost:8080/"
        },
        "outputId": "d42530f3-47b0-4196-f34e-a523ea83c1be"
      },
      "source": [
        "\n",
        "offender_count = ifmale_offender.value_counts(1)\n",
        "\n",
        "print(\"Среди нападавших:\")\n",
        "for i in range(len(offender_count)):\n",
        "  print(\"{} - {:.3f}%\".format(offender_count.index[i],\n",
        "                              offender_count[i] * 100))\n",
        "\n",
        "victim_count = ifmale_resp.value_counts(1)\n",
        "\n",
        "print(\"\\nСреди пострадавших:\")\n",
        "for i in range(len(offender_count)):\n",
        "  print(\"{} - {:.3f}%\".format(victim_count.index[i],\n",
        "                              victim_count[i] * 100))"
      ],
      "execution_count": 214,
      "outputs": [
        {
          "output_type": "stream",
          "text": [
            "Среди нападавших:\n",
            "Мужчина - 78.391%\n",
            "Женщина - 21.609%\n",
            "\n",
            "Среди пострадавших:\n",
            "Женщина - 53.915%\n",
            "Мужчина - 46.085%\n"
          ],
          "name": "stdout"
        }
      ]
    },
    {
      "cell_type": "markdown",
      "metadata": {
        "id": "tw9o5EyB2RN0"
      },
      "source": [
        "Затем построим по получившимся значениям график."
      ]
    },
    {
      "cell_type": "code",
      "metadata": {
        "colab": {
          "base_uri": "https://localhost:8080/",
          "height": 355
        },
        "id": "d7bGv2UeumSI",
        "outputId": "1911af84-b530-4a32-c363-3a4ed4b7df32"
      },
      "source": [
        "plt.figure(figsize=(12, 8), linewidth=10, edgecolor=\"#04253a\") \\\r\n",
        ".set_facecolor(digclr)\r\n",
        "\r\n",
        "ax = plt.subplot(1, 2, 1)\r\n",
        "ax.set_title(\"Нападавшие\")\r\n",
        "ax.grid(which='major', color = 'gray', axis='y', linestyle=':')\r\n",
        "ax.pie(offender_count,\r\n",
        "       labels=[\"Мужчины\", \"Женщины\"],\r\n",
        "       colors=('darkcyan', 'palevioletred'),\r\n",
        "       explode=(0, 0.15),\r\n",
        "        shadow=True, autopct='%1.1f%%')\r\n",
        "\r\n",
        "ax = plt.subplot(1, 2, 2)\r\n",
        "ax.set_title(\"Пострадавшие\")\r\n",
        "ax.grid(which='major', color = 'gray', axis='y', linestyle=':')\r\n",
        "\r\n",
        "ax.pie(victim_count,  labels=[\"Мужчины\", \"Женщины\"],\r\n",
        "       colors=('darkcyan', 'palevioletred'),\r\n",
        "      explode=(0, 0.15),\r\n",
        "        shadow=True, autopct='%1.1f%%')\r\n",
        "\r\n",
        "plt.show()"
      ],
      "execution_count": 275,
      "outputs": [
        {
          "output_type": "display_data",
          "data": {
            "image/png": "[encoded data removed]",
            "text/plain": [
              "<Figure size 864x576 with 2 Axes>"
            ]
          },
          "metadata": {
            "tags": []
          }
        }
      ]
    },
    {
      "cell_type": "markdown",
      "metadata": {
        "id": "Pol2vZBNp-7C"
      },
      "source": [
        "**Вывод:**\n",
        "> Мужчины чаще замешаны в преступлениях (в качестве жертвы или правонарушителя)\n",
        "\n",
        "> Процент мужчин среди преступников значительно выше процента женщин\n",
        "\n",
        "> Среди пострадавших процент мужчин и женщин отличается незначительно\n",
        "\n"
      ]
    },
    {
      "cell_type": "markdown",
      "metadata": {
        "id": "DyitA3mg9vla"
      },
      "source": [
        "## Был ли найден нападавший?"
      ]
    },
    {
      "cell_type": "markdown",
      "metadata": {
        "id": "-5q0TgLE5A-R"
      },
      "source": [
        "Определим процентное отношение случаев, в которых был найден нападавший."
      ]
    },
    {
      "cell_type": "markdown",
      "metadata": {
        "id": "SOGEOVA_919n"
      },
      "source": [
        "Создадим функцию для замены номера категории на её название"
      ]
    },
    {
      "cell_type": "code",
      "metadata": {
        "id": "BujgNZ2U9HrX"
      },
      "source": [
        "def off_found_group(x):\r\n",
        "  if x == 1.0: return \"Нападавший найден\"\r\n",
        "  else: return \"Нападавший не найден\""
      ],
      "execution_count": 216,
      "outputs": []
    },
    {
      "cell_type": "markdown",
      "metadata": {
        "id": "sPw8FgRU9zYJ"
      },
      "source": [
        "Создадим необходимую выборку из датафрейма и определим, достаточен ли ее размер для последующего анализа"
      ]
    },
    {
      "cell_type": "code",
      "metadata": {
        "colab": {
          "base_uri": "https://localhost:8080/"
        },
        "id": "_3U-rzbF9MMH",
        "outputId": "06a9422c-2eb8-414c-e0c9-d6750a0826cd"
      },
      "source": [
        "offender_found = victims['victim_is_offender_found'].dropna() \\\r\n",
        ".apply(off_found_group)\r\n",
        "\r\n",
        "print(\"Выборка содержит\", len(offender_found), \"строк\")"
      ],
      "execution_count": 217,
      "outputs": [
        {
          "output_type": "stream",
          "text": [
            "Выборка содержит 3001 строк\n"
          ],
          "name": "stdout"
        }
      ]
    },
    {
      "cell_type": "code",
      "metadata": {
        "id": "6zICTqIVJls-",
        "colab": {
          "base_uri": "https://localhost:8080/"
        },
        "outputId": "353a7202-7c56-4874-9bff-d8d4f6b89bb6"
      },
      "source": [
        "offender_found_count = victims['victim_is_offender_found'].dropna() \\\n",
        ".apply(off_found_group).value_counts(1)\n",
        "\n",
        "print(\"Был ли найден нападавший?:\")\n",
        "for i in range(len(offender_found_count)):\n",
        "  print(\"{:<20} - {:.3f}%\".format(offender_found_count.index[i],\n",
        "                              offender_found_count[i] * 100))"
      ],
      "execution_count": 218,
      "outputs": [
        {
          "output_type": "stream",
          "text": [
            "Был ли найден нападавший?:\n",
            "Нападавший не найден - 73.775%\n",
            "Нападавший найден    - 26.225%\n"
          ],
          "name": "stdout"
        }
      ]
    },
    {
      "cell_type": "markdown",
      "metadata": {
        "id": "xvnvHxxR3AFM"
      },
      "source": [
        "Построим по полученным значениям график."
      ]
    },
    {
      "cell_type": "code",
      "metadata": {
        "id": "rqbcu4gU3AMi",
        "colab": {
          "base_uri": "https://localhost:8080/",
          "height": 373
        },
        "outputId": "065f614d-7c54-4375-f5ad-a084b123a224"
      },
      "source": [
        "# Красивые графики\n",
        "plt.figure(figsize=(10, 6), linewidth=10, edgecolor=\"#04253a\") \\\n",
        ".set_facecolor(digclr)\n",
        "\n",
        "plt.pie(offender_found_count.tolist(), labels=offender_found_count.index,\n",
        "        colors=('firebrick', 'forestgreen'), explode=(0, 0.15),\n",
        "        shadow=True, startangle=90, autopct='%1.1f%%')\n",
        "\n",
        "plt.title('Был ли найден преступник?')\n",
        "plt.grid(which='major', color = 'gray', axis='y', linestyle=':')"
      ],
      "execution_count": 276,
      "outputs": [
        {
          "output_type": "display_data",
          "data": {
            "image/png": "[encoded data removed]",
            "text/plain": [
              "<Figure size 720x432 with 1 Axes>"
            ]
          },
          "metadata": {
            "tags": []
          }
        }
      ]
    },
    {
      "cell_type": "markdown",
      "metadata": {
        "id": "rolbkzg792P2"
      },
      "source": [
        "**Вывод:**\n",
        "> По данным опроса, в трёх из четырёх случаев преступления правонарушитель остаётся не найденным"
      ]
    },
    {
      "cell_type": "markdown",
      "metadata": {
        "id": "36ZCn6bg95Gz"
      },
      "source": [
        "## Была ли необходима медицинская помощь?"
      ]
    },
    {
      "cell_type": "markdown",
      "metadata": {
        "id": "LDkOeDjT4Q_6"
      },
      "source": [
        "Определим процентное отношение пострадавших от физического насилия, которым нужна была медицинская помощь."
      ]
    },
    {
      "cell_type": "markdown",
      "metadata": {
        "id": "eouQ0VSY-IVz"
      },
      "source": [
        "Создадим функцию для замены номера категории на её название"
      ]
    },
    {
      "cell_type": "code",
      "metadata": {
        "id": "dufD1V6--JM2"
      },
      "source": [
        "def is_seeking_medical_help(x):\r\n",
        "   if x == 1.0:\r\n",
        "     return 'Нуждался в помощи'\r\n",
        "   else:\r\n",
        "     return 'Не нуждался в помощи'"
      ],
      "execution_count": 220,
      "outputs": []
    },
    {
      "cell_type": "markdown",
      "metadata": {
        "id": "znRgIf3t-NZP"
      },
      "source": [
        "Создадим необходимую выборку из датафрейма и определим, достаточен ли ее размер для последующего анализа"
      ]
    },
    {
      "cell_type": "code",
      "metadata": {
        "colab": {
          "base_uri": "https://localhost:8080/"
        },
        "id": "iqAVNKr7-OCg",
        "outputId": "a25348e2-e96e-4c5b-ec94-c13c4324e103"
      },
      "source": [
        "med_help = victims['crime_is_seeking_medical_help'] \\\r\n",
        "                [victims['crime_is_violent_damage'] == 1.0] \\\r\n",
        "              .apply(is_seeking_medical_help)\r\n",
        "\r\n",
        "print(\"Выборка содержит\", len(med_help), \"строк\")"
      ],
      "execution_count": 221,
      "outputs": [
        {
          "output_type": "stream",
          "text": [
            "Выборка содержит 350 строк\n"
          ],
          "name": "stdout"
        }
      ]
    },
    {
      "cell_type": "markdown",
      "metadata": {
        "id": "iDiGuBnT-sgX"
      },
      "source": [
        "Посчитаем процентное содержание каждой категории в выборке"
      ]
    },
    {
      "cell_type": "code",
      "metadata": {
        "id": "caoqEyAhL14p",
        "colab": {
          "base_uri": "https://localhost:8080/"
        },
        "outputId": "5dbe144d-3a04-4e6f-9675-649f1456234b"
      },
      "source": [
        "med_help_perc = med_help.value_counts(1).sort_values()\n",
        "\n",
        "print(\"Была ли необходима мед. помощь?:\")\n",
        "for i in range(len(med_help_perc)):\n",
        "  print(\"{:<20} - {:.3f}%\".format(med_help_perc.index[i],\n",
        "                                  med_help_perc[i] * 100))"
      ],
      "execution_count": 222,
      "outputs": [
        {
          "output_type": "stream",
          "text": [
            "Была ли необходима мед. помощь?:\n",
            "Нуждался в помощи    - 48.286%\n",
            "Не нуждался в помощи - 51.714%\n"
          ],
          "name": "stdout"
        }
      ]
    },
    {
      "cell_type": "markdown",
      "metadata": {
        "id": "4T8m3icm3R70"
      },
      "source": [
        "Построим по полученным значениям график."
      ]
    },
    {
      "cell_type": "code",
      "metadata": {
        "id": "iaSRcQBa3SBy",
        "colab": {
          "base_uri": "https://localhost:8080/",
          "height": 373
        },
        "outputId": "b4143310-78db-484f-ea77-f258f8a943da"
      },
      "source": [
        "# Красивые графики\n",
        "plt.figure(figsize=(10, 6), linewidth=10, edgecolor=\"#04253a\") \\\n",
        ".set_facecolor(digclr)\n",
        "\n",
        "plt.pie(med_help_perc, labels=med_help_perc.index,\n",
        "        colors=('forestgreen', 'firebrick'), explode=(0, 0.15),\n",
        "        shadow=True, startangle=90, autopct='%1.1f%%')\n",
        "\n",
        "plt.title('Была ли необходима медицинская помощь?')\n",
        "plt.grid(which='major', color = 'gray', axis='y', linestyle=':')"
      ],
      "execution_count": 277,
      "outputs": [
        {
          "output_type": "display_data",
          "data": {
            "image/png": "[encoded data removed]",
            "text/plain": [
              "<Figure size 720x432 with 1 Axes>"
            ]
          },
          "metadata": {
            "tags": []
          }
        }
      ]
    },
    {
      "cell_type": "markdown",
      "metadata": {
        "id": "c0LUmuIf9_Ru"
      },
      "source": [
        "**Вывод:**\n",
        "> Только в половине случаев физического насилия пострадавший нуждался в медицинской помощи"
      ]
    },
    {
      "cell_type": "markdown",
      "metadata": {
        "id": "3nQ3v32R-HgF"
      },
      "source": [
        "## Был ли нападавший при исполнении?"
      ]
    },
    {
      "cell_type": "markdown",
      "metadata": {
        "id": "Ty_OraDK6jVI"
      },
      "source": [
        "Определим случаи, в которых нападавших был при исполнении. Также определим вид занятости, если преступник был при исполнении."
      ]
    },
    {
      "cell_type": "markdown",
      "metadata": {
        "id": "HtTHYoFM4Exq"
      },
      "source": [
        "Создадим функцию для замены номера категории на её название"
      ]
    },
    {
      "cell_type": "code",
      "metadata": {
        "id": "3XMcWSlL4Rwp"
      },
      "source": [
        "def offender_group(x):\r\n",
        "  d = {1.0: 'Правоприменитель',\r\n",
        "       2.0: 'Представитель власти', \r\n",
        "       3.0: 'Военный', \r\n",
        "       4.0: 'Сотрудник коммерческой организации', \r\n",
        "       5.0: 'Не при исполнении'}\r\n",
        "  return d[x]"
      ],
      "execution_count": 224,
      "outputs": []
    },
    {
      "cell_type": "markdown",
      "metadata": {
        "id": "R2BFBSIm4VX5"
      },
      "source": [
        "Создадим необходимую выборку из датафрейма и определим, достаточен ли ее размер для последующего анализа"
      ]
    },
    {
      "cell_type": "code",
      "metadata": {
        "colab": {
          "base_uri": "https://localhost:8080/"
        },
        "id": "3ESxCTrT4bBI",
        "outputId": "6c1b2fd1-5b5e-4d53-c7ef-c24771751b65"
      },
      "source": [
        "offender_on_duty = victims['offender_is_on_duty'] \\\r\n",
        "[victims['offender_is_on_duty'] != 6.0].dropna().apply(offender_group)\r\n",
        "\r\n",
        "print(\"Выборка содержит\", len(offender_on_duty), \"строк\")"
      ],
      "execution_count": 225,
      "outputs": [
        {
          "output_type": "stream",
          "text": [
            "Выборка содержит 1215 строк\n"
          ],
          "name": "stdout"
        }
      ]
    },
    {
      "cell_type": "markdown",
      "metadata": {
        "id": "g3mHV_nl4ZjL"
      },
      "source": [
        "Посчитаем процентное содержание каждой категории в выборке"
      ]
    },
    {
      "cell_type": "code",
      "metadata": {
        "id": "pR4j63Ptkvzr",
        "colab": {
          "base_uri": "https://localhost:8080/"
        },
        "outputId": "45e296e2-1907-4150-d21f-bcdcdf2f5b80"
      },
      "source": [
        "offender_on_duty_group = offender_on_duty.value_counts(1).sort_values() # Процентное отношение всех должностных лиц-преступников\n",
        "\n",
        "print(\"Был ли нападавший при исполнении?:\")\n",
        "for i in range(len(offender_on_duty_group)):\n",
        "  print(\"{:<35} - {:.3f}%\".format(offender_on_duty_group.index[i],\n",
        "                                  offender_on_duty_group[i] * 100))\n",
        "  "
      ],
      "execution_count": 226,
      "outputs": [
        {
          "output_type": "stream",
          "text": [
            "Был ли нападавший при исполнении?:\n",
            "Военный                             - 0.658%\n",
            "Представитель власти                - 2.551%\n",
            "Правоприменитель                    - 3.951%\n",
            "Сотрудник коммерческой организации  - 15.391%\n",
            "Не при исполнении                   - 77.449%\n"
          ],
          "name": "stdout"
        }
      ]
    },
    {
      "cell_type": "markdown",
      "metadata": {
        "id": "cChw08W55ZqT"
      },
      "source": [
        "Создадим две переменные, в первую поместим процентное соотношение видов занятости среди нападавших при исполнении, во вторую процентное соотношение нападавших при исполнении к нападавшим не при исполнении."
      ]
    },
    {
      "cell_type": "code",
      "metadata": {
        "colab": {
          "base_uri": "https://localhost:8080/"
        },
        "id": "dA4NsJJ95u4C",
        "outputId": "0450bf43-5ad0-45b5-ff0e-f4cb28b6016f"
      },
      "source": [
        "offender_if_on_duty = copy(offender_on_duty_group[:4])\r\n",
        "s = sum(offender_if_on_duty)\r\n",
        "\r\n",
        "for i in range(len(offender_if_on_duty)):\r\n",
        "  offender_if_on_duty[i] = offender_if_on_duty[i] / s\r\n",
        "\r\n",
        "sum_on_duty = [sum(offender_on_duty_group[:4]), offender_on_duty_group[4]]\r\n",
        "\r\n",
        "print(\"При исполнении    - {:.3f}%\\nНе при исполнении - {:.3f}%\" \\\r\n",
        "      .format(sum_on_duty[0] * 100, sum_on_duty[1] * 100))"
      ],
      "execution_count": 227,
      "outputs": [
        {
          "output_type": "stream",
          "text": [
            "При исполнении    - 22.551%\n",
            "Не при исполнении - 77.449%\n"
          ],
          "name": "stdout"
        }
      ]
    },
    {
      "cell_type": "markdown",
      "metadata": {
        "id": "KXwABBAE6a50"
      },
      "source": [
        "Построим по полученным значениям график."
      ]
    },
    {
      "cell_type": "code",
      "metadata": {
        "id": "UQBxZRZD6a_-",
        "colab": {
          "base_uri": "https://localhost:8080/",
          "height": 500
        },
        "outputId": "611ba09c-4556-44d8-8550-dedee8a09b45"
      },
      "source": [
        "# Красивые графики\n",
        "plt.figure(figsize=(28, 10), linewidth=10, edgecolor=\"#04253a\") \\\n",
        ".set_facecolor(digclr)\n",
        "\n",
        "ax = plt.subplot(1, 3, 1)\n",
        "ax.set_title(\"Был ли нападавший при исполнении\")\n",
        "ax.grid(which='major', color = 'gray', axis='y', linestyle=':')\n",
        "ax.pie(sum_on_duty,\n",
        "       labels=[\"При\\nисполнении\", \"Не при\\nисполнении\"], radius=0.8,\n",
        "       colors=('forestgreen', 'firebrick'), explode=(0, 0.15),\n",
        "        shadow=True, autopct='%1.1f%%')\n",
        "\n",
        "ax = plt.subplot(1, 3, 2)\n",
        "ax.set_title(\"Вид деятельности нападавших\")\n",
        "ax.grid(which='major', color = 'gray', axis='y', linestyle=':')\n",
        "\n",
        "ax.pie(offender_on_duty_group, labels=offender_on_duty_group.index,\n",
        "       radius=1, colors=colors,\n",
        "       explode=(0.1, 0.1, 0.1, 0.1, 0.1),\n",
        "       shadow=True, autopct='%1.1f%%')\n",
        "\n",
        "ax = plt.subplot(1, 3, 3)\n",
        "ax.set_title(\"Вид деятельности нападавших при исполнении \")\n",
        "ax.grid(which='major', color = 'gray', axis='y', linestyle=':')\n",
        "\n",
        "ax.pie(offender_if_on_duty, labels=offender_if_on_duty.index,\n",
        "       radius=0.8, colors=colors,\n",
        "       explode=(0.08, 0.08, 0.08, 0.08),\n",
        "       shadow=True, autopct='%1.1f%%')\n",
        "\n",
        "\n",
        "\n",
        "plt.show()"
      ],
      "execution_count": 299,
      "outputs": [
        {
          "output_type": "display_data",
          "data": {
            "image/png": "[encoded data removed]",
            "text/plain": [
              "<Figure size 2016x720 with 3 Axes>"
            ]
          },
          "metadata": {
            "tags": []
          }
        }
      ]
    },
    {
      "cell_type": "markdown",
      "metadata": {
        "id": "62vL3W_1-NfT"
      },
      "source": [
        "**Вывод:**\n",
        "> Более 20% злоумышленников находились при исполнении своих обязанностей\n",
        "\n",
        "> Чуть больше 7% от них являлись представителями силовых структур "
      ]
    },
    {
      "cell_type": "markdown",
      "metadata": {
        "id": "tkDjG7n-7b2F"
      },
      "source": [
        "## Анализ частоты видов преступлений"
      ]
    },
    {
      "cell_type": "markdown",
      "metadata": {
        "id": "RxBzLDFJ8qTg"
      },
      "source": [
        "Определим процентное отношение частоты каждого преступления."
      ]
    },
    {
      "cell_type": "markdown",
      "metadata": {
        "id": "eRfxc3Ee_QG4"
      },
      "source": [
        "Создадим функцию для замены номера категории на её название"
      ]
    },
    {
      "cell_type": "code",
      "metadata": {
        "id": "0_yuXCww_Q6E"
      },
      "source": [
        "def crime_type_rename(x):\r\n",
        "  dic = {1.0: 'Нападение', \r\n",
        "         2.0: 'Угрозы ', \r\n",
        "         3.0: 'Грабеж и разбой ', \r\n",
        "         4.0: 'Кража', \r\n",
        "         5.0: 'Мошенничество', \r\n",
        "         6.0: 'Мошенничество', \r\n",
        "         7.0: 'Прочее'}\r\n",
        "  return dic[x]"
      ],
      "execution_count": 229,
      "outputs": []
    },
    {
      "cell_type": "markdown",
      "metadata": {
        "id": "_nbo9yn6_kbH"
      },
      "source": [
        "Создадим необходимую выборку из датафрейма и определим, достаточен ли ее размер для последующего анализа"
      ]
    },
    {
      "cell_type": "code",
      "metadata": {
        "colab": {
          "base_uri": "https://localhost:8080/"
        },
        "id": "E99fgjI1_k-b",
        "outputId": "19b4acbd-2a51-4e26-a311-0b5aaa5b23bd"
      },
      "source": [
        "crime_type = victims['crime_type'].drop(\r\n",
        "    victims['crime_type'][victims['crime_type'] == 8.0].index) \\\r\n",
        "    .apply(crime_type_rename)\r\n",
        "\r\n",
        "print(\"Выборка содержит\", len(crime_type), \"строк\")"
      ],
      "execution_count": 230,
      "outputs": [
        {
          "output_type": "stream",
          "text": [
            "Выборка содержит 2422 строк\n"
          ],
          "name": "stdout"
        }
      ]
    },
    {
      "cell_type": "markdown",
      "metadata": {
        "id": "pZCGwHAkAKBH"
      },
      "source": [
        "Посчитаем процентное содержание каждой категории в выборке"
      ]
    },
    {
      "cell_type": "code",
      "metadata": {
        "id": "ul6sg5NBNGSe",
        "colab": {
          "base_uri": "https://localhost:8080/"
        },
        "outputId": "3a52d301-8622-471c-dd92-1fe96f86522a"
      },
      "source": [
        "crime_type_perc = crime_type.value_counts(1)\n",
        "\n",
        "print(\"Вид преступления:\")\n",
        "for i in range(len(crime_type_perc)):\n",
        "  print(\"{:<16} - {:.3f}%\".format(crime_type_perc.index[i],\n",
        "                                  crime_type_perc[i] * 100))\n"
      ],
      "execution_count": 231,
      "outputs": [
        {
          "output_type": "stream",
          "text": [
            "Вид преступления:\n",
            "Мошенничество    - 40.173%\n",
            "Кража            - 25.021%\n",
            "Грабеж и разбой  - 12.428%\n",
            "Угрозы           - 8.629%\n",
            "Нападение        - 8.051%\n",
            "Прочее           - 5.698%\n"
          ],
          "name": "stdout"
        }
      ]
    },
    {
      "cell_type": "markdown",
      "metadata": {
        "id": "karleAWP8htE"
      },
      "source": [
        "Построим по полученным значениям график"
      ]
    },
    {
      "cell_type": "code",
      "metadata": {
        "id": "cZowtXPM8h0R",
        "colab": {
          "base_uri": "https://localhost:8080/",
          "height": 472
        },
        "outputId": "3d65c7cc-e135-4ee5-ff57-0f48bfc3c15b"
      },
      "source": [
        "# Красивые графики\n",
        "plt.figure(figsize=(10, 6), linewidth=10, edgecolor=\"#04253a\") \\\n",
        ".set_facecolor(pltclr)\n",
        "\n",
        "crime_type_perc.plot.bar(color=colors)\n",
        "plt.title('Процентное отношение видов преступлений')\n",
        "plt.grid(which='major', color = 'gray', axis='y', linestyle=':')"
      ],
      "execution_count": 282,
      "outputs": [
        {
          "output_type": "display_data",
          "data": {
            "image/png": "[encoded data removed]",
            "text/plain": [
              "<Figure size 720x432 with 1 Axes>"
            ]
          },
          "metadata": {
            "tags": []
          }
        }
      ]
    },
    {
      "cell_type": "markdown",
      "metadata": {
        "id": "5d8S-b4f7iOT"
      },
      "source": [
        "**Вывод:**\n",
        "> Наиболее частый вид преступления по данным опроса – мошенничество (почти половина от всех преступлений)"
      ]
    },
    {
      "cell_type": "markdown",
      "metadata": {
        "id": "GPdguoTv65Uk"
      },
      "source": [
        "## Анализ влияния возраста на подверженность преступлениям"
      ]
    },
    {
      "cell_type": "markdown",
      "metadata": {
        "id": "xJbcAwFas5oN"
      },
      "source": [
        "Определим влияния возраста человека на подверженность преступлению. "
      ]
    },
    {
      "cell_type": "markdown",
      "metadata": {
        "id": "hHbUxzZ8AXVP"
      },
      "source": [
        "Создадим функцию для замены номера категории на её название"
      ]
    },
    {
      "cell_type": "code",
      "metadata": {
        "id": "PJ2fYgOtAZZA"
      },
      "source": [
        "def age_group(x):\r\n",
        "  if 18 <= x <= 24:\r\n",
        "    return '18-24'\r\n",
        "  elif 25 <= x <= 34:\r\n",
        "    return '25-34'\r\n",
        "  elif 35 <= x <= 44:\r\n",
        "    return '35-44'\r\n",
        "  elif 45 <= x <= 54:\r\n",
        "    return '45-54'\r\n",
        "  elif 55 <= x <= 64:\r\n",
        "    return '55-64'\r\n",
        "  elif x >= 65:\r\n",
        "    return '65+'"
      ],
      "execution_count": 233,
      "outputs": []
    },
    {
      "cell_type": "markdown",
      "metadata": {
        "id": "AtEbBEALBKmI"
      },
      "source": [
        "Создадим необходимую выборку из датафрейма и определим, достаточен ли ее размер для последующего анализа"
      ]
    },
    {
      "cell_type": "code",
      "metadata": {
        "colab": {
          "base_uri": "https://localhost:8080/"
        },
        "id": "r1KSlce_As1k",
        "outputId": "08d66729-8068-483a-dc51-06befc44cba1"
      },
      "source": [
        "resp_age = victims['resp_age'].apply(age_group)\r\n",
        "\r\n",
        "print(\"Выборка содержит\", len(resp_age), \"строк\")"
      ],
      "execution_count": 234,
      "outputs": [
        {
          "output_type": "stream",
          "text": [
            "Выборка содержит 3001 строк\n"
          ],
          "name": "stdout"
        }
      ]
    },
    {
      "cell_type": "markdown",
      "metadata": {
        "id": "3s9Dulw1BMoA"
      },
      "source": [
        "Посчитаем процентное содержание каждой категории в выборке"
      ]
    },
    {
      "cell_type": "code",
      "metadata": {
        "id": "OBPIr8apuxnn",
        "colab": {
          "base_uri": "https://localhost:8080/"
        },
        "outputId": "e79a4642-7e04-4ea8-ce15-5f5b5c208b6f"
      },
      "source": [
        "group_resp_age = resp_age.value_counts(1).sort_index()\n",
        "\n",
        "print(\"Среди пострадавших:\")\n",
        "for i in range(len(group_resp_age)):\n",
        "  print(\"{:^5} лет - {:.3f}%\".format(group_resp_age.index[i],\n",
        "                                  group_resp_age[i] * 100))"
      ],
      "execution_count": 235,
      "outputs": [
        {
          "output_type": "stream",
          "text": [
            "Среди пострадавших:\n",
            "18-24 лет - 11.096%\n",
            "25-34 лет - 28.391%\n",
            "35-44 лет - 21.593%\n",
            "45-54 лет - 15.095%\n",
            "55-64 лет - 13.462%\n",
            " 65+  лет - 10.363%\n"
          ],
          "name": "stdout"
        }
      ]
    },
    {
      "cell_type": "markdown",
      "metadata": {
        "id": "NEWXa_oPsdg4"
      },
      "source": [
        "Построим по полученным значениям график."
      ]
    },
    {
      "cell_type": "code",
      "metadata": {
        "id": "cY3-mipasdw-",
        "colab": {
          "base_uri": "https://localhost:8080/",
          "height": 409
        },
        "outputId": "81654e00-db51-4e30-f37b-ca2bb826ba27"
      },
      "source": [
        "# Красивые графики\n",
        "plt.figure(figsize=(10, 6), linewidth=10, edgecolor=\"#04253a\") \\\n",
        ".set_facecolor(pltclr)\n",
        "group_resp_age.plot.bar(color=colors)\n",
        "\n",
        "plt.title('Влияние возраста на подверженность преступлениям')\n",
        "\n",
        "plt.grid(which='major', color = 'gray', axis='y', linestyle=':')"
      ],
      "execution_count": 284,
      "outputs": [
        {
          "output_type": "display_data",
          "data": {
            "image/png": "[encoded data removed]",
            "text/plain": [
              "<Figure size 720x432 with 1 Axes>"
            ]
          },
          "metadata": {
            "tags": []
          }
        }
      ]
    },
    {
      "cell_type": "markdown",
      "metadata": {
        "id": "0XzX_2B_885k"
      },
      "source": [
        "**Вывод:**\n",
        "> Наиболее подвержены преступлениям лица 25-34 лет, далее процент жертв уменьшается"
      ]
    },
    {
      "cell_type": "markdown",
      "metadata": {
        "id": "doKYuw9XLPku"
      },
      "source": [
        "Теперь попробуем найти зависимость типа преступления от возраста. Для этого создадим выборки по каждой возрастной категории и посчитаем процент каждого вида преступлений среди полученных выборок"
      ]
    },
    {
      "cell_type": "code",
      "metadata": {
        "id": "IQULaV4189AO",
        "colab": {
          "base_uri": "https://localhost:8080/",
          "height": 502
        },
        "outputId": "1d6a4240-5800-4172-99fa-ac890667dfe6"
      },
      "source": [
        "victims['resp_age_group'] = victims['resp_age'].apply(age_group)\n",
        "\n",
        "crime_age = pd.concat([victims['crime_type'].drop(victims['crime_type']\n",
        "                        [victims['crime_type'] == 8.0].index),\n",
        "                        victims['resp_age_group']], axis=1).dropna()\n",
        "\n",
        "s = [crime_age['crime_type'][crime_age['resp_age_group'] == '18-24'].apply(crime_type_rename).value_counts(1).sort_index(),\n",
        "     crime_age['crime_type'][crime_age['resp_age_group'] == '25-34'].apply(crime_type_rename).value_counts(1).sort_index(),\n",
        "     crime_age['crime_type'][crime_age['resp_age_group'] == '35-44'].apply(crime_type_rename).value_counts(1).sort_index(),\n",
        "     crime_age['crime_type'][crime_age['resp_age_group'] == '45-54'].apply(crime_type_rename).value_counts(1).sort_index(),\n",
        "     crime_age['crime_type'][crime_age['resp_age_group'] == '55-64'].apply(crime_type_rename).value_counts(1).sort_index(),\n",
        "     crime_age['crime_type'][crime_age['resp_age_group'] == '65+'].apply(crime_type_rename).value_counts(1).sort_index()]\n",
        "\n",
        "fp = pd.DataFrame(s, index=['18-24', '25-34', '35-44', '45-54', '55-64', '65+'], columns=s[0].index)\n",
        "\n",
        "fig, ax = plt.subplots(linewidth=8, edgecolor=\"#04253a\")\n",
        "\n",
        "ax.set_facecolor('white')\n",
        "fig.set_figwidth(16)    #  ширина Figure\n",
        "fig.set_figheight(8)    #  высота Figure\n",
        "fig.set_facecolor(pltclr)\n",
        "\n",
        "fp.plot.bar(color=colors, ax=ax, width=0.8)\n",
        "\n",
        "plt.grid(which='major', color = 'gray', axis='y', linestyle=':')\n",
        "\n",
        "plt.show()\n"
      ],
      "execution_count": 286,
      "outputs": [
        {
          "output_type": "display_data",
          "data": {
            "image/png": "[encoded data removed]",
            "text/plain": [
              "<Figure size 1152x576 with 1 Axes>"
            ]
          },
          "metadata": {
            "tags": []
          }
        }
      ]
    },
    {
      "cell_type": "markdown",
      "metadata": {
        "id": "a7st-FJr7IqD"
      },
      "source": [
        "**Вывод:**\n",
        "\n",
        "\n",
        "> Пожилые люди чаще других становятся жертвами мошенников\n",
        "\n",
        "> Молодые люди чаще остальных становятся жертвами грабежей и нападений\n",
        "\n",
        "\n",
        "\n"
      ]
    },
    {
      "cell_type": "markdown",
      "metadata": {
        "id": "I71vsMjL7Jtt"
      },
      "source": [
        "## Анализ влияния дохода на подверженность преступлениям"
      ]
    },
    {
      "cell_type": "markdown",
      "metadata": {
        "id": "WfGjYpekxUo8"
      },
      "source": [
        "Для начала найдем процентное отношение каждого вида дохода среди пострадавших."
      ]
    },
    {
      "cell_type": "markdown",
      "metadata": {
        "id": "pw-tFQTJB1QC"
      },
      "source": [
        "Создадим функцию для замены номера категории на её название"
      ]
    },
    {
      "cell_type": "code",
      "metadata": {
        "id": "4sGlkGAgCGLI"
      },
      "source": [
        "def income(x):\r\n",
        "  d = {1.0: \"Бедность\",\r\n",
        "       2.0: \"Низкий\",\r\n",
        "       3.0: \"Средний\",\r\n",
        "       4.0: \"Высокий\",\r\n",
        "       5.0: \"Очень высокий\"}\r\n",
        "  return d[x]"
      ],
      "execution_count": 238,
      "outputs": []
    },
    {
      "cell_type": "markdown",
      "metadata": {
        "id": "YFcEh-UpCgiw"
      },
      "source": [
        "Создадим необходимую выборку из датафрейма и определим, достаточен ли ее размер для последующего анализа"
      ]
    },
    {
      "cell_type": "code",
      "metadata": {
        "colab": {
          "base_uri": "https://localhost:8080/"
        },
        "id": "tWiEu2TlCJru",
        "outputId": "6bfbf1de-76bc-4743-9ed5-a86ebbab260c"
      },
      "source": [
        "resp_income = victims['resp_income'].dropna() \\\r\n",
        "                    .sort_values().apply(income)\r\n",
        "\r\n",
        "print(\"Выборка содержит\", len(resp_income), \"строк\")"
      ],
      "execution_count": 239,
      "outputs": [
        {
          "output_type": "stream",
          "text": [
            "Выборка содержит 2910 строк\n"
          ],
          "name": "stdout"
        }
      ]
    },
    {
      "cell_type": "markdown",
      "metadata": {
        "id": "mEg0oqu-Cj-w"
      },
      "source": [
        "Посчитаем процентное содержание каждой категории в выборке"
      ]
    },
    {
      "cell_type": "code",
      "metadata": {
        "id": "dxXNfHY01SO4",
        "colab": {
          "base_uri": "https://localhost:8080/"
        },
        "outputId": "79866b52-dc94-45cd-8f33-b4b94d36d6eb"
      },
      "source": [
        "group_resp_income = resp_income.value_counts(1). \\\n",
        "                    reindex(resp_income.unique())\n",
        "\n",
        "print(\"Среди пострадавших:\")\n",
        "for i in range(len(group_resp_income)):\n",
        "  print(\"{:<13} - {:.3f}%\".format(group_resp_income.index[i],\n",
        "                                  group_resp_income[i] * 100))\n"
      ],
      "execution_count": 240,
      "outputs": [
        {
          "output_type": "stream",
          "text": [
            "Среди пострадавших:\n",
            "Бедность      - 10.103%\n",
            "Низкий        - 27.491%\n",
            "Средний       - 35.739%\n",
            "Высокий       - 18.969%\n",
            "Очень высокий - 7.698%\n"
          ],
          "name": "stdout"
        }
      ]
    },
    {
      "cell_type": "markdown",
      "metadata": {
        "id": "yr9SkDtbxNve"
      },
      "source": [
        "Построим по полученным значениям график."
      ]
    },
    {
      "cell_type": "code",
      "metadata": {
        "id": "1N1ARhVPxQRd",
        "colab": {
          "base_uri": "https://localhost:8080/",
          "height": 460
        },
        "outputId": "75469da7-dc82-4ab5-c1f2-4abf28afec8a"
      },
      "source": [
        "# Красивые графики\n",
        "plt.figure(figsize=(10, 6), linewidth=8, edgecolor=\"#04253a\") \\\n",
        ".set_facecolor(pltclr)\n",
        "\n",
        "group_resp_income.plot.bar(color=colors)\n",
        "\n",
        "plt.title('Влияние дохода на подверженность преступлениям')\n",
        "\n",
        "plt.grid(which='major', color = 'gray', axis='y', linestyle=':')"
      ],
      "execution_count": 287,
      "outputs": [
        {
          "output_type": "display_data",
          "data": {
            "image/png": "[encoded data removed]",
            "text/plain": [
              "<Figure size 720x432 with 1 Axes>"
            ]
          },
          "metadata": {
            "tags": []
          }
        }
      ]
    },
    {
      "cell_type": "markdown",
      "metadata": {
        "id": "WOcx1Nr7xo0-"
      },
      "source": [
        "**Вывод**:\n",
        "\n",
        "\n",
        "> Распределение процентного отношения подверженности преступлениям среди разных уровней дохода близко к нормальному распределению.\n",
        "\n"
      ]
    },
    {
      "cell_type": "markdown",
      "metadata": {
        "id": "1cd-W8s07P_r"
      },
      "source": [
        "Теперь попробуем определить зависимость между уровнем дохода и типом преступления. Для этого создадим выборки по каждому уровню дохода и найдем процентное соотношение видов преступлений среди полученных выборок"
      ]
    },
    {
      "cell_type": "code",
      "metadata": {
        "id": "7rN7Rx0VwpuA",
        "colab": {
          "base_uri": "https://localhost:8080/",
          "height": 825
        },
        "outputId": "a3854e63-0453-4dc7-cf8e-853cff301076"
      },
      "source": [
        "#Графики процента вида преступления для каждого уровня доходов\n",
        "\n",
        "# Переменная, содержащая уровень благосостояния жертвы и тип преступления, которому она подверглась\n",
        "crime_income = pd.concat([victims['crime_type'].drop(victims['crime_type']\n",
        "                        [victims['crime_type'] == 8.0].index),\n",
        "                        victims['resp_income']], axis=1).dropna()\n",
        "s = []\n",
        "for i in range(1, 6):\n",
        "  s.append(crime_income[crime_income['resp_income'] == i]['crime_type']\n",
        "           .apply(crime_type_rename).value_counts(1).sort_index())\n",
        "  \n",
        "# Красивые графики\n",
        "plt.figure(figsize=(20, 20), linewidth=8, edgecolor=\"#04253a\") \\\n",
        ".set_facecolor(pltclr)\n",
        "\n",
        "plt.subplots_adjust(wspace=0.2, hspace=0.5)\n",
        "\n",
        "plt.subplot(3, 3, 1).set_title(\"Бедность\")\n",
        "s[0].plot.bar(color=colors)\n",
        "plt.ylim(0, 0.45)\n",
        "plt.grid(which='major', color = 'gray', axis='y', linestyle=':')\n",
        "\n",
        "plt.subplot(3, 3, 2).set_title(\"Низкий\")\n",
        "s[1].plot.bar(color=colors)\n",
        "plt.ylim(0, 0.45)\n",
        "plt.grid(which='major', color = 'gray', axis='y', linestyle=':')\n",
        "\n",
        "plt.subplot(3, 3, 3).set_title(\"Средний\")\n",
        "s[2].plot.bar(color=colors)\n",
        "plt.ylim(0, 0.45)\n",
        "plt.grid(which='major', color = 'gray', axis='y', linestyle=':')\n",
        "\n",
        "plt.subplot(3, 3, 4).set_title(\"Высокий\")\n",
        "s[3].plot.bar(color=colors)\n",
        "plt.ylim(0, 0.45)\n",
        "plt.grid(which='major', color = 'gray', axis='y', linestyle=':')\n",
        "\n",
        "plt.subplot(3, 3, 5).set_title(\"Очень высокий\")\n",
        "s[4].plot.bar(color=colors)\n",
        "plt.ylim(0, 0.45)\n",
        "plt.grid(which='major', color = 'gray', axis='y', linestyle=':')"
      ],
      "execution_count": 290,
      "outputs": [
        {
          "output_type": "display_data",
          "data": {
            "image/png": "[encoded data removed]",
            "text/plain": [
              "<Figure size 1440x1440 with 5 Axes>"
            ]
          },
          "metadata": {
            "tags": []
          }
        }
      ]
    },
    {
      "cell_type": "markdown",
      "metadata": {
        "id": "CYvD8xiSyHYG"
      },
      "source": [
        "**Вывод:**\n",
        "\n",
        "> Среди всех уровней дохода наиболее распространённым видом преступления является мошенничество\n",
        "\n",
        "> Бедные больше других подвержены грабежам и разбоям\n",
        "\n",
        "> Жертвами угроз и нападений чаще всего становятся лица с очень высоким уровнем дохода\n",
        "\n",
        "> Высокий класс больше других подвержен кражам\n",
        "\n"
      ]
    },
    {
      "cell_type": "markdown",
      "metadata": {
        "id": "2FAll3_Q7Qor"
      },
      "source": [
        "## Анализ скорости реагирования правоохранителей"
      ]
    },
    {
      "cell_type": "markdown",
      "metadata": {
        "id": "N8hyA1Bu0pQb"
      },
      "source": [
        "Определим скорость реагирования правоохранительных органов на преступления."
      ]
    },
    {
      "cell_type": "markdown",
      "metadata": {
        "id": "oHI-lmDcDJKo"
      },
      "source": [
        "Создадим функцию для замены номера категории на её название"
      ]
    },
    {
      "cell_type": "code",
      "metadata": {
        "id": "3KhHBrTwDJvj"
      },
      "source": [
        "def reaction_time_group(x):\r\n",
        "  d = {1.0: \"Менее чем 30 минут\",\r\n",
        "       2.0: \"Менее чем 1 час\",\r\n",
        "       3.0: \"Менее чем 3 часа\",\r\n",
        "       4.0: \"Менее чем 6 часов\",\r\n",
        "       5.0: \"Менее чем 12 часов\",\r\n",
        "       6.0: \"Не приехали\"}\r\n",
        "  return d[x]"
      ],
      "execution_count": 243,
      "outputs": []
    },
    {
      "cell_type": "markdown",
      "metadata": {
        "id": "-8J37WZuEKM-"
      },
      "source": [
        "Создадим необходимую выборку из датафрейма и определим, достаточен ли ее размер для последующего анализа"
      ]
    },
    {
      "cell_type": "code",
      "metadata": {
        "colab": {
          "base_uri": "https://localhost:8080/"
        },
        "id": "_jAvFtl5DMHI",
        "outputId": "e86d6277-2834-4124-f514-2e62837e1ff2"
      },
      "source": [
        "police_react = victims['victim_police_reaction_time'] \\\r\n",
        "              .dropna().sort_values().drop(\r\n",
        "              victims['victim_police_reaction_time']\r\n",
        "              [victims['victim_police_reaction_time'] == 7.0].index) \\\r\n",
        "              .apply(reaction_time_group)\r\n",
        "\r\n",
        "print(\"Выборка содержит\", len(police_react), \"строк\")"
      ],
      "execution_count": 244,
      "outputs": [
        {
          "output_type": "stream",
          "text": [
            "Выборка содержит 422 строк\n"
          ],
          "name": "stdout"
        }
      ]
    },
    {
      "cell_type": "markdown",
      "metadata": {
        "id": "s5cfHABBEMmH"
      },
      "source": [
        "Посчитаем процентное содержание каждой категории в выборке"
      ]
    },
    {
      "cell_type": "code",
      "metadata": {
        "id": "4BUn3PN8-EUz",
        "colab": {
          "base_uri": "https://localhost:8080/"
        },
        "outputId": "c7d18262-b715-413f-8cb0-677fba372d0c"
      },
      "source": [
        "group_police_reaction = police_react.value_counts(1) \\\n",
        "                        .reindex(police_react.unique())\n",
        "\n",
        "print(\"Полиция среагировала:\")\n",
        "for i in range(len(group_police_reaction)):\n",
        "  print(\"{:<18} - {:.3f}%\".format(group_police_reaction.index[i],\n",
        "                                  group_police_reaction[i] * 100))\n"
      ],
      "execution_count": 245,
      "outputs": [
        {
          "output_type": "stream",
          "text": [
            "Полиция среагировала:\n",
            "Менее чем 30 минут - 50.000%\n",
            "Менее чем 1 час    - 25.592%\n",
            "Менее чем 3 часа   - 10.427%\n",
            "Менее чем 6 часов  - 1.659%\n",
            "Менее чем 12 часов - 2.844%\n",
            "Не приехали        - 9.479%\n"
          ],
          "name": "stdout"
        }
      ]
    },
    {
      "cell_type": "markdown",
      "metadata": {
        "id": "mUYio96i0gzF"
      },
      "source": [
        "Построим по полученным значениям график.\n"
      ]
    },
    {
      "cell_type": "code",
      "metadata": {
        "id": "s4oSu-ey0g7l",
        "colab": {
          "base_uri": "https://localhost:8080/",
          "height": 487
        },
        "outputId": "b6ea8e69-a8c9-4451-984d-98debd78857f"
      },
      "source": [
        "# Красивые графики\n",
        "plt.figure(figsize=(10, 6), linewidth=8, edgecolor=\"#04253a\") \\\n",
        ".set_facecolor(pltclr)\n",
        "\n",
        "group_police_reaction.plot.bar(color=colors)\n",
        "\n",
        "plt.title('Скорость реагирования правоохранителей')\n",
        "\n",
        "plt.grid(which='major', color = 'gray', axis='y', linestyle=':')"
      ],
      "execution_count": 291,
      "outputs": [
        {
          "output_type": "display_data",
          "data": {
            "image/png": "[encoded data removed]",
            "text/plain": [
              "<Figure size 720x432 with 1 Axes>"
            ]
          },
          "metadata": {
            "tags": []
          }
        }
      ]
    },
    {
      "cell_type": "markdown",
      "metadata": {
        "id": "iEG_14bq7bKL"
      },
      "source": [
        "**Вывод:**\n",
        "> В половине случаев правоохранители реагируют на вызов с должной скоростью\n",
        "\n",
        "> Почти в каждом десятом случае полицейские не приезжают по вызову"
      ]
    },
    {
      "cell_type": "markdown",
      "metadata": {
        "id": "-owgus0J-BOD"
      },
      "source": [
        "## Анализ материального ущерба пострадавших"
      ]
    },
    {
      "cell_type": "markdown",
      "metadata": {
        "id": "7X2uU6aALy1d"
      },
      "source": [
        "Проанализируем материальный ущерб пострадавшим, определим медианное и среднее значение материального ущерба."
      ]
    },
    {
      "cell_type": "markdown",
      "metadata": {
        "id": "FRhQeEHkFRS9"
      },
      "source": [
        "Создадим выборку, содержащую материальный ущерб жертв преступлений и посчитаем её размер"
      ]
    },
    {
      "cell_type": "code",
      "metadata": {
        "colab": {
          "base_uri": "https://localhost:8080/"
        },
        "id": "rGcQinATFaIn",
        "outputId": "c133d198-e858-4367-b243-b50cb9f345b2"
      },
      "source": [
        "damage_rub = victims['victim_damage_rub'] \\\r\n",
        "            [victims['victim_damage_rub'] != 0.0].dropna() \r\n",
        "\r\n",
        "print(\"Выборка содержит\", len(damage_rub), \"строк\")"
      ],
      "execution_count": 247,
      "outputs": [
        {
          "output_type": "stream",
          "text": [
            "Выборка содержит 2007 строк\n"
          ],
          "name": "stdout"
        }
      ]
    },
    {
      "cell_type": "markdown",
      "metadata": {
        "id": "8Ejm5MeFFqor"
      },
      "source": [
        "Теперь посчитаем средний и медианный материальные ущербы"
      ]
    },
    {
      "cell_type": "code",
      "metadata": {
        "colab": {
          "base_uri": "https://localhost:8080/"
        },
        "id": "pSNJfS5PFpu3",
        "outputId": "77d88267-b4ab-4e4c-b7a3-0d30bb96b26c"
      },
      "source": [
        "damage_median = damage_rub.median()\r\n",
        "\r\n",
        "damage_mean = damage_rub.mean()\r\n",
        "\r\n",
        "print(\"Медиана материального ушерба - {} рублей\"\r\n",
        "        .format(int(damage_median)))\r\n",
        "\r\n",
        "print(\"Среднее материального ушерба - {} рублей\"\r\n",
        "        .format(int(damage_mean)))"
      ],
      "execution_count": 248,
      "outputs": [
        {
          "output_type": "stream",
          "text": [
            "Медиана материального ушерба - 12000 рублей\n",
            "Среднее материального ушерба - 3116267 рублей\n"
          ],
          "name": "stdout"
        }
      ]
    },
    {
      "cell_type": "markdown",
      "metadata": {
        "id": "w53BDV9QF761"
      },
      "source": [
        "Мы можем заметить что среднее значение значительно отличается от медианного, причина скорее всего скрывается в выбросах, попробуем их исключить."
      ]
    },
    {
      "cell_type": "code",
      "metadata": {
        "colab": {
          "base_uri": "https://localhost:8080/"
        },
        "id": "TjI8PRQ9GGbH",
        "outputId": "48e7bd45-cbac-4f5f-96c8-09b6bca4fa35"
      },
      "source": [
        "print(\"До исключения выбросов выборка содержала\", len(damage_rub), \"строк\")\r\n",
        "\r\n",
        "damage_rub = damage_rub[(damage_rub * damage_median\r\n",
        "                         / np.std(damage_rub)) < 3]\r\n",
        "\r\n",
        "print(\"После исключения выбросов выборка содержит\", len(damage_rub), \"строк\")"
      ],
      "execution_count": 249,
      "outputs": [
        {
          "output_type": "stream",
          "text": [
            "До исключения выбросов выборка содержала 2007 строк\n",
            "После исключения выбросов выборка содержит 1452 строк\n"
          ],
          "name": "stdout"
        }
      ]
    },
    {
      "cell_type": "markdown",
      "metadata": {
        "id": "62oQDAOwGsXb"
      },
      "source": [
        "Повторим вычисления"
      ]
    },
    {
      "cell_type": "code",
      "metadata": {
        "id": "Hs1GfCRYfVKv",
        "colab": {
          "base_uri": "https://localhost:8080/"
        },
        "outputId": "170b14d2-8e6c-4945-a1a3-a07bcccc86b2"
      },
      "source": [
        "damage_median_new = damage_rub.median()\n",
        "\n",
        "damage_mean_new = damage_rub.mean()\n",
        "\n",
        "print(\"Медиана материального ушерба после исключения выбросов - {} рублей\"\n",
        "        .format(int(damage_median_new)))\n",
        "\n",
        "print(\"Отличие между медианой до исключения выбросов и после - {} рублей\\n\"\n",
        "        .format(abs(int(damage_median_new) - int(damage_median))))\n",
        "\n",
        "print(\"Среднее материального ушерба после исключения выбросов - {} рублей\"\n",
        "        .format(int(damage_mean_new)))\n",
        "\n",
        "print(\"Отличие между средним до исключения выбросов и после - {} рублей\"\n",
        "        .format(abs(int(damage_mean_new) - int(damage_mean))))"
      ],
      "execution_count": 250,
      "outputs": [
        {
          "output_type": "stream",
          "text": [
            "Медиана материального ушерба после исключения выбросов - 7000 рублей\n",
            "Отличие между медианой до исключения выбросов и после - 5000 рублей\n",
            "\n",
            "Среднее материального ушерба после исключения выбросов - 9818 рублей\n",
            "Отличие между средним до исключения выбросов и после - 3106449 рублей\n"
          ],
          "name": "stdout"
        }
      ]
    },
    {
      "cell_type": "markdown",
      "metadata": {
        "id": "WsMl-iApMQXh"
      },
      "source": [
        "Построим по полученным значениям график."
      ]
    },
    {
      "cell_type": "code",
      "metadata": {
        "id": "Yau1LKOwMQhV",
        "colab": {
          "base_uri": "https://localhost:8080/",
          "height": 390
        },
        "outputId": "3a7e5870-bc66-405d-e6d5-94d2135f810c"
      },
      "source": [
        "# Красивые графики\n",
        "damage_index = [int(x) for x in damage_rub.index.tolist()]\n",
        "\n",
        "plt.figure(figsize=(12, 6), linewidth=8, edgecolor=\"#04253a\") \\\n",
        ".set_facecolor(pltclr)\n",
        "\n",
        "plt.hist(damage_rub, color='dimgray')\n",
        "plt.plot([damage_median_new, damage_median_new], [0, 500], 'r--', linewidth=3)\n",
        "plt.plot([damage_mean_new, damage_mean_new], [0, 500], 'b--', linewidth=3)\n",
        "\n",
        "med_patch = mpatches.Patch(color='red', label='Медиана')\n",
        "mean_patch = mpatches.Patch(color='blue', label='Среднее')\n",
        "plt.legend(handles=[med_patch, mean_patch])\n",
        "\n",
        "plt.title('Материальный ущерб пострадавшим')\n",
        "plt.grid(which='major', color = 'gray', axis='y', linestyle=':') # boxplot"
      ],
      "execution_count": 293,
      "outputs": [
        {
          "output_type": "display_data",
          "data": {
            "image/png": "[encoded data removed]",
            "text/plain": [
              "<Figure size 864x432 with 1 Axes>"
            ]
          },
          "metadata": {
            "tags": []
          }
        }
      ]
    },
    {
      "cell_type": "markdown",
      "metadata": {
        "id": "Oe9tPXKz-G7U"
      },
      "source": [
        "**Вывод:**\n",
        "> Медианный материальный ущерб после исключения выбросов данных, полученный пострадавшими в результате преступления, составляет 7 000 рублей.\n",
        "\n",
        "> Средний материальный ущерб после исключения выбросов данных, полученный пострадавшими в результате преступления, составляет 9 818 рублей"
      ]
    },
    {
      "cell_type": "markdown",
      "metadata": {
        "id": "--PFEkhy-W3M"
      },
      "source": [
        "## Анализ зависимости вида преступлений от времени суток"
      ]
    },
    {
      "cell_type": "markdown",
      "metadata": {
        "id": "Mnl1cUcZ10QK"
      },
      "source": [
        "Определим процентное соотношение времени суток в момент совершения преступления."
      ]
    },
    {
      "cell_type": "markdown",
      "metadata": {
        "id": "7g2YIvtqEShg"
      },
      "source": [
        "Создадим функцию для замены номера категории на её название"
      ]
    },
    {
      "cell_type": "code",
      "metadata": {
        "id": "fpZ8D0R0ES5_"
      },
      "source": [
        "def if_day(x):\r\n",
        "  if x == 1.0:\r\n",
        "    return 'День'\r\n",
        "  else:\r\n",
        "    return 'Ночь'"
      ],
      "execution_count": 252,
      "outputs": []
    },
    {
      "cell_type": "markdown",
      "metadata": {
        "id": "RSqFyDOEFNeg"
      },
      "source": [
        "Создадим необходимую выборку из датафрейма и определим, достаточен ли ее размер для последующего анализа"
      ]
    },
    {
      "cell_type": "code",
      "metadata": {
        "colab": {
          "base_uri": "https://localhost:8080/"
        },
        "id": "gaATaZBMEVq7",
        "outputId": "bce76e05-458f-42f7-8aed-fc27806da744"
      },
      "source": [
        "victims_time = victims['crime_is_daytime'].dropna() \\\r\n",
        ".apply(if_day)\r\n",
        "\r\n",
        "print(\"Выборка содержит\", len(victims_time), \"строк\")"
      ],
      "execution_count": 253,
      "outputs": [
        {
          "output_type": "stream",
          "text": [
            "Выборка содержит 3001 строк\n"
          ],
          "name": "stdout"
        }
      ]
    },
    {
      "cell_type": "markdown",
      "metadata": {
        "id": "pCRugQQZFC2P"
      },
      "source": [
        "Посчитаем процентное содержание каждой категории в выборке"
      ]
    },
    {
      "cell_type": "code",
      "metadata": {
        "id": "coyl-d6Srsn1",
        "colab": {
          "base_uri": "https://localhost:8080/"
        },
        "outputId": "109d947e-d22d-43cb-98b3-08748f41b8e0"
      },
      "source": [
        "victims_time_count = victims_time.value_counts(1)\n",
        "\n",
        "print(\"Время суток в момент совершения преступления:\")\n",
        "for i in range(len(victims_time_count)):\n",
        "  print(\"{} - {:.3f}%\".format(victims_time_count.index[i],\n",
        "                                  victims_time_count[i] * 100))"
      ],
      "execution_count": 254,
      "outputs": [
        {
          "output_type": "stream",
          "text": [
            "Время суток в момент совершения преступления:\n",
            "День - 65.178%\n",
            "Ночь - 34.822%\n"
          ],
          "name": "stdout"
        }
      ]
    },
    {
      "cell_type": "markdown",
      "metadata": {
        "id": "KPsxIsOT1x5M"
      },
      "source": [
        "Построим по полученным значениям график."
      ]
    },
    {
      "cell_type": "code",
      "metadata": {
        "id": "0NY0FHsL1X0p",
        "colab": {
          "base_uri": "https://localhost:8080/",
          "height": 373
        },
        "outputId": "8b1fe12b-21a9-4e6e-f720-9bde1a9f9674"
      },
      "source": [
        "#Красивые графики\n",
        "ax = plt.figure(figsize=(10, 6), linewidth=8, edgecolor=\"#04253a\")\n",
        "ax.set_facecolor(digclr)\n",
        "\n",
        "\n",
        "plt.pie(victims_time_count, labels=victims_time_count.index, colors=('wheat','dimgray'),\n",
        "        explode=(0, 0.15), shadow=True, startangle=90, autopct='%1.1f%%')\n",
        "\n",
        "plt.title('Зависимость числа преступлений от времени суток')\n",
        "\n",
        "plt.grid(which='major', color = 'gray', axis='y', linestyle=':')"
      ],
      "execution_count": 296,
      "outputs": [
        {
          "output_type": "display_data",
          "data": {
            "image/png": "[encoded data removed]",
            "text/plain": [
              "<Figure size 720x432 with 1 Axes>"
            ]
          },
          "metadata": {
            "tags": []
          }
        }
      ]
    },
    {
      "cell_type": "markdown",
      "metadata": {
        "id": "aFYNZxBu-ceq"
      },
      "source": [
        "**Вывод:**\n",
        "> Большая часть преступлений совершается в дневное время суток"
      ]
    },
    {
      "cell_type": "markdown",
      "metadata": {
        "id": "S3eJbi9v2AWr"
      },
      "source": [
        "Затем попробуем найти зависимость между определенным видом преступления и временем суток. Для этого создадим выборки по каждому виду преступлений и посчитаем процентное соотношение преступлений ночью и преступлений днем"
      ]
    },
    {
      "cell_type": "code",
      "metadata": {
        "id": "ArL48g-42AsD",
        "colab": {
          "base_uri": "https://localhost:8080/",
          "height": 402
        },
        "outputId": "74cb6a31-a2d2-42e0-9567-e21af712aff8"
      },
      "source": [
        "crimes = victims['crime_type'][victims['crime_type'] != 8.0]\n",
        "\n",
        "daytime_crime = crimes[victims['crime_is_daytime'] == 1.0] \\\n",
        ".value_counts(1).sort_index().tolist()\n",
        "\n",
        "nighttime_crime = crimes[victims['crime_is_daytime'] == 0.0] \\\n",
        ".value_counts(1).sort_index().tolist()\n",
        "\n",
        "# Красивые графики\n",
        "tick_names = ['Нападение',\n",
        "              'Угрозы',\n",
        "              'Грабеж и разбой',\n",
        "              'Кража',\n",
        "              'Мошенничество',\n",
        "              'Удаленное\\nмошенничество',\n",
        "              'Прочее'] \n",
        "\n",
        "fig, ax = plt.subplots(linewidth=8, edgecolor=\"#04253a\")\n",
        "\n",
        "ax.bar(tick_names, daytime_crime, align='edge',\n",
        "       width=0.4, color='wheat')\n",
        "ax.bar(tick_names, nighttime_crime, align='edge',\n",
        "       width=-0.4, color='dimgray')\n",
        "plt.grid(which='major', color = 'gray', axis='y', linestyle=':')\n",
        "\n",
        "plt.title('Зависимость вида преступлений от времени суток')\n",
        "\n",
        "day_patch = mpatches.Patch(color='wheat', label='День')\n",
        "night_patch = mpatches.Patch(color='dimgray', label='Ночь')\n",
        "ax.legend(handles=[day_patch, night_patch])\n",
        "\n",
        "ax.set_facecolor('white')\n",
        "fig.set_figwidth(12)    #  ширина Figure\n",
        "fig.set_figheight(6)    #  высота Figure\n",
        "fig.set_facecolor(pltclr)"
      ],
      "execution_count": 295,
      "outputs": [
        {
          "output_type": "display_data",
          "data": {
            "image/png": "[encoded data removed]",
            "text/plain": [
              "<Figure size 864x432 with 1 Axes>"
            ]
          },
          "metadata": {
            "tags": []
          }
        }
      ]
    },
    {
      "cell_type": "markdown",
      "metadata": {
        "id": "LX18Y_2J2BZi"
      },
      "source": [
        "**Вывод:**\n",
        "> Наиболее серьезные преступления, такие как нападения, угрозы, грабежи и разбои, кражи, совершаются в большинстве случаев в тёмное время суток\n",
        "\n",
        "> Преступления, связанные с мошенничеством и удаленным мошенничеством, чаще всего совершаются днём\n",
        "\n",
        "> Таким образом, несмотря на то, что большинство преступлений осуществляется днём, наиболее тяжкие из них осуществляются ночью. Процент дневных преступлений больше, поскольку значительная часть от них занимает мошенничество, осуществляемое в большинстве случаев в светлое время суток."
      ]
    }
  ]
}